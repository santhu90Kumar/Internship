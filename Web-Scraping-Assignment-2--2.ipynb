{
 "cells": [
  {
   "cell_type": "markdown",
   "metadata": {},
   "source": [
    "# Q1: Write a python program to scrape data for “Data Analyst” Job position in “Bangalore” location. You have to scrape the job-title, job-location, company_name,experience_required. You have to scrape first 10 jobs data."
   ]
  },
  {
   "cell_type": "raw",
   "metadata": {},
   "source": [
    "# !pip install undetected-chromedriver"
   ]
  },
  {
   "cell_type": "code",
   "execution_count": 13,
   "metadata": {},
   "outputs": [],
   "source": [
    "#importing the necessary libraries\n",
    "\n",
    "import undetected_chromedriver.v2 as uc\n",
    "import selenium\n",
    "import pandas as pd\n",
    "from selenium import webdriver\n",
    "import time\n",
    "import warnings\n",
    "warnings.filterwarnings(\"ignore\")"
   ]
  },
  {
   "cell_type": "code",
   "execution_count": 16,
   "metadata": {},
   "outputs": [],
   "source": [
    "# Lets connect to web driver\n",
    "driver = webdriver.Chrome(\"chromedriver.exe\")\n",
    "driver = uc.Chrome()\n",
    "with driver:\n",
    "    driver.get('https://www.naukri.com/')"
   ]
  },
  {
   "cell_type": "code",
   "execution_count": 17,
   "metadata": {},
   "outputs": [
    {
     "data": {
      "text/plain": [
       "<selenium.webdriver.remote.webelement.WebElement (session=\"0cd45e1b7b4c36d0ac8d1f6e42d24ed8\", element=\"a9f567ad-3aff-4fe8-814d-c96bc6da986c\")>"
      ]
     },
     "execution_count": 17,
     "metadata": {},
     "output_type": "execute_result"
    }
   ],
   "source": [
    "job_search = driver.find_element_by_xpath('//input[@class=\"sugInp\"]')\n",
    "job_search"
   ]
  },
  {
   "cell_type": "code",
   "execution_count": 18,
   "metadata": {},
   "outputs": [],
   "source": [
    "# write an search bar\n",
    "job_search.send_keys(\"Data Analyst\")"
   ]
  },
  {
   "cell_type": "code",
   "execution_count": 19,
   "metadata": {},
   "outputs": [
    {
     "data": {
      "text/plain": [
       "<selenium.webdriver.remote.webelement.WebElement (session=\"0cd45e1b7b4c36d0ac8d1f6e42d24ed8\", element=\"a9f567ad-3aff-4fe8-814d-c96bc6da986c\")>"
      ]
     },
     "execution_count": 19,
     "metadata": {},
     "output_type": "execute_result"
    }
   ],
   "source": [
    "# finding element for job location bar\n",
    "search_loc = driver.find_element_by_xpath('//input[@class=\"sugInp\"]')\n",
    "search_loc"
   ]
  },
  {
   "cell_type": "code",
   "execution_count": 20,
   "metadata": {},
   "outputs": [],
   "source": [
    "search_btn = driver.find_element_by_xpath('//button[@class=\"btn\"]')\n",
    "search_btn.click()"
   ]
  },
  {
   "cell_type": "code",
   "execution_count": 21,
   "metadata": {},
   "outputs": [
    {
     "data": {
      "text/plain": [
       "[<selenium.webdriver.remote.webelement.WebElement (session=\"0cd45e1b7b4c36d0ac8d1f6e42d24ed8\", element=\"1c2c7717-5adf-4af3-b9db-ccc26f38d2f4\")>,\n",
       " <selenium.webdriver.remote.webelement.WebElement (session=\"0cd45e1b7b4c36d0ac8d1f6e42d24ed8\", element=\"cd80f3d7-490b-4d8b-aad5-feac30299df4\")>,\n",
       " <selenium.webdriver.remote.webelement.WebElement (session=\"0cd45e1b7b4c36d0ac8d1f6e42d24ed8\", element=\"91f479ec-ed19-44ca-8f65-8ea71da4dd92\")>,\n",
       " <selenium.webdriver.remote.webelement.WebElement (session=\"0cd45e1b7b4c36d0ac8d1f6e42d24ed8\", element=\"9f7fd4d2-317d-447f-b94f-66bc65bc901c\")>,\n",
       " <selenium.webdriver.remote.webelement.WebElement (session=\"0cd45e1b7b4c36d0ac8d1f6e42d24ed8\", element=\"24386b98-1473-4276-927e-ba6fd6aabe91\")>,\n",
       " <selenium.webdriver.remote.webelement.WebElement (session=\"0cd45e1b7b4c36d0ac8d1f6e42d24ed8\", element=\"30884eb5-77fb-472f-a0e0-de4d02add811\")>,\n",
       " <selenium.webdriver.remote.webelement.WebElement (session=\"0cd45e1b7b4c36d0ac8d1f6e42d24ed8\", element=\"37d28e8a-37b1-49aa-8e90-d563b9706d09\")>,\n",
       " <selenium.webdriver.remote.webelement.WebElement (session=\"0cd45e1b7b4c36d0ac8d1f6e42d24ed8\", element=\"6475315b-1ce5-4922-bac3-62d7e2cbdbb2\")>,\n",
       " <selenium.webdriver.remote.webelement.WebElement (session=\"0cd45e1b7b4c36d0ac8d1f6e42d24ed8\", element=\"5b6f73d1-a27b-4627-8563-efcdd3d2458f\")>,\n",
       " <selenium.webdriver.remote.webelement.WebElement (session=\"0cd45e1b7b4c36d0ac8d1f6e42d24ed8\", element=\"7de543fe-9795-4b76-88d9-55850e216884\")>,\n",
       " <selenium.webdriver.remote.webelement.WebElement (session=\"0cd45e1b7b4c36d0ac8d1f6e42d24ed8\", element=\"b36501dd-13db-4140-beba-30e6a2098ff6\")>,\n",
       " <selenium.webdriver.remote.webelement.WebElement (session=\"0cd45e1b7b4c36d0ac8d1f6e42d24ed8\", element=\"69f6792c-d162-48fb-8b6e-62367e882124\")>,\n",
       " <selenium.webdriver.remote.webelement.WebElement (session=\"0cd45e1b7b4c36d0ac8d1f6e42d24ed8\", element=\"02f53510-ecec-4045-921c-3b985f588224\")>,\n",
       " <selenium.webdriver.remote.webelement.WebElement (session=\"0cd45e1b7b4c36d0ac8d1f6e42d24ed8\", element=\"bc681b3c-b39a-43a3-a5da-8b0e8d683ad9\")>,\n",
       " <selenium.webdriver.remote.webelement.WebElement (session=\"0cd45e1b7b4c36d0ac8d1f6e42d24ed8\", element=\"e91f5fee-a9f3-47d8-a4f3-20e76dcd1616\")>,\n",
       " <selenium.webdriver.remote.webelement.WebElement (session=\"0cd45e1b7b4c36d0ac8d1f6e42d24ed8\", element=\"a9810f58-3d15-4e97-b36b-ccb47c020f47\")>,\n",
       " <selenium.webdriver.remote.webelement.WebElement (session=\"0cd45e1b7b4c36d0ac8d1f6e42d24ed8\", element=\"7bb3af12-4a34-4a5a-ab9d-3b44efcec70b\")>,\n",
       " <selenium.webdriver.remote.webelement.WebElement (session=\"0cd45e1b7b4c36d0ac8d1f6e42d24ed8\", element=\"d5c9a71a-69a5-49aa-a0eb-d72ee6152cb5\")>,\n",
       " <selenium.webdriver.remote.webelement.WebElement (session=\"0cd45e1b7b4c36d0ac8d1f6e42d24ed8\", element=\"f60ed4ec-d51d-4f94-a184-6a376fbaa2db\")>,\n",
       " <selenium.webdriver.remote.webelement.WebElement (session=\"0cd45e1b7b4c36d0ac8d1f6e42d24ed8\", element=\"f78c262a-5b1a-4767-b5c2-38874b585dd9\")>]"
      ]
     },
     "execution_count": 21,
     "metadata": {},
     "output_type": "execute_result"
    }
   ],
   "source": [
    "#so lets extract all the tags having the job titles\n",
    "title_tags = driver.find_elements_by_xpath('//a[@class=\"title fw500 ellipsis\"]')\n",
    "title_tags"
   ]
  },
  {
   "cell_type": "code",
   "execution_count": 22,
   "metadata": {},
   "outputs": [
    {
     "data": {
      "text/plain": [
       "['Senior Data Analyst',\n",
       " 'Product Data Controller- Data Analyst',\n",
       " 'Merilytics - Business Analyst - Data Analytics -IIT/NIT/BITS',\n",
       " 'Junior Data Research Analyst',\n",
       " 'Junior Data Research Analyst',\n",
       " 'Data Analyst/Sr.Data Engineer',\n",
       " 'SENIOR DATA ANALYST',\n",
       " 'Tcs Hiring For Senior Data Analyst (bfsi domain)',\n",
       " 'Executive Data Analyst',\n",
       " 'Tcs Hiring For MDM (master data management) Data Analyst (bfsi domain)',\n",
       " 'Business Data Analyst',\n",
       " 'Business Data Analyst',\n",
       " 'Business Data Analyst - Google Data Studio & SQL',\n",
       " 'Senior Data Analyst - Hyderabad, TG',\n",
       " 'Data Analyst',\n",
       " 'Business Analytics / Data Analyst / Process Analyst / Fresher - MNC',\n",
       " 'Data Analyst',\n",
       " 'Data Analyst / Business Analytics / MIS Executive - Fresher Jobs- MNC',\n",
       " 'Trainee - Junior Data Analyst',\n",
       " 'Senior Data Analyst IDAM Services']"
      ]
     },
     "execution_count": 22,
     "metadata": {},
     "output_type": "execute_result"
    }
   ],
   "source": [
    "# now the tect of the job title is inside the tags extracted above\n",
    "job_titles = []\n",
    "for i in title_tags:\n",
    "    job_titles.append(i.text)\n",
    "job_titles"
   ]
  },
  {
   "cell_type": "code",
   "execution_count": 23,
   "metadata": {},
   "outputs": [
    {
     "data": {
      "text/plain": [
       "[<selenium.webdriver.remote.webelement.WebElement (session=\"0cd45e1b7b4c36d0ac8d1f6e42d24ed8\", element=\"258a7fcd-3c55-4673-b292-4d904dd36c14\")>,\n",
       " <selenium.webdriver.remote.webelement.WebElement (session=\"0cd45e1b7b4c36d0ac8d1f6e42d24ed8\", element=\"fb9e3256-0080-4e2c-bb7c-3c262290de7e\")>,\n",
       " <selenium.webdriver.remote.webelement.WebElement (session=\"0cd45e1b7b4c36d0ac8d1f6e42d24ed8\", element=\"73018744-1f66-494d-ae83-e3e6baa36a20\")>,\n",
       " <selenium.webdriver.remote.webelement.WebElement (session=\"0cd45e1b7b4c36d0ac8d1f6e42d24ed8\", element=\"4a92fb4b-64d4-4afd-9349-951547098f26\")>,\n",
       " <selenium.webdriver.remote.webelement.WebElement (session=\"0cd45e1b7b4c36d0ac8d1f6e42d24ed8\", element=\"3d810b2a-4e91-4361-bf08-2105322c6e7a\")>,\n",
       " <selenium.webdriver.remote.webelement.WebElement (session=\"0cd45e1b7b4c36d0ac8d1f6e42d24ed8\", element=\"435e9e28-a4ee-49a6-b769-e0c0f29a45b6\")>,\n",
       " <selenium.webdriver.remote.webelement.WebElement (session=\"0cd45e1b7b4c36d0ac8d1f6e42d24ed8\", element=\"72b569ec-9972-4915-8ab0-b21a0f64193f\")>,\n",
       " <selenium.webdriver.remote.webelement.WebElement (session=\"0cd45e1b7b4c36d0ac8d1f6e42d24ed8\", element=\"162c5409-75e7-4bb4-8c7e-e9aad9c5e14f\")>,\n",
       " <selenium.webdriver.remote.webelement.WebElement (session=\"0cd45e1b7b4c36d0ac8d1f6e42d24ed8\", element=\"091ed946-45f2-4082-84c5-038a38326169\")>,\n",
       " <selenium.webdriver.remote.webelement.WebElement (session=\"0cd45e1b7b4c36d0ac8d1f6e42d24ed8\", element=\"afb81c6d-2c66-4ea0-92ae-e86693afc2f7\")>,\n",
       " <selenium.webdriver.remote.webelement.WebElement (session=\"0cd45e1b7b4c36d0ac8d1f6e42d24ed8\", element=\"3ce1536f-4fa9-4cf1-a0b0-b8b9a4f01f25\")>,\n",
       " <selenium.webdriver.remote.webelement.WebElement (session=\"0cd45e1b7b4c36d0ac8d1f6e42d24ed8\", element=\"3b3f343c-e2e9-4db4-9b9c-e3c880921487\")>,\n",
       " <selenium.webdriver.remote.webelement.WebElement (session=\"0cd45e1b7b4c36d0ac8d1f6e42d24ed8\", element=\"bfb9e71c-84f8-4a2c-a8b7-aceee434b148\")>,\n",
       " <selenium.webdriver.remote.webelement.WebElement (session=\"0cd45e1b7b4c36d0ac8d1f6e42d24ed8\", element=\"1762aaae-6f88-44c1-bd7c-54635e605802\")>,\n",
       " <selenium.webdriver.remote.webelement.WebElement (session=\"0cd45e1b7b4c36d0ac8d1f6e42d24ed8\", element=\"ceada927-7ac2-4ffd-8e7d-ce79fad0a5e8\")>,\n",
       " <selenium.webdriver.remote.webelement.WebElement (session=\"0cd45e1b7b4c36d0ac8d1f6e42d24ed8\", element=\"2c3f8f8d-21d8-47c9-9255-86088e9c8429\")>,\n",
       " <selenium.webdriver.remote.webelement.WebElement (session=\"0cd45e1b7b4c36d0ac8d1f6e42d24ed8\", element=\"3bc61647-a075-4753-bfdc-7d29fee0b793\")>,\n",
       " <selenium.webdriver.remote.webelement.WebElement (session=\"0cd45e1b7b4c36d0ac8d1f6e42d24ed8\", element=\"846c397f-e7f7-478e-b933-5f529aefdb64\")>,\n",
       " <selenium.webdriver.remote.webelement.WebElement (session=\"0cd45e1b7b4c36d0ac8d1f6e42d24ed8\", element=\"895d8dd6-99c4-47d2-aac5-a645eecd37b0\")>,\n",
       " <selenium.webdriver.remote.webelement.WebElement (session=\"0cd45e1b7b4c36d0ac8d1f6e42d24ed8\", element=\"129af437-c31b-4bf9-a8b9-e6d27b30985c\")>]"
      ]
     },
     "execution_count": 23,
     "metadata": {},
     "output_type": "execute_result"
    }
   ],
   "source": [
    "#so lets extract all the tags having the company names\n",
    "companies_tags = driver.find_elements_by_xpath('//a[@class=\"subTitle ellipsis fleft\"]')\n",
    "companies_tags"
   ]
  },
  {
   "cell_type": "code",
   "execution_count": 24,
   "metadata": {},
   "outputs": [
    {
     "data": {
      "text/plain": [
       "['Virtusa Consulting Services Pvt Ltd',\n",
       " 'tech mahindra ltd',\n",
       " 'Meritus Intelytics Private Limited',\n",
       " 'makro',\n",
       " 'makro',\n",
       " 'SYREN TECHNOLOGIES PRIVATE LIMITED',\n",
       " 'McAfee Software (India) Pvt. Ltd',\n",
       " 'Tata Consultancy Services Ltd.',\n",
       " 'Gokaldas Exports Ltd',\n",
       " 'Tata Consultancy Services Ltd.',\n",
       " 'Trigent Software',\n",
       " 'Trigent Software',\n",
       " 'AVE-Promagne',\n",
       " 'Optum Global Solutions (India) Private Limited',\n",
       " 'tech mahindra ltd',\n",
       " 'GABA Consultancy services',\n",
       " 'MapUp India Pvt. Ltd.',\n",
       " 'GABA Consultancy services',\n",
       " 'Cognizant Technology Solutions India Pvt Ltd',\n",
       " 'GlaxoSmithKline Pharmaceuticals Limited']"
      ]
     },
     "execution_count": 24,
     "metadata": {},
     "output_type": "execute_result"
    }
   ],
   "source": [
    "# now the tect of the job title is inside the tags extracted above\n",
    "company_name = []\n",
    "for i in companies_tags :\n",
    "    company_name.append(i.text)\n",
    "company_name"
   ]
  },
  {
   "cell_type": "code",
   "execution_count": 25,
   "metadata": {},
   "outputs": [
    {
     "data": {
      "text/plain": [
       "[<selenium.webdriver.remote.webelement.WebElement (session=\"0cd45e1b7b4c36d0ac8d1f6e42d24ed8\", element=\"e5cae862-1a05-4a06-806e-f57691f93cdc\")>,\n",
       " <selenium.webdriver.remote.webelement.WebElement (session=\"0cd45e1b7b4c36d0ac8d1f6e42d24ed8\", element=\"ab68f16b-b0d8-4b0d-bce0-ea40b5263bf3\")>,\n",
       " <selenium.webdriver.remote.webelement.WebElement (session=\"0cd45e1b7b4c36d0ac8d1f6e42d24ed8\", element=\"af3aed26-6985-4aea-8fdb-7a08b7690b8f\")>,\n",
       " <selenium.webdriver.remote.webelement.WebElement (session=\"0cd45e1b7b4c36d0ac8d1f6e42d24ed8\", element=\"8b02e239-0448-47ad-93c4-74bc2a701620\")>,\n",
       " <selenium.webdriver.remote.webelement.WebElement (session=\"0cd45e1b7b4c36d0ac8d1f6e42d24ed8\", element=\"a47df420-f904-40d8-9c47-ba6888aed4b2\")>,\n",
       " <selenium.webdriver.remote.webelement.WebElement (session=\"0cd45e1b7b4c36d0ac8d1f6e42d24ed8\", element=\"e427d4f2-e049-48d9-a605-8f0712923fd1\")>,\n",
       " <selenium.webdriver.remote.webelement.WebElement (session=\"0cd45e1b7b4c36d0ac8d1f6e42d24ed8\", element=\"e81d2fc0-672c-4c30-a2b1-955cc990cac2\")>,\n",
       " <selenium.webdriver.remote.webelement.WebElement (session=\"0cd45e1b7b4c36d0ac8d1f6e42d24ed8\", element=\"f7fa32dc-1fb8-4069-a899-1809c4806421\")>,\n",
       " <selenium.webdriver.remote.webelement.WebElement (session=\"0cd45e1b7b4c36d0ac8d1f6e42d24ed8\", element=\"dcd9af67-d1f5-426a-bc9a-9b33521da509\")>,\n",
       " <selenium.webdriver.remote.webelement.WebElement (session=\"0cd45e1b7b4c36d0ac8d1f6e42d24ed8\", element=\"6eab1a78-b21f-4989-8c3c-202c15993b6a\")>,\n",
       " <selenium.webdriver.remote.webelement.WebElement (session=\"0cd45e1b7b4c36d0ac8d1f6e42d24ed8\", element=\"8b8e44e7-6a9f-44f5-b6e6-3532ef71f502\")>,\n",
       " <selenium.webdriver.remote.webelement.WebElement (session=\"0cd45e1b7b4c36d0ac8d1f6e42d24ed8\", element=\"76301f64-b73d-4327-a766-3847001b91a1\")>,\n",
       " <selenium.webdriver.remote.webelement.WebElement (session=\"0cd45e1b7b4c36d0ac8d1f6e42d24ed8\", element=\"48d7c0c5-14f6-4738-b1b0-f89ce3d7635b\")>,\n",
       " <selenium.webdriver.remote.webelement.WebElement (session=\"0cd45e1b7b4c36d0ac8d1f6e42d24ed8\", element=\"ada98236-3c1c-4084-9fff-e8642ea7d3dc\")>,\n",
       " <selenium.webdriver.remote.webelement.WebElement (session=\"0cd45e1b7b4c36d0ac8d1f6e42d24ed8\", element=\"6b392b0a-72c1-4314-adc4-0088960955c9\")>,\n",
       " <selenium.webdriver.remote.webelement.WebElement (session=\"0cd45e1b7b4c36d0ac8d1f6e42d24ed8\", element=\"fc7f24f3-1ad9-4e16-846e-c69222542ee1\")>,\n",
       " <selenium.webdriver.remote.webelement.WebElement (session=\"0cd45e1b7b4c36d0ac8d1f6e42d24ed8\", element=\"afc01718-dbfb-478d-bcf7-c1312a3231b5\")>,\n",
       " <selenium.webdriver.remote.webelement.WebElement (session=\"0cd45e1b7b4c36d0ac8d1f6e42d24ed8\", element=\"e0ebe1d0-3923-4042-bb3f-76eb27ef04cd\")>,\n",
       " <selenium.webdriver.remote.webelement.WebElement (session=\"0cd45e1b7b4c36d0ac8d1f6e42d24ed8\", element=\"5864101d-df8e-4b4c-b1f3-3cb51ca74bfc\")>,\n",
       " <selenium.webdriver.remote.webelement.WebElement (session=\"0cd45e1b7b4c36d0ac8d1f6e42d24ed8\", element=\"1bbd106f-96c3-4b80-ab39-ecfb08e35279\")>]"
      ]
     },
     "execution_count": 25,
     "metadata": {},
     "output_type": "execute_result"
    }
   ],
   "source": [
    "#so lets extract all the tags having the experience required data\n",
    "experience_tags = driver.find_elements_by_xpath('//li[@class=\"fleft grey-text br2 placeHolderLi experience\"]//span')\n",
    "experience_tags"
   ]
  },
  {
   "cell_type": "code",
   "execution_count": 26,
   "metadata": {},
   "outputs": [
    {
     "data": {
      "text/plain": [
       "['8-12 Yrs',\n",
       " '1-3 Yrs',\n",
       " '0-3 Yrs',\n",
       " '0-1 Yrs',\n",
       " '0-1 Yrs',\n",
       " '4-9 Yrs',\n",
       " '6-8 Yrs',\n",
       " '6-11 Yrs',\n",
       " '0-3 Yrs',\n",
       " '6-11 Yrs',\n",
       " '5-10 Yrs',\n",
       " '5-10 Yrs',\n",
       " '3-8 Yrs',\n",
       " '4-8 Yrs',\n",
       " '1-4 Yrs',\n",
       " '0-5 Yrs',\n",
       " '0-5 Yrs',\n",
       " '0-5 Yrs',\n",
       " '0-1 Yrs',\n",
       " '4-8 Yrs']"
      ]
     },
     "execution_count": 26,
     "metadata": {},
     "output_type": "execute_result"
    }
   ],
   "source": [
    "experience_list = []\n",
    "for i in experience_tags:\n",
    "     experience_list.append(i.text)\n",
    "experience_list"
   ]
  },
  {
   "cell_type": "code",
   "execution_count": 27,
   "metadata": {},
   "outputs": [
    {
     "data": {
      "text/plain": [
       "[<selenium.webdriver.remote.webelement.WebElement (session=\"0cd45e1b7b4c36d0ac8d1f6e42d24ed8\", element=\"91efa999-381f-47e7-a457-44a524a85a15\")>,\n",
       " <selenium.webdriver.remote.webelement.WebElement (session=\"0cd45e1b7b4c36d0ac8d1f6e42d24ed8\", element=\"70249d7c-13d3-440f-ac4b-3b24b2736c65\")>,\n",
       " <selenium.webdriver.remote.webelement.WebElement (session=\"0cd45e1b7b4c36d0ac8d1f6e42d24ed8\", element=\"43e7e504-7907-4226-ae43-5ae2c0c66ecf\")>,\n",
       " <selenium.webdriver.remote.webelement.WebElement (session=\"0cd45e1b7b4c36d0ac8d1f6e42d24ed8\", element=\"94bd4531-004f-4cd6-9e13-cb5054cf27f4\")>,\n",
       " <selenium.webdriver.remote.webelement.WebElement (session=\"0cd45e1b7b4c36d0ac8d1f6e42d24ed8\", element=\"eb6c60d0-1dac-4ed5-a76a-292af5ddebe1\")>,\n",
       " <selenium.webdriver.remote.webelement.WebElement (session=\"0cd45e1b7b4c36d0ac8d1f6e42d24ed8\", element=\"baf13593-a50e-48be-8355-ccb040e08ede\")>,\n",
       " <selenium.webdriver.remote.webelement.WebElement (session=\"0cd45e1b7b4c36d0ac8d1f6e42d24ed8\", element=\"8b206c7f-8eb0-486b-bfe8-c20f5dc8d8e6\")>,\n",
       " <selenium.webdriver.remote.webelement.WebElement (session=\"0cd45e1b7b4c36d0ac8d1f6e42d24ed8\", element=\"25aff040-a07b-4760-b309-783c093e2bca\")>,\n",
       " <selenium.webdriver.remote.webelement.WebElement (session=\"0cd45e1b7b4c36d0ac8d1f6e42d24ed8\", element=\"fcfacbdd-186d-442a-baa8-3bd17c5632ae\")>,\n",
       " <selenium.webdriver.remote.webelement.WebElement (session=\"0cd45e1b7b4c36d0ac8d1f6e42d24ed8\", element=\"485f643e-d92d-4959-91c9-a3390eb99086\")>,\n",
       " <selenium.webdriver.remote.webelement.WebElement (session=\"0cd45e1b7b4c36d0ac8d1f6e42d24ed8\", element=\"0f7326ce-efb7-43ba-a213-159065fc0576\")>,\n",
       " <selenium.webdriver.remote.webelement.WebElement (session=\"0cd45e1b7b4c36d0ac8d1f6e42d24ed8\", element=\"f7a45b8f-4fac-48a8-a6df-1f362399d179\")>,\n",
       " <selenium.webdriver.remote.webelement.WebElement (session=\"0cd45e1b7b4c36d0ac8d1f6e42d24ed8\", element=\"dabca54e-10bb-43e6-8708-eec52702beb0\")>,\n",
       " <selenium.webdriver.remote.webelement.WebElement (session=\"0cd45e1b7b4c36d0ac8d1f6e42d24ed8\", element=\"c47cc63a-c7f2-4b8e-866e-db94cc5e9821\")>,\n",
       " <selenium.webdriver.remote.webelement.WebElement (session=\"0cd45e1b7b4c36d0ac8d1f6e42d24ed8\", element=\"a074726b-7d22-4436-8fd8-a546a80a952d\")>,\n",
       " <selenium.webdriver.remote.webelement.WebElement (session=\"0cd45e1b7b4c36d0ac8d1f6e42d24ed8\", element=\"e919c6c7-5ba8-4746-9932-19fd5cf5f9ce\")>,\n",
       " <selenium.webdriver.remote.webelement.WebElement (session=\"0cd45e1b7b4c36d0ac8d1f6e42d24ed8\", element=\"cc45a315-19c9-4edb-ace4-32edfcea99e8\")>,\n",
       " <selenium.webdriver.remote.webelement.WebElement (session=\"0cd45e1b7b4c36d0ac8d1f6e42d24ed8\", element=\"ba72dafb-b953-416f-928f-2df57cc9fef0\")>,\n",
       " <selenium.webdriver.remote.webelement.WebElement (session=\"0cd45e1b7b4c36d0ac8d1f6e42d24ed8\", element=\"7debef86-4f09-4ff9-bc6d-5e235abac57d\")>,\n",
       " <selenium.webdriver.remote.webelement.WebElement (session=\"0cd45e1b7b4c36d0ac8d1f6e42d24ed8\", element=\"29dc82c5-5ab2-4132-95e6-a68b8e0dfcea\")>]"
      ]
     },
     "execution_count": 27,
     "metadata": {},
     "output_type": "execute_result"
    }
   ],
   "source": [
    "#so lets extract all the tags having the location required data\n",
    "location_tags = driver.find_elements_by_xpath('//li[@class=\"fleft grey-text br2 placeHolderLi location\"]//span[1]')\n",
    "location_tags"
   ]
  },
  {
   "cell_type": "code",
   "execution_count": 28,
   "metadata": {},
   "outputs": [
    {
     "data": {
      "text/plain": [
       "['Hyderabad/Secunderabad, Pune, Gurgaon/Gurugram, Chennai, Bangalore/Bengaluru, Mumbai (All Areas)',\n",
       " 'Hyderabad/Secunderabad',\n",
       " 'Hyderabad/Secunderabad',\n",
       " 'Hyderabad/Secunderabad',\n",
       " 'Hyderabad/Secunderabad',\n",
       " 'Hyderabad/Secunderabad, Chennai, Bangalore/Bengaluru',\n",
       " 'Bangalore/Bengaluru',\n",
       " 'Chennai, Bangalore/Bengaluru',\n",
       " 'Bangalore/Bengaluru',\n",
       " 'Chennai, Bangalore/Bengaluru',\n",
       " 'Bangalore/Bengaluru',\n",
       " 'Bangalore/Bengaluru',\n",
       " 'Bangalore/Bengaluru',\n",
       " 'Hyderabad/Secunderabad',\n",
       " 'Hyderabad/Secunderabad',\n",
       " 'Noida, New Delhi, Gurgaon/Gurugram',\n",
       " 'Remote',\n",
       " 'Noida, New Delhi, Faridabad',\n",
       " 'Mumbai',\n",
       " 'Bangalore/Bengaluru']"
      ]
     },
     "execution_count": 28,
     "metadata": {},
     "output_type": "execute_result"
    }
   ],
   "source": [
    "location_list = []\n",
    "for i in location_tags:\n",
    "     location_list.append(i.text)\n",
    "location_list"
   ]
  },
  {
   "cell_type": "code",
   "execution_count": 29,
   "metadata": {},
   "outputs": [
    {
     "name": "stdout",
     "output_type": "stream",
     "text": [
      "20 20 20 20\n"
     ]
    }
   ],
   "source": [
    "print(len(job_titles),len(company_name),len(experience_list),len(location_list))"
   ]
  },
  {
   "cell_type": "code",
   "execution_count": 30,
   "metadata": {},
   "outputs": [
    {
     "data": {
      "text/html": [
       "<div>\n",
       "<style scoped>\n",
       "    .dataframe tbody tr th:only-of-type {\n",
       "        vertical-align: middle;\n",
       "    }\n",
       "\n",
       "    .dataframe tbody tr th {\n",
       "        vertical-align: top;\n",
       "    }\n",
       "\n",
       "    .dataframe thead th {\n",
       "        text-align: right;\n",
       "    }\n",
       "</style>\n",
       "<table border=\"1\" class=\"dataframe\">\n",
       "  <thead>\n",
       "    <tr style=\"text-align: right;\">\n",
       "      <th></th>\n",
       "      <th>title</th>\n",
       "      <th>company</th>\n",
       "      <th>experience_required</th>\n",
       "      <th>location</th>\n",
       "    </tr>\n",
       "  </thead>\n",
       "  <tbody>\n",
       "    <tr>\n",
       "      <th>0</th>\n",
       "      <td>Senior Data Analyst</td>\n",
       "      <td>Virtusa Consulting Services Pvt Ltd</td>\n",
       "      <td>8-12 Yrs</td>\n",
       "      <td>Hyderabad/Secunderabad, Pune, Gurgaon/Gurugram...</td>\n",
       "    </tr>\n",
       "    <tr>\n",
       "      <th>1</th>\n",
       "      <td>Product Data Controller- Data Analyst</td>\n",
       "      <td>tech mahindra ltd</td>\n",
       "      <td>1-3 Yrs</td>\n",
       "      <td>Hyderabad/Secunderabad</td>\n",
       "    </tr>\n",
       "    <tr>\n",
       "      <th>2</th>\n",
       "      <td>Merilytics - Business Analyst - Data Analytics...</td>\n",
       "      <td>Meritus Intelytics Private Limited</td>\n",
       "      <td>0-3 Yrs</td>\n",
       "      <td>Hyderabad/Secunderabad</td>\n",
       "    </tr>\n",
       "    <tr>\n",
       "      <th>3</th>\n",
       "      <td>Junior Data Research Analyst</td>\n",
       "      <td>makro</td>\n",
       "      <td>0-1 Yrs</td>\n",
       "      <td>Hyderabad/Secunderabad</td>\n",
       "    </tr>\n",
       "    <tr>\n",
       "      <th>4</th>\n",
       "      <td>Junior Data Research Analyst</td>\n",
       "      <td>makro</td>\n",
       "      <td>0-1 Yrs</td>\n",
       "      <td>Hyderabad/Secunderabad</td>\n",
       "    </tr>\n",
       "    <tr>\n",
       "      <th>5</th>\n",
       "      <td>Data Analyst/Sr.Data Engineer</td>\n",
       "      <td>SYREN TECHNOLOGIES PRIVATE LIMITED</td>\n",
       "      <td>4-9 Yrs</td>\n",
       "      <td>Hyderabad/Secunderabad, Chennai, Bangalore/Ben...</td>\n",
       "    </tr>\n",
       "    <tr>\n",
       "      <th>6</th>\n",
       "      <td>SENIOR DATA ANALYST</td>\n",
       "      <td>McAfee Software (India) Pvt. Ltd</td>\n",
       "      <td>6-8 Yrs</td>\n",
       "      <td>Bangalore/Bengaluru</td>\n",
       "    </tr>\n",
       "    <tr>\n",
       "      <th>7</th>\n",
       "      <td>Tcs Hiring For Senior Data Analyst (bfsi domain)</td>\n",
       "      <td>Tata Consultancy Services Ltd.</td>\n",
       "      <td>6-11 Yrs</td>\n",
       "      <td>Chennai, Bangalore/Bengaluru</td>\n",
       "    </tr>\n",
       "    <tr>\n",
       "      <th>8</th>\n",
       "      <td>Executive Data Analyst</td>\n",
       "      <td>Gokaldas Exports Ltd</td>\n",
       "      <td>0-3 Yrs</td>\n",
       "      <td>Bangalore/Bengaluru</td>\n",
       "    </tr>\n",
       "    <tr>\n",
       "      <th>9</th>\n",
       "      <td>Tcs Hiring For MDM (master data management) Da...</td>\n",
       "      <td>Tata Consultancy Services Ltd.</td>\n",
       "      <td>6-11 Yrs</td>\n",
       "      <td>Chennai, Bangalore/Bengaluru</td>\n",
       "    </tr>\n",
       "  </tbody>\n",
       "</table>\n",
       "</div>"
      ],
      "text/plain": [
       "                                               title  \\\n",
       "0                                Senior Data Analyst   \n",
       "1              Product Data Controller- Data Analyst   \n",
       "2  Merilytics - Business Analyst - Data Analytics...   \n",
       "3                       Junior Data Research Analyst   \n",
       "4                       Junior Data Research Analyst   \n",
       "5                      Data Analyst/Sr.Data Engineer   \n",
       "6                                SENIOR DATA ANALYST   \n",
       "7   Tcs Hiring For Senior Data Analyst (bfsi domain)   \n",
       "8                             Executive Data Analyst   \n",
       "9  Tcs Hiring For MDM (master data management) Da...   \n",
       "\n",
       "                               company experience_required  \\\n",
       "0  Virtusa Consulting Services Pvt Ltd            8-12 Yrs   \n",
       "1                    tech mahindra ltd             1-3 Yrs   \n",
       "2   Meritus Intelytics Private Limited             0-3 Yrs   \n",
       "3                                makro             0-1 Yrs   \n",
       "4                                makro             0-1 Yrs   \n",
       "5   SYREN TECHNOLOGIES PRIVATE LIMITED             4-9 Yrs   \n",
       "6     McAfee Software (India) Pvt. Ltd             6-8 Yrs   \n",
       "7       Tata Consultancy Services Ltd.            6-11 Yrs   \n",
       "8                 Gokaldas Exports Ltd             0-3 Yrs   \n",
       "9       Tata Consultancy Services Ltd.            6-11 Yrs   \n",
       "\n",
       "                                            location  \n",
       "0  Hyderabad/Secunderabad, Pune, Gurgaon/Gurugram...  \n",
       "1                             Hyderabad/Secunderabad  \n",
       "2                             Hyderabad/Secunderabad  \n",
       "3                             Hyderabad/Secunderabad  \n",
       "4                             Hyderabad/Secunderabad  \n",
       "5  Hyderabad/Secunderabad, Chennai, Bangalore/Ben...  \n",
       "6                                Bangalore/Bengaluru  \n",
       "7                       Chennai, Bangalore/Bengaluru  \n",
       "8                                Bangalore/Bengaluru  \n",
       "9                       Chennai, Bangalore/Bengaluru  "
      ]
     },
     "execution_count": 30,
     "metadata": {},
     "output_type": "execute_result"
    }
   ],
   "source": [
    "import pandas as pd\n",
    "jobs=pd.DataFrame({})\n",
    "jobs[\"title\"]=job_titles[0:10]\n",
    "jobs[\"company\"]=company_name[0:10]\n",
    "jobs[\"experience_required\"]=experience_list[0:10]\n",
    "jobs[\"location\"]=location_list[0:10]\n",
    "jobs"
   ]
  },
  {
   "cell_type": "markdown",
   "metadata": {},
   "source": [
    "# Q2: Write a python program to scrape data for “Data Scientist” Job position in “Bangalore” location. You have to scrape the job-title, job-location,company_name, full job-description. You have to scrape first 10 jobs data."
   ]
  },
  {
   "cell_type": "code",
   "execution_count": 31,
   "metadata": {},
   "outputs": [],
   "source": [
    "#importing the necessary libraries\n",
    "\n",
    "import undetected_chromedriver.v2 as uc\n",
    "import selenium\n",
    "import pandas as pd\n",
    "from selenium import webdriver\n",
    "import time\n",
    "import warnings\n",
    "warnings.filterwarnings(\"ignore\")"
   ]
  },
  {
   "cell_type": "code",
   "execution_count": 32,
   "metadata": {},
   "outputs": [],
   "source": [
    "# Lets connect to web driver\n",
    "driver = webdriver.Chrome(\"chromedriver.exe\")\n",
    "driver = uc.Chrome()\n",
    "with driver:\n",
    "    driver.get('https://www.naukri.com/')"
   ]
  },
  {
   "cell_type": "code",
   "execution_count": 33,
   "metadata": {},
   "outputs": [
    {
     "data": {
      "text/plain": [
       "<selenium.webdriver.remote.webelement.WebElement (session=\"5116dccadc6d88abeaadc92ab27d9048\", element=\"c61cca4d-f9d2-41c9-bed0-87c0867451a3\")>"
      ]
     },
     "execution_count": 33,
     "metadata": {},
     "output_type": "execute_result"
    }
   ],
   "source": [
    "search_job = driver.find_element_by_id('qsb-keyword-sugg')\n",
    "search_job"
   ]
  },
  {
   "cell_type": "code",
   "execution_count": 34,
   "metadata": {},
   "outputs": [],
   "source": [
    "# write an search bar\n",
    "search_job.send_keys(\"Data Scientist\")"
   ]
  },
  {
   "cell_type": "code",
   "execution_count": 35,
   "metadata": {},
   "outputs": [
    {
     "data": {
      "text/plain": [
       "<selenium.webdriver.remote.webelement.WebElement (session=\"5116dccadc6d88abeaadc92ab27d9048\", element=\"c61cca4d-f9d2-41c9-bed0-87c0867451a3\")>"
      ]
     },
     "execution_count": 35,
     "metadata": {},
     "output_type": "execute_result"
    }
   ],
   "source": [
    "search_job = driver.find_element_by_xpath('//input[@class=\"sugInp\"]')\n",
    "search_job"
   ]
  },
  {
   "cell_type": "code",
   "execution_count": 36,
   "metadata": {},
   "outputs": [
    {
     "data": {
      "text/plain": [
       "<selenium.webdriver.remote.webelement.WebElement (session=\"5116dccadc6d88abeaadc92ab27d9048\", element=\"c61cca4d-f9d2-41c9-bed0-87c0867451a3\")>"
      ]
     },
     "execution_count": 36,
     "metadata": {},
     "output_type": "execute_result"
    }
   ],
   "source": [
    "# finding element for job location bar\n",
    "search_loc = driver.find_element_by_xpath('//input[@class=\"sugInp\"]')\n",
    "search_loc"
   ]
  },
  {
   "cell_type": "code",
   "execution_count": 37,
   "metadata": {},
   "outputs": [
    {
     "data": {
      "text/plain": [
       "<selenium.webdriver.remote.webelement.WebElement (session=\"5116dccadc6d88abeaadc92ab27d9048\", element=\"012102d4-587c-473d-a786-27640974f030\")>"
      ]
     },
     "execution_count": 37,
     "metadata": {},
     "output_type": "execute_result"
    }
   ],
   "source": [
    "# do click using xpath or class functon\n",
    "search_btn = driver.find_element_by_xpath('//button[@class=\"btn\"]')\n",
    "search_btn"
   ]
  },
  {
   "cell_type": "code",
   "execution_count": 38,
   "metadata": {},
   "outputs": [],
   "source": [
    "search_btn.click()"
   ]
  },
  {
   "cell_type": "code",
   "execution_count": 63,
   "metadata": {},
   "outputs": [
    {
     "data": {
      "text/plain": [
       "[<selenium.webdriver.remote.webelement.WebElement (session=\"5116dccadc6d88abeaadc92ab27d9048\", element=\"9be76faf-d77f-4e67-afcf-ea13d7d99ecc\")>,\n",
       " <selenium.webdriver.remote.webelement.WebElement (session=\"5116dccadc6d88abeaadc92ab27d9048\", element=\"05ac0fe0-eb2b-4b0a-bd92-8c50c9d2db4a\")>,\n",
       " <selenium.webdriver.remote.webelement.WebElement (session=\"5116dccadc6d88abeaadc92ab27d9048\", element=\"8d24b18e-18b2-4d3d-8938-640c371c6e77\")>,\n",
       " <selenium.webdriver.remote.webelement.WebElement (session=\"5116dccadc6d88abeaadc92ab27d9048\", element=\"3649760c-eb2f-43fa-8d37-ef37519efb08\")>,\n",
       " <selenium.webdriver.remote.webelement.WebElement (session=\"5116dccadc6d88abeaadc92ab27d9048\", element=\"a348db5b-e7a9-43b7-a928-50815b96b250\")>,\n",
       " <selenium.webdriver.remote.webelement.WebElement (session=\"5116dccadc6d88abeaadc92ab27d9048\", element=\"74b76e84-1ced-4663-b2b5-72e584a507f8\")>,\n",
       " <selenium.webdriver.remote.webelement.WebElement (session=\"5116dccadc6d88abeaadc92ab27d9048\", element=\"a18ccdc6-708b-4bae-8cac-d1b1c3252cc0\")>,\n",
       " <selenium.webdriver.remote.webelement.WebElement (session=\"5116dccadc6d88abeaadc92ab27d9048\", element=\"2b231b63-589f-44b5-8776-4094911b10c3\")>,\n",
       " <selenium.webdriver.remote.webelement.WebElement (session=\"5116dccadc6d88abeaadc92ab27d9048\", element=\"6a988891-9ed4-459c-bb5c-77d7a25ed573\")>,\n",
       " <selenium.webdriver.remote.webelement.WebElement (session=\"5116dccadc6d88abeaadc92ab27d9048\", element=\"5170b3b4-9a87-49cd-b883-50ee83204087\")>,\n",
       " <selenium.webdriver.remote.webelement.WebElement (session=\"5116dccadc6d88abeaadc92ab27d9048\", element=\"d06090da-1fb6-4ed0-8456-2b27c90e07fb\")>,\n",
       " <selenium.webdriver.remote.webelement.WebElement (session=\"5116dccadc6d88abeaadc92ab27d9048\", element=\"06b09834-81db-4c66-a932-a5d5003f4807\")>,\n",
       " <selenium.webdriver.remote.webelement.WebElement (session=\"5116dccadc6d88abeaadc92ab27d9048\", element=\"1c9fbbaf-c5c8-40f5-8c79-bc22eaf57d82\")>,\n",
       " <selenium.webdriver.remote.webelement.WebElement (session=\"5116dccadc6d88abeaadc92ab27d9048\", element=\"fb5b44c2-395d-4bfc-9db3-cac5f8f4427d\")>,\n",
       " <selenium.webdriver.remote.webelement.WebElement (session=\"5116dccadc6d88abeaadc92ab27d9048\", element=\"7b9d4c63-358f-4a44-880c-34ca09afdc90\")>,\n",
       " <selenium.webdriver.remote.webelement.WebElement (session=\"5116dccadc6d88abeaadc92ab27d9048\", element=\"10f4dcc5-9c93-4063-9b35-ff3f5712a657\")>,\n",
       " <selenium.webdriver.remote.webelement.WebElement (session=\"5116dccadc6d88abeaadc92ab27d9048\", element=\"76dbe2fd-9519-4dac-b9d6-9c5f4dd08d44\")>,\n",
       " <selenium.webdriver.remote.webelement.WebElement (session=\"5116dccadc6d88abeaadc92ab27d9048\", element=\"d6e3ff86-3ec4-4821-9750-1c0e53c8556f\")>,\n",
       " <selenium.webdriver.remote.webelement.WebElement (session=\"5116dccadc6d88abeaadc92ab27d9048\", element=\"c8e0e707-e6fb-4af1-a313-e80a080a951a\")>,\n",
       " <selenium.webdriver.remote.webelement.WebElement (session=\"5116dccadc6d88abeaadc92ab27d9048\", element=\"11ba21b3-a9b4-46d8-af01-9811e76783fa\")>]"
      ]
     },
     "execution_count": 63,
     "metadata": {},
     "output_type": "execute_result"
    }
   ],
   "source": [
    "#so lets extract all the tags having the job titles\n",
    "title_tags = driver.find_elements_by_xpath('//a[@class=\"title fw500 ellipsis\"]')\n",
    "title_tags"
   ]
  },
  {
   "cell_type": "code",
   "execution_count": 64,
   "metadata": {},
   "outputs": [
    {
     "data": {
      "text/plain": [
       "['Hiring For Data Scientist',\n",
       " 'Data Scientist (Python & SQL)',\n",
       " 'Data Scientist & Business Development',\n",
       " 'Business Intelligence - Data Scientist',\n",
       " 'Data Scientist/ Machine Learning Engineer',\n",
       " 'Lead Data Scientist BFSI',\n",
       " 'Data Scientist',\n",
       " 'Urgent Opening For Data Scientist @ Heritage Foods Ltd',\n",
       " 'Urgent Opening For Data Scientist @ Heritage Foods Ltd',\n",
       " 'Data Scientist',\n",
       " 'Senior Data Scientist',\n",
       " 'Associate Data Scientist',\n",
       " 'Job Opportunity For Data Scientist- Pune',\n",
       " 'Staff Engineer, Data Scientist',\n",
       " 'Data Scientist: Advanced Analytics',\n",
       " 'Urgently looking For a Data Scientist - Fintech company',\n",
       " 'Lead Data Scientist',\n",
       " 'Lead Data Scientist',\n",
       " 'Sr Data Scientist',\n",
       " 'Sr Data Scientist']"
      ]
     },
     "execution_count": 64,
     "metadata": {},
     "output_type": "execute_result"
    }
   ],
   "source": [
    "job_titles = []\n",
    "for i in title_tags:\n",
    "    job_titles.append(i.text)\n",
    "job_titles"
   ]
  },
  {
   "cell_type": "code",
   "execution_count": 65,
   "metadata": {},
   "outputs": [
    {
     "data": {
      "text/plain": [
       "[<selenium.webdriver.remote.webelement.WebElement (session=\"5116dccadc6d88abeaadc92ab27d9048\", element=\"bf2b7a36-f80d-4598-b242-8b7a10627976\")>,\n",
       " <selenium.webdriver.remote.webelement.WebElement (session=\"5116dccadc6d88abeaadc92ab27d9048\", element=\"fd702b84-090b-4410-a9aa-827571562318\")>,\n",
       " <selenium.webdriver.remote.webelement.WebElement (session=\"5116dccadc6d88abeaadc92ab27d9048\", element=\"b99f60c0-df3a-4697-b702-90c2a8de4da1\")>,\n",
       " <selenium.webdriver.remote.webelement.WebElement (session=\"5116dccadc6d88abeaadc92ab27d9048\", element=\"47431ad1-40ca-43a0-8961-138edc712121\")>,\n",
       " <selenium.webdriver.remote.webelement.WebElement (session=\"5116dccadc6d88abeaadc92ab27d9048\", element=\"e5c3ef78-73d7-4530-8dfe-2d731c161086\")>,\n",
       " <selenium.webdriver.remote.webelement.WebElement (session=\"5116dccadc6d88abeaadc92ab27d9048\", element=\"0045f054-9472-40eb-8652-872637f9cfce\")>,\n",
       " <selenium.webdriver.remote.webelement.WebElement (session=\"5116dccadc6d88abeaadc92ab27d9048\", element=\"80452e37-c37e-476d-8cc8-5b86f7617bb0\")>,\n",
       " <selenium.webdriver.remote.webelement.WebElement (session=\"5116dccadc6d88abeaadc92ab27d9048\", element=\"53ab6838-1dff-48ab-bc09-4551b45e2e9a\")>,\n",
       " <selenium.webdriver.remote.webelement.WebElement (session=\"5116dccadc6d88abeaadc92ab27d9048\", element=\"f7fe8d23-0a23-4115-ba37-0eca079b2f68\")>,\n",
       " <selenium.webdriver.remote.webelement.WebElement (session=\"5116dccadc6d88abeaadc92ab27d9048\", element=\"fbab1253-5a6e-45ef-9b45-9121a91853da\")>,\n",
       " <selenium.webdriver.remote.webelement.WebElement (session=\"5116dccadc6d88abeaadc92ab27d9048\", element=\"3fb9face-a122-46b5-aa03-0679143be9d1\")>,\n",
       " <selenium.webdriver.remote.webelement.WebElement (session=\"5116dccadc6d88abeaadc92ab27d9048\", element=\"aa6dc0f5-7b8d-4028-9f08-94c0136b0ef4\")>,\n",
       " <selenium.webdriver.remote.webelement.WebElement (session=\"5116dccadc6d88abeaadc92ab27d9048\", element=\"603acbc3-06f9-4a5b-9a30-3ee60742ed1a\")>,\n",
       " <selenium.webdriver.remote.webelement.WebElement (session=\"5116dccadc6d88abeaadc92ab27d9048\", element=\"34f3d647-4c21-4f5b-87cf-37c54b519399\")>,\n",
       " <selenium.webdriver.remote.webelement.WebElement (session=\"5116dccadc6d88abeaadc92ab27d9048\", element=\"803e6341-42d8-4d11-9edc-3f539bc39747\")>,\n",
       " <selenium.webdriver.remote.webelement.WebElement (session=\"5116dccadc6d88abeaadc92ab27d9048\", element=\"cea11e1b-3225-4bb0-8c24-3a347494a5c7\")>,\n",
       " <selenium.webdriver.remote.webelement.WebElement (session=\"5116dccadc6d88abeaadc92ab27d9048\", element=\"46ef1b74-19fe-41f4-8865-37b804940ea9\")>,\n",
       " <selenium.webdriver.remote.webelement.WebElement (session=\"5116dccadc6d88abeaadc92ab27d9048\", element=\"5b33773a-c520-4555-94cf-5400e9811d16\")>,\n",
       " <selenium.webdriver.remote.webelement.WebElement (session=\"5116dccadc6d88abeaadc92ab27d9048\", element=\"e3c4e859-a6c0-4a7b-b5f8-a95918deb19c\")>,\n",
       " <selenium.webdriver.remote.webelement.WebElement (session=\"5116dccadc6d88abeaadc92ab27d9048\", element=\"88f6a74b-e134-4c85-8cc4-f5f86ef538b3\")>]"
      ]
     },
     "execution_count": 65,
     "metadata": {},
     "output_type": "execute_result"
    }
   ],
   "source": [
    "#so lets extract all the tags having the company names\n",
    "companies_tags = driver.find_elements_by_xpath('//a[@class=\"subTitle ellipsis fleft\"]')\n",
    "companies_tags"
   ]
  },
  {
   "cell_type": "code",
   "execution_count": 66,
   "metadata": {},
   "outputs": [
    {
     "data": {
      "text/plain": [
       "['Tata Consultancy Services Ltd.',\n",
       " 'AVE-Promagne',\n",
       " 'Grid Logic Software Private Limited',\n",
       " 'ADP Pvt. Ltd.',\n",
       " 'Creative Hands HR Consultancy',\n",
       " 'IBM India Pvt. Limited',\n",
       " 'United Phosphorus Limited',\n",
       " 'HERITAGE FOODS LIMITED',\n",
       " 'HERITAGE FOODS LIMITED',\n",
       " 'diwo',\n",
       " 'AIBridge ML Pvt Ltd',\n",
       " 'Philips India Limited',\n",
       " 'MDINDIA HEALTH INSURANCE TPA PVT LTD',\n",
       " 'Micron Semiconductor Asia Pte Ltd',\n",
       " 'IBM India Pvt. Limited',\n",
       " 'Adecco India Private Limited',\n",
       " 'Monotype Imaging',\n",
       " 'Monotype Imaging',\n",
       " 'IBM India Pvt. Limited',\n",
       " 'IBM India Pvt. Limited']"
      ]
     },
     "execution_count": 66,
     "metadata": {},
     "output_type": "execute_result"
    }
   ],
   "source": [
    "company_names = []\n",
    "for i in companies_tags:\n",
    "     company_names.append(i.text)\n",
    "company_names"
   ]
  },
  {
   "cell_type": "code",
   "execution_count": 67,
   "metadata": {},
   "outputs": [
    {
     "data": {
      "text/plain": [
       "[<selenium.webdriver.remote.webelement.WebElement (session=\"5116dccadc6d88abeaadc92ab27d9048\", element=\"bfc75576-26fe-4bb6-ba9c-5eb470ea5ad1\")>,\n",
       " <selenium.webdriver.remote.webelement.WebElement (session=\"5116dccadc6d88abeaadc92ab27d9048\", element=\"e8f8dd4b-0e97-45aa-9185-62549fffe127\")>,\n",
       " <selenium.webdriver.remote.webelement.WebElement (session=\"5116dccadc6d88abeaadc92ab27d9048\", element=\"9ace9488-de4d-4241-a8a6-90dfb9e74d1d\")>,\n",
       " <selenium.webdriver.remote.webelement.WebElement (session=\"5116dccadc6d88abeaadc92ab27d9048\", element=\"33ad988f-b135-4b9c-bbf6-5714233cda1b\")>,\n",
       " <selenium.webdriver.remote.webelement.WebElement (session=\"5116dccadc6d88abeaadc92ab27d9048\", element=\"edc068db-1a64-462f-9142-a54dc0c69a41\")>,\n",
       " <selenium.webdriver.remote.webelement.WebElement (session=\"5116dccadc6d88abeaadc92ab27d9048\", element=\"4de63e08-8b1f-4585-ba3e-180a8bc5302b\")>,\n",
       " <selenium.webdriver.remote.webelement.WebElement (session=\"5116dccadc6d88abeaadc92ab27d9048\", element=\"37e9ac37-877e-4f3b-802a-0e04e840843c\")>,\n",
       " <selenium.webdriver.remote.webelement.WebElement (session=\"5116dccadc6d88abeaadc92ab27d9048\", element=\"6032be36-69c6-4058-8064-9d06914b8ec8\")>,\n",
       " <selenium.webdriver.remote.webelement.WebElement (session=\"5116dccadc6d88abeaadc92ab27d9048\", element=\"470bef32-24ca-4181-9a17-cd119a41ce70\")>,\n",
       " <selenium.webdriver.remote.webelement.WebElement (session=\"5116dccadc6d88abeaadc92ab27d9048\", element=\"31d7e5d2-29c8-4926-ac86-9ef2e06a8176\")>,\n",
       " <selenium.webdriver.remote.webelement.WebElement (session=\"5116dccadc6d88abeaadc92ab27d9048\", element=\"9540f742-6cef-49f5-988f-379c2f970667\")>,\n",
       " <selenium.webdriver.remote.webelement.WebElement (session=\"5116dccadc6d88abeaadc92ab27d9048\", element=\"1913ab2b-fc2d-49fc-95be-13d53d9c9f81\")>,\n",
       " <selenium.webdriver.remote.webelement.WebElement (session=\"5116dccadc6d88abeaadc92ab27d9048\", element=\"59fcd257-0988-4f4d-bb1f-54612ffa9782\")>,\n",
       " <selenium.webdriver.remote.webelement.WebElement (session=\"5116dccadc6d88abeaadc92ab27d9048\", element=\"3527e5e8-68c7-48db-8d9a-7d4c647ee9dd\")>,\n",
       " <selenium.webdriver.remote.webelement.WebElement (session=\"5116dccadc6d88abeaadc92ab27d9048\", element=\"330e5f8e-1ed1-4d08-9376-7c7fd7309eff\")>,\n",
       " <selenium.webdriver.remote.webelement.WebElement (session=\"5116dccadc6d88abeaadc92ab27d9048\", element=\"72931af3-a834-4067-9e3a-151a67743158\")>,\n",
       " <selenium.webdriver.remote.webelement.WebElement (session=\"5116dccadc6d88abeaadc92ab27d9048\", element=\"54d50285-91c0-4208-b5cc-db0f111433a0\")>,\n",
       " <selenium.webdriver.remote.webelement.WebElement (session=\"5116dccadc6d88abeaadc92ab27d9048\", element=\"b2072557-1365-4e95-9cfd-27ce30c019aa\")>,\n",
       " <selenium.webdriver.remote.webelement.WebElement (session=\"5116dccadc6d88abeaadc92ab27d9048\", element=\"54c40111-7470-4f0a-9592-23434b981b01\")>,\n",
       " <selenium.webdriver.remote.webelement.WebElement (session=\"5116dccadc6d88abeaadc92ab27d9048\", element=\"1d0ba3c2-f509-42ac-8857-b27f28b10916\")>]"
      ]
     },
     "execution_count": 67,
     "metadata": {},
     "output_type": "execute_result"
    }
   ],
   "source": [
    "#so lets extract all the tags having the experience required data\n",
    "job_description = driver.find_elements_by_xpath('//div[@class=\"job-description fs12 grey-text\"]')\n",
    "job_description"
   ]
  },
  {
   "cell_type": "code",
   "execution_count": 68,
   "metadata": {},
   "outputs": [
    {
     "data": {
      "text/plain": [
       "['Minimum 3 year of experience in being Applied Machine Learning Engineer roleExperience ...',\n",
       " 'Required Technical and Professional Expertise• 6+ years of industry work experience in ...',\n",
       " 'Understanding of Python, Tableau, Power Bi, related tools used from data handling to mo...',\n",
       " 'Use these models to identify patterns and rules which help unearth business insights an...',\n",
       " 'Preferable to have Masters in a numerate subject such as Mathematics, Operational Resea...',\n",
       " 'IntroductionSoftware Developers at IBM are the backbone of our strategic initiatives to...',\n",
       " 'Experience with R, Python, MATLAB is required, programming in C, C++, Java 5 years expe...',\n",
       " 'Effectively undertake the requirement elicitation, document and analysis, solution desi...',\n",
       " 'Effectively undertake the requirement elicitation, document and analysis, solution desi...',\n",
       " 'Well versed with SQL and Database concepts BTech or MTech in Computer Science / Compute...',\n",
       " 'More then 4 yrs of experience in Machine Learning /AIGood to have Kubernetes, Container...',\n",
       " 'Use predictive modeling to increase and optimize customer experiences, revenue generati...',\n",
       " 'Roles and Responsibilities : An Artist cum scientist who understands the art of collect...',\n",
       " 'We are seeking a Staff Data Scientist capable of using machine learning and statistical...',\n",
       " 'PhD / Masters in STEM-related fields with knowledge in Quantum ComputingRequired Techni...',\n",
       " 'Experience in credit risk modelling hands-on on creating production level risk scorecar...',\n",
       " 'The data scientist role would be responsible for providing conceptual insights, problem...',\n",
       " 'You will have an opportunity to: Undertake data science projects with the goal of break...',\n",
       " 'Demonstrated extensive experience in building and deploying production quality models i...',\n",
       " 'Demonstrated extensive experience in building and deploying production quality models i...']"
      ]
     },
     "execution_count": 68,
     "metadata": {},
     "output_type": "execute_result"
    }
   ],
   "source": [
    "job_description_list = []\n",
    "for i in job_description:\n",
    "     job_description_list.append(i.text)\n",
    "job_description_list"
   ]
  },
  {
   "cell_type": "code",
   "execution_count": 69,
   "metadata": {},
   "outputs": [
    {
     "data": {
      "text/plain": [
       "[<selenium.webdriver.remote.webelement.WebElement (session=\"5116dccadc6d88abeaadc92ab27d9048\", element=\"7eaef965-1884-4217-9722-66bb785d7649\")>,\n",
       " <selenium.webdriver.remote.webelement.WebElement (session=\"5116dccadc6d88abeaadc92ab27d9048\", element=\"6ae35688-ae36-4603-beb7-32027ec7fab6\")>,\n",
       " <selenium.webdriver.remote.webelement.WebElement (session=\"5116dccadc6d88abeaadc92ab27d9048\", element=\"5129f651-070b-4360-994d-c103d51a85d3\")>,\n",
       " <selenium.webdriver.remote.webelement.WebElement (session=\"5116dccadc6d88abeaadc92ab27d9048\", element=\"368078c5-5ef3-48e2-a634-7441042bcd0c\")>,\n",
       " <selenium.webdriver.remote.webelement.WebElement (session=\"5116dccadc6d88abeaadc92ab27d9048\", element=\"d7212140-4319-4a4b-b4cd-064e92342b87\")>,\n",
       " <selenium.webdriver.remote.webelement.WebElement (session=\"5116dccadc6d88abeaadc92ab27d9048\", element=\"40939178-9e07-4bf0-9056-70ec05843cd3\")>,\n",
       " <selenium.webdriver.remote.webelement.WebElement (session=\"5116dccadc6d88abeaadc92ab27d9048\", element=\"a88c88de-1b15-40fe-b2d5-2d486915ed5c\")>,\n",
       " <selenium.webdriver.remote.webelement.WebElement (session=\"5116dccadc6d88abeaadc92ab27d9048\", element=\"2f1cb259-7611-442c-9a5c-adb0b166a3c5\")>,\n",
       " <selenium.webdriver.remote.webelement.WebElement (session=\"5116dccadc6d88abeaadc92ab27d9048\", element=\"83b00075-a06a-4056-a09b-4a7dd6ed4dd2\")>,\n",
       " <selenium.webdriver.remote.webelement.WebElement (session=\"5116dccadc6d88abeaadc92ab27d9048\", element=\"adec0042-3bb3-484d-848a-f286815fa71c\")>,\n",
       " <selenium.webdriver.remote.webelement.WebElement (session=\"5116dccadc6d88abeaadc92ab27d9048\", element=\"dd0909de-27ad-4fe6-b345-b82f14f559c8\")>,\n",
       " <selenium.webdriver.remote.webelement.WebElement (session=\"5116dccadc6d88abeaadc92ab27d9048\", element=\"d6c43c78-81cf-4e07-99b0-3200928f35df\")>,\n",
       " <selenium.webdriver.remote.webelement.WebElement (session=\"5116dccadc6d88abeaadc92ab27d9048\", element=\"f034b2f2-5dd9-4d08-b5d1-f5523eb888f1\")>,\n",
       " <selenium.webdriver.remote.webelement.WebElement (session=\"5116dccadc6d88abeaadc92ab27d9048\", element=\"0e99368f-874b-4f88-9ba8-7f9399483c16\")>,\n",
       " <selenium.webdriver.remote.webelement.WebElement (session=\"5116dccadc6d88abeaadc92ab27d9048\", element=\"42304efc-2610-4991-8b75-b6b75e7ec6e2\")>,\n",
       " <selenium.webdriver.remote.webelement.WebElement (session=\"5116dccadc6d88abeaadc92ab27d9048\", element=\"ce895e48-643b-4886-88d8-a92d5a569399\")>,\n",
       " <selenium.webdriver.remote.webelement.WebElement (session=\"5116dccadc6d88abeaadc92ab27d9048\", element=\"890334be-2162-4c11-80b1-e4430321ba29\")>,\n",
       " <selenium.webdriver.remote.webelement.WebElement (session=\"5116dccadc6d88abeaadc92ab27d9048\", element=\"c4c2b1d5-498b-4f88-962e-3dafe5caf277\")>,\n",
       " <selenium.webdriver.remote.webelement.WebElement (session=\"5116dccadc6d88abeaadc92ab27d9048\", element=\"3388a471-595d-49ce-8572-c65d5e676fb9\")>,\n",
       " <selenium.webdriver.remote.webelement.WebElement (session=\"5116dccadc6d88abeaadc92ab27d9048\", element=\"d7c558a3-c2f6-4f91-9f1b-d02a3a51d0a4\")>]"
      ]
     },
     "execution_count": 69,
     "metadata": {},
     "output_type": "execute_result"
    }
   ],
   "source": [
    "#so lets extract all the tags having the location required data\n",
    "location_tags = driver.find_elements_by_xpath('//li[@class=\"fleft grey-text br2 placeHolderLi location\"]')\n",
    "location_tags"
   ]
  },
  {
   "cell_type": "code",
   "execution_count": 70,
   "metadata": {},
   "outputs": [
    {
     "data": {
      "text/plain": [
       "['Chennai, Bangalore/Bengaluru, Mumbai (All Areas)\\n(WFH during Covid)',\n",
       " 'Hyderabad/Secunderabad, Chennai, Bangalore/Bengaluru',\n",
       " 'Hyderabad/Secunderabad',\n",
       " 'Hyderabad/Secunderabad',\n",
       " 'Hyderabad/Secunderabad, Pune, Ahmedabad, Gurgaon/Gurugram, Chennai, Bangalore/Bengaluru',\n",
       " 'Bengaluru/Bangalore',\n",
       " 'Jhagadia',\n",
       " 'Hyderabad/Secunderabad',\n",
       " 'Hyderabad/Secunderabad',\n",
       " 'Hyderabad/Secunderabad\\n(WFH during Covid)',\n",
       " 'Hyderabad/Secunderabad\\n(WFH during Covid)',\n",
       " 'Bangalore/Bengaluru',\n",
       " 'Pune',\n",
       " 'Hyderabad/Secunderabad',\n",
       " 'Bengaluru/Bangalore',\n",
       " 'Hyderabad/Secunderabad\\n(WFH during Covid)',\n",
       " 'Noida',\n",
       " 'Noida',\n",
       " 'Bengaluru/Bangalore',\n",
       " 'Bangalore/Bengaluru']"
      ]
     },
     "execution_count": 70,
     "metadata": {},
     "output_type": "execute_result"
    }
   ],
   "source": [
    "location_list = []\n",
    "for i in location_tags:\n",
    "     location_list.append(i.text)\n",
    "location_list"
   ]
  },
  {
   "cell_type": "code",
   "execution_count": 71,
   "metadata": {},
   "outputs": [
    {
     "name": "stdout",
     "output_type": "stream",
     "text": [
      "20 20 20 20\n"
     ]
    }
   ],
   "source": [
    "print(len(job_titles),len(company_names),len(job_description_list),len(location_list))"
   ]
  },
  {
   "cell_type": "code",
   "execution_count": 73,
   "metadata": {},
   "outputs": [
    {
     "data": {
      "text/html": [
       "<div>\n",
       "<style scoped>\n",
       "    .dataframe tbody tr th:only-of-type {\n",
       "        vertical-align: middle;\n",
       "    }\n",
       "\n",
       "    .dataframe tbody tr th {\n",
       "        vertical-align: top;\n",
       "    }\n",
       "\n",
       "    .dataframe thead th {\n",
       "        text-align: right;\n",
       "    }\n",
       "</style>\n",
       "<table border=\"1\" class=\"dataframe\">\n",
       "  <thead>\n",
       "    <tr style=\"text-align: right;\">\n",
       "      <th></th>\n",
       "      <th>title</th>\n",
       "      <th>company</th>\n",
       "      <th>job description</th>\n",
       "      <th>location</th>\n",
       "    </tr>\n",
       "  </thead>\n",
       "  <tbody>\n",
       "    <tr>\n",
       "      <th>0</th>\n",
       "      <td>Hiring For Data Scientist</td>\n",
       "      <td>Tata Consultancy Services Ltd.</td>\n",
       "      <td>Minimum 3 year of experience in being Applied ...</td>\n",
       "      <td>Chennai, Bangalore/Bengaluru, Mumbai (All Area...</td>\n",
       "    </tr>\n",
       "    <tr>\n",
       "      <th>1</th>\n",
       "      <td>Data Scientist (Python &amp; SQL)</td>\n",
       "      <td>AVE-Promagne</td>\n",
       "      <td>Required Technical and Professional Expertise•...</td>\n",
       "      <td>Hyderabad/Secunderabad, Chennai, Bangalore/Ben...</td>\n",
       "    </tr>\n",
       "    <tr>\n",
       "      <th>2</th>\n",
       "      <td>Data Scientist &amp; Business Development</td>\n",
       "      <td>Grid Logic Software Private Limited</td>\n",
       "      <td>Understanding of Python, Tableau, Power Bi, re...</td>\n",
       "      <td>Hyderabad/Secunderabad</td>\n",
       "    </tr>\n",
       "    <tr>\n",
       "      <th>3</th>\n",
       "      <td>Business Intelligence - Data Scientist</td>\n",
       "      <td>ADP Pvt. Ltd.</td>\n",
       "      <td>Use these models to identify patterns and rule...</td>\n",
       "      <td>Hyderabad/Secunderabad</td>\n",
       "    </tr>\n",
       "    <tr>\n",
       "      <th>4</th>\n",
       "      <td>Data Scientist/ Machine Learning Engineer</td>\n",
       "      <td>Creative Hands HR Consultancy</td>\n",
       "      <td>Preferable to have Masters in a numerate subje...</td>\n",
       "      <td>Hyderabad/Secunderabad, Pune, Ahmedabad, Gurga...</td>\n",
       "    </tr>\n",
       "    <tr>\n",
       "      <th>5</th>\n",
       "      <td>Lead Data Scientist BFSI</td>\n",
       "      <td>IBM India Pvt. Limited</td>\n",
       "      <td>IntroductionSoftware Developers at IBM are the...</td>\n",
       "      <td>Bengaluru/Bangalore</td>\n",
       "    </tr>\n",
       "    <tr>\n",
       "      <th>6</th>\n",
       "      <td>Data Scientist</td>\n",
       "      <td>United Phosphorus Limited</td>\n",
       "      <td>Experience with R, Python, MATLAB is required,...</td>\n",
       "      <td>Jhagadia</td>\n",
       "    </tr>\n",
       "    <tr>\n",
       "      <th>7</th>\n",
       "      <td>Urgent Opening For Data Scientist @ Heritage F...</td>\n",
       "      <td>HERITAGE FOODS LIMITED</td>\n",
       "      <td>Effectively undertake the requirement elicitat...</td>\n",
       "      <td>Hyderabad/Secunderabad</td>\n",
       "    </tr>\n",
       "    <tr>\n",
       "      <th>8</th>\n",
       "      <td>Urgent Opening For Data Scientist @ Heritage F...</td>\n",
       "      <td>HERITAGE FOODS LIMITED</td>\n",
       "      <td>Effectively undertake the requirement elicitat...</td>\n",
       "      <td>Hyderabad/Secunderabad</td>\n",
       "    </tr>\n",
       "    <tr>\n",
       "      <th>9</th>\n",
       "      <td>Data Scientist</td>\n",
       "      <td>diwo</td>\n",
       "      <td>Well versed with SQL and Database concepts BTe...</td>\n",
       "      <td>Hyderabad/Secunderabad\\n(WFH during Covid)</td>\n",
       "    </tr>\n",
       "  </tbody>\n",
       "</table>\n",
       "</div>"
      ],
      "text/plain": [
       "                                               title  \\\n",
       "0                          Hiring For Data Scientist   \n",
       "1                      Data Scientist (Python & SQL)   \n",
       "2              Data Scientist & Business Development   \n",
       "3             Business Intelligence - Data Scientist   \n",
       "4          Data Scientist/ Machine Learning Engineer   \n",
       "5                           Lead Data Scientist BFSI   \n",
       "6                                     Data Scientist   \n",
       "7  Urgent Opening For Data Scientist @ Heritage F...   \n",
       "8  Urgent Opening For Data Scientist @ Heritage F...   \n",
       "9                                     Data Scientist   \n",
       "\n",
       "                               company  \\\n",
       "0       Tata Consultancy Services Ltd.   \n",
       "1                         AVE-Promagne   \n",
       "2  Grid Logic Software Private Limited   \n",
       "3                        ADP Pvt. Ltd.   \n",
       "4        Creative Hands HR Consultancy   \n",
       "5               IBM India Pvt. Limited   \n",
       "6            United Phosphorus Limited   \n",
       "7               HERITAGE FOODS LIMITED   \n",
       "8               HERITAGE FOODS LIMITED   \n",
       "9                                 diwo   \n",
       "\n",
       "                                     job description  \\\n",
       "0  Minimum 3 year of experience in being Applied ...   \n",
       "1  Required Technical and Professional Expertise•...   \n",
       "2  Understanding of Python, Tableau, Power Bi, re...   \n",
       "3  Use these models to identify patterns and rule...   \n",
       "4  Preferable to have Masters in a numerate subje...   \n",
       "5  IntroductionSoftware Developers at IBM are the...   \n",
       "6  Experience with R, Python, MATLAB is required,...   \n",
       "7  Effectively undertake the requirement elicitat...   \n",
       "8  Effectively undertake the requirement elicitat...   \n",
       "9  Well versed with SQL and Database concepts BTe...   \n",
       "\n",
       "                                            location  \n",
       "0  Chennai, Bangalore/Bengaluru, Mumbai (All Area...  \n",
       "1  Hyderabad/Secunderabad, Chennai, Bangalore/Ben...  \n",
       "2                             Hyderabad/Secunderabad  \n",
       "3                             Hyderabad/Secunderabad  \n",
       "4  Hyderabad/Secunderabad, Pune, Ahmedabad, Gurga...  \n",
       "5                                Bengaluru/Bangalore  \n",
       "6                                           Jhagadia  \n",
       "7                             Hyderabad/Secunderabad  \n",
       "8                             Hyderabad/Secunderabad  \n",
       "9         Hyderabad/Secunderabad\\n(WFH during Covid)  "
      ]
     },
     "execution_count": 73,
     "metadata": {},
     "output_type": "execute_result"
    }
   ],
   "source": [
    "import pandas as pd\n",
    "jobs=pd.DataFrame({})\n",
    "jobs[\"title\"]=job_titles\n",
    "jobs[\"company\"]=company_names\n",
    "jobs[\"job description\"]=job_description_list\n",
    "jobs[\"location\"]=location_list\n",
    "jobs[:10]"
   ]
  },
  {
   "cell_type": "code",
   "execution_count": null,
   "metadata": {},
   "outputs": [],
   "source": []
  },
  {
   "cell_type": "code",
   "execution_count": null,
   "metadata": {},
   "outputs": [],
   "source": []
  },
  {
   "cell_type": "code",
   "execution_count": null,
   "metadata": {},
   "outputs": [],
   "source": []
  },
  {
   "cell_type": "code",
   "execution_count": null,
   "metadata": {},
   "outputs": [],
   "source": []
  },
  {
   "cell_type": "code",
   "execution_count": null,
   "metadata": {},
   "outputs": [],
   "source": []
  },
  {
   "cell_type": "markdown",
   "metadata": {},
   "source": [
    "# Q3: In this question you have to scrape data using the filters available on the webpage as shown below:"
   ]
  },
  {
   "cell_type": "code",
   "execution_count": 152,
   "metadata": {},
   "outputs": [],
   "source": [
    "# importing the necessary libraries\n",
    "\n",
    "import undetected_chromedriver.v2 as uc\n",
    "import selenium\n",
    "import pandas as pd\n",
    "from selenium import webdriver\n",
    "import time\n",
    "import warnings\n",
    "warnings.filterwarnings(\"ignore\")"
   ]
  },
  {
   "cell_type": "code",
   "execution_count": 153,
   "metadata": {},
   "outputs": [],
   "source": [
    "# 1.Lets connect to web driver\n",
    "driver = webdriver.Chrome(\"chromedriver.exe\")\n",
    "driver = uc.Chrome()\n",
    "with driver:\n",
    "    driver.get('https://www.naukri.com/')"
   ]
  },
  {
   "cell_type": "code",
   "execution_count": 154,
   "metadata": {},
   "outputs": [],
   "source": [
    "# Finding web element for search bar.\n",
    "# 2. Enter “Data Scientist” in “Skill,Designations,Companies” field and enter “Bangalore” in “enter the location” field\n",
    "search_job= driver.find_element_by_id('qsb-keyword-sugg')\n",
    "\n",
    "# write on search bar 'Data Scientist'\n",
    "search_job.send_keys('Data Scientist')\n",
    "\n",
    "# Finding element for job location and entering location as Delhi/NCR.\n",
    "search_loc= driver.find_element_by_id('qsb-location-sugg')\n",
    "search_loc.send_keys('Delhi/NCR')"
   ]
  },
  {
   "cell_type": "code",
   "execution_count": 155,
   "metadata": {},
   "outputs": [],
   "source": [
    "# 3.clicking the search button using XPATH function.\n",
    "search_button= driver.find_element_by_xpath(\"//button[@class='btn']\")\n",
    "search_button.click()"
   ]
  },
  {
   "cell_type": "code",
   "execution_count": 156,
   "metadata": {},
   "outputs": [],
   "source": [
    "# Finding element for salary and entering salary requirement as 3-6 lakhs.\n",
    "salary_filter= driver.find_element_by_xpath(\"//span[@title='3-6 Lakhs']\")\n",
    "salary_filter.click()"
   ]
  },
  {
   "cell_type": "code",
   "execution_count": 157,
   "metadata": {},
   "outputs": [],
   "source": [
    "# Fetching urls to open each page.\n",
    "urls =[]\n",
    "for i in range(0,3):\n",
    "    for j in driver.find_elements_by_xpath(\"//div[@class='info fleft']/a\"):\n",
    "        urls.append(j.get_attribute('href'))\n",
    "    driver.find_element_by_xpath(\"//div[@class='fleft pages']/a\").click()\n",
    "    time.sleep(4)"
   ]
  },
  {
   "cell_type": "code",
   "execution_count": 159,
   "metadata": {},
   "outputs": [],
   "source": [
    "# Creating empty lists for saving data.\n",
    "job_title3 = []\n",
    "company_name3 = []\n",
    "experience3 = []\n",
    "days_of_posting3 = []"
   ]
  },
  {
   "cell_type": "code",
   "execution_count": 160,
   "metadata": {},
   "outputs": [],
   "source": [
    "# Extracting data from each url.\n",
    "for i in range(0,3):\n",
    "    for j in driver.find_elements_by_xpath(\"//a[@class= 'title fw500 ellipsis']\"):\n",
    "        job_title3.append(j.text)\n",
    "    for k in driver.find_elements_by_xpath(\"//a[@class='subTitle ellipsis fleft']\"):\n",
    "        company_name3.append(k.text)\n",
    "    for m in driver.find_elements_by_xpath(\"//li[@class='fleft grey-text br2 placeHolderLi experience']\"):\n",
    "        experience3.append(m.text)\n",
    "    for n in driver.find_elements_by_xpath(\"//div[@class='type br2 fleft grey']\"):\n",
    "        days_of_posting3.append(n.text)\n",
    "    driver.find_element_by_xpath(\"//div[@class='fleft pages']/a\").click()\n",
    "    time.sleep(4)"
   ]
  },
  {
   "cell_type": "code",
   "execution_count": 161,
   "metadata": {},
   "outputs": [
    {
     "data": {
      "text/html": [
       "<div>\n",
       "<style scoped>\n",
       "    .dataframe tbody tr th:only-of-type {\n",
       "        vertical-align: middle;\n",
       "    }\n",
       "\n",
       "    .dataframe tbody tr th {\n",
       "        vertical-align: top;\n",
       "    }\n",
       "\n",
       "    .dataframe thead th {\n",
       "        text-align: right;\n",
       "    }\n",
       "</style>\n",
       "<table border=\"1\" class=\"dataframe\">\n",
       "  <thead>\n",
       "    <tr style=\"text-align: right;\">\n",
       "      <th></th>\n",
       "      <th>Title</th>\n",
       "      <th>Company name</th>\n",
       "      <th>Experince</th>\n",
       "      <th>Days of Posting</th>\n",
       "    </tr>\n",
       "  </thead>\n",
       "  <tbody>\n",
       "    <tr>\n",
       "      <th>0</th>\n",
       "      <td>Data Analyst/Data Scientist</td>\n",
       "      <td>Skillenable Fintech Private Limited</td>\n",
       "      <td>2-5 Yrs</td>\n",
       "      <td>15 DAYS AGO</td>\n",
       "    </tr>\n",
       "    <tr>\n",
       "      <th>1</th>\n",
       "      <td>Data Scientist - Insurance</td>\n",
       "      <td>Huquo Consulting Pvt. Ltd</td>\n",
       "      <td>2-7 Yrs</td>\n",
       "      <td>2 DAYS AGO</td>\n",
       "    </tr>\n",
       "    <tr>\n",
       "      <th>2</th>\n",
       "      <td>Data Scientist / Data Analyst</td>\n",
       "      <td>CARS24</td>\n",
       "      <td>1-5 Yrs</td>\n",
       "      <td>11 DAYS AGO</td>\n",
       "    </tr>\n",
       "    <tr>\n",
       "      <th>3</th>\n",
       "      <td>Data Scientist/ Machine Learning Engineer</td>\n",
       "      <td>Creative Hands HR Consultancy</td>\n",
       "      <td>0-0 Yrs</td>\n",
       "      <td>3 DAYS AGO</td>\n",
       "    </tr>\n",
       "    <tr>\n",
       "      <th>4</th>\n",
       "      <td>Data Scientist</td>\n",
       "      <td>PROCESS NINE TECHNOLOGIES PVT.LTD.</td>\n",
       "      <td>1-3 Yrs</td>\n",
       "      <td>4 DAYS AGO</td>\n",
       "    </tr>\n",
       "    <tr>\n",
       "      <th>5</th>\n",
       "      <td>Data Scientist</td>\n",
       "      <td>R Systems International Ltd.</td>\n",
       "      <td>3-6 Yrs</td>\n",
       "      <td>12 DAYS AGO</td>\n",
       "    </tr>\n",
       "    <tr>\n",
       "      <th>6</th>\n",
       "      <td>Only Fresher / Data Scientist / Data Analyst /...</td>\n",
       "      <td>GABA Consultancy services</td>\n",
       "      <td>0-0 Yrs</td>\n",
       "      <td>5 DAYS AGO</td>\n",
       "    </tr>\n",
       "    <tr>\n",
       "      <th>7</th>\n",
       "      <td>Data Scientist - WFH - MIND Infotech</td>\n",
       "      <td>MOTHERSONSUMI INFOTECH &amp; DESIGNS LIMITED</td>\n",
       "      <td>3-7 Yrs</td>\n",
       "      <td>12 DAYS AGO</td>\n",
       "    </tr>\n",
       "    <tr>\n",
       "      <th>8</th>\n",
       "      <td>Data Scientist / Data Analyst / Business Analy...</td>\n",
       "      <td>GABA Consultancy services</td>\n",
       "      <td>0-0 Yrs</td>\n",
       "      <td>9 DAYS AGO</td>\n",
       "    </tr>\n",
       "    <tr>\n",
       "      <th>9</th>\n",
       "      <td>Immediate Openings For Data Scientist For Wipr...</td>\n",
       "      <td>IDESLABS PRIVATE LIMITED</td>\n",
       "      <td>5-10 Yrs</td>\n",
       "      <td>4 DAYS AGO</td>\n",
       "    </tr>\n",
       "  </tbody>\n",
       "</table>\n",
       "</div>"
      ],
      "text/plain": [
       "                                               Title  \\\n",
       "0                        Data Analyst/Data Scientist   \n",
       "1                         Data Scientist - Insurance   \n",
       "2                      Data Scientist / Data Analyst   \n",
       "3          Data Scientist/ Machine Learning Engineer   \n",
       "4                                     Data Scientist   \n",
       "5                                     Data Scientist   \n",
       "6  Only Fresher / Data Scientist / Data Analyst /...   \n",
       "7               Data Scientist - WFH - MIND Infotech   \n",
       "8  Data Scientist / Data Analyst / Business Analy...   \n",
       "9  Immediate Openings For Data Scientist For Wipr...   \n",
       "\n",
       "                               Company name Experince Days of Posting  \n",
       "0       Skillenable Fintech Private Limited   2-5 Yrs     15 DAYS AGO  \n",
       "1                 Huquo Consulting Pvt. Ltd   2-7 Yrs      2 DAYS AGO  \n",
       "2                                    CARS24   1-5 Yrs     11 DAYS AGO  \n",
       "3             Creative Hands HR Consultancy   0-0 Yrs      3 DAYS AGO  \n",
       "4        PROCESS NINE TECHNOLOGIES PVT.LTD.   1-3 Yrs      4 DAYS AGO  \n",
       "5              R Systems International Ltd.   3-6 Yrs     12 DAYS AGO  \n",
       "6                 GABA Consultancy services   0-0 Yrs      5 DAYS AGO  \n",
       "7  MOTHERSONSUMI INFOTECH & DESIGNS LIMITED   3-7 Yrs     12 DAYS AGO  \n",
       "8                 GABA Consultancy services   0-0 Yrs      9 DAYS AGO  \n",
       "9                  IDESLABS PRIVATE LIMITED  5-10 Yrs      4 DAYS AGO  "
      ]
     },
     "execution_count": 161,
     "metadata": {},
     "output_type": "execute_result"
    }
   ],
   "source": [
    "# Finally create a dataframe of the scraped data.\n",
    "ds_jobs_del= pd.DataFrame({})\n",
    "ds_jobs_del['Title'] = job_title3[:10]\n",
    "ds_jobs_del['Company name'] = company_name3[:10]\n",
    "ds_jobs_del['Experince'] = experience3[:10]\n",
    "ds_jobs_del['Days of Posting'] = days_of_posting3[:10]\n",
    "ds_jobs_del"
   ]
  },
  {
   "cell_type": "markdown",
   "metadata": {},
   "source": [
    "# Q4: Write a python program to scrape data for first 10 job results for Data scientist Designation in Noida location. You have to scrape company_name, No. of days ago when job was posted, Rating of the company."
   ]
  },
  {
   "cell_type": "code",
   "execution_count": 7,
   "metadata": {},
   "outputs": [],
   "source": [
    "# importing the necessary libraries\n",
    "\n",
    "import selenium\n",
    "import pandas as pd\n",
    "from selenium import webdriver\n",
    "import time"
   ]
  },
  {
   "cell_type": "code",
   "execution_count": 11,
   "metadata": {},
   "outputs": [],
   "source": [
    "# Lets connect to web driver\n",
    "driver = webdriver.Chrome(\"chromedriver.exe\")"
   ]
  },
  {
   "cell_type": "code",
   "execution_count": 13,
   "metadata": {},
   "outputs": [],
   "source": [
    "# 1.Getting url/web page.\n",
    "url= \"https://www.glassdoor.co.in/index.htm\"\n",
    "driver.get(url)"
   ]
  },
  {
   "cell_type": "code",
   "execution_count": 15,
   "metadata": {},
   "outputs": [
    {
     "data": {
      "text/plain": [
       "<selenium.webdriver.remote.webelement.WebElement (session=\"4d63cd4f75d180b8449a5f66946bff50\", element=\"14f937c0-74f9-498f-8983-ad255017dfb8\")>"
      ]
     },
     "execution_count": 15,
     "metadata": {},
     "output_type": "execute_result"
    }
   ],
   "source": [
    "# To select the company button to go to the search page.\n",
    "search_job=driver.find_element_by_id('scKeyword')\n",
    "search_job"
   ]
  },
  {
   "cell_type": "code",
   "execution_count": 16,
   "metadata": {},
   "outputs": [],
   "source": [
    "search_job.send_keys('Data Scientist')"
   ]
  },
  {
   "cell_type": "code",
   "execution_count": 17,
   "metadata": {
    "scrolled": true
   },
   "outputs": [],
   "source": [
    "search_button=driver.find_element_by_xpath(\"//input[@id='scLocation']\")"
   ]
  },
  {
   "cell_type": "code",
   "execution_count": 18,
   "metadata": {},
   "outputs": [],
   "source": [
    "search_button.send_keys('Noida')"
   ]
  },
  {
   "cell_type": "code",
   "execution_count": 19,
   "metadata": {},
   "outputs": [],
   "source": [
    "search_button=driver.find_element_by_xpath(\"//button[@class='pl-0 pr-xsm search__SearchStyles__searchKeywordSubmit']\")"
   ]
  },
  {
   "cell_type": "code",
   "execution_count": 20,
   "metadata": {},
   "outputs": [],
   "source": [
    "search_button.click()"
   ]
  },
  {
   "cell_type": "code",
   "execution_count": 21,
   "metadata": {},
   "outputs": [
    {
     "data": {
      "text/plain": [
       "[<selenium.webdriver.remote.webelement.WebElement (session=\"4d63cd4f75d180b8449a5f66946bff50\", element=\"910c5d96-be9b-434b-8515-44dfc66e344a\")>,\n",
       " <selenium.webdriver.remote.webelement.WebElement (session=\"4d63cd4f75d180b8449a5f66946bff50\", element=\"46529632-cd37-49a5-89c1-feca8700641e\")>,\n",
       " <selenium.webdriver.remote.webelement.WebElement (session=\"4d63cd4f75d180b8449a5f66946bff50\", element=\"5f9e47b4-af63-4ffa-a942-86c605bc4256\")>,\n",
       " <selenium.webdriver.remote.webelement.WebElement (session=\"4d63cd4f75d180b8449a5f66946bff50\", element=\"c59684d4-9760-4067-ae39-cf84bea28bd3\")>,\n",
       " <selenium.webdriver.remote.webelement.WebElement (session=\"4d63cd4f75d180b8449a5f66946bff50\", element=\"59e5d5c6-54fe-4318-bbfd-b2758cec57c0\")>,\n",
       " <selenium.webdriver.remote.webelement.WebElement (session=\"4d63cd4f75d180b8449a5f66946bff50\", element=\"fa8734a3-848a-4aa8-80f7-842f3e5a2dc1\")>,\n",
       " <selenium.webdriver.remote.webelement.WebElement (session=\"4d63cd4f75d180b8449a5f66946bff50\", element=\"1317348f-c214-4cf5-90ed-172e39a8251f\")>,\n",
       " <selenium.webdriver.remote.webelement.WebElement (session=\"4d63cd4f75d180b8449a5f66946bff50\", element=\"c4922e03-6313-4ab5-8169-a0a8fd42c80e\")>,\n",
       " <selenium.webdriver.remote.webelement.WebElement (session=\"4d63cd4f75d180b8449a5f66946bff50\", element=\"3de61111-8cfa-4fbe-a98e-03317e7b630e\")>,\n",
       " <selenium.webdriver.remote.webelement.WebElement (session=\"4d63cd4f75d180b8449a5f66946bff50\", element=\"8d5fd239-2b9b-46a8-b7a0-2f0e55f6f53a\")>,\n",
       " <selenium.webdriver.remote.webelement.WebElement (session=\"4d63cd4f75d180b8449a5f66946bff50\", element=\"4c6f7454-4c78-424b-b06a-e986b0485a39\")>,\n",
       " <selenium.webdriver.remote.webelement.WebElement (session=\"4d63cd4f75d180b8449a5f66946bff50\", element=\"5d2d2bd4-a245-4667-bf8f-bc251994f86b\")>,\n",
       " <selenium.webdriver.remote.webelement.WebElement (session=\"4d63cd4f75d180b8449a5f66946bff50\", element=\"b86211d8-187e-4c2b-9bce-ba6b0ccacd1d\")>,\n",
       " <selenium.webdriver.remote.webelement.WebElement (session=\"4d63cd4f75d180b8449a5f66946bff50\", element=\"4bc2b81e-b5b0-4c1b-b5b5-af6493c241ff\")>,\n",
       " <selenium.webdriver.remote.webelement.WebElement (session=\"4d63cd4f75d180b8449a5f66946bff50\", element=\"07aad2bc-1ae8-43fd-a789-33b9473c2684\")>,\n",
       " <selenium.webdriver.remote.webelement.WebElement (session=\"4d63cd4f75d180b8449a5f66946bff50\", element=\"1fcf9275-68cd-4033-bf0f-602670a7bfb7\")>,\n",
       " <selenium.webdriver.remote.webelement.WebElement (session=\"4d63cd4f75d180b8449a5f66946bff50\", element=\"55068832-3435-40e0-87e9-d7fc5fb8ead4\")>,\n",
       " <selenium.webdriver.remote.webelement.WebElement (session=\"4d63cd4f75d180b8449a5f66946bff50\", element=\"d79572e2-f940-491e-ab56-764746ab2ab4\")>,\n",
       " <selenium.webdriver.remote.webelement.WebElement (session=\"4d63cd4f75d180b8449a5f66946bff50\", element=\"855920d9-7f51-45e3-986c-91bddb4b2f4f\")>,\n",
       " <selenium.webdriver.remote.webelement.WebElement (session=\"4d63cd4f75d180b8449a5f66946bff50\", element=\"37d58ecc-3754-4a47-a3ed-2c288c3ddbbb\")>,\n",
       " <selenium.webdriver.remote.webelement.WebElement (session=\"4d63cd4f75d180b8449a5f66946bff50\", element=\"48ce4af4-f9d8-470c-837d-bf212a7be3a3\")>,\n",
       " <selenium.webdriver.remote.webelement.WebElement (session=\"4d63cd4f75d180b8449a5f66946bff50\", element=\"605f2847-94cc-49ea-a97a-7bd2d18e3334\")>,\n",
       " <selenium.webdriver.remote.webelement.WebElement (session=\"4d63cd4f75d180b8449a5f66946bff50\", element=\"1f8170de-f574-4f6b-b16f-6937900f9a9b\")>,\n",
       " <selenium.webdriver.remote.webelement.WebElement (session=\"4d63cd4f75d180b8449a5f66946bff50\", element=\"96dd5477-58a7-48d2-bd4f-9d6bf1169479\")>,\n",
       " <selenium.webdriver.remote.webelement.WebElement (session=\"4d63cd4f75d180b8449a5f66946bff50\", element=\"77dab7db-623e-4be6-b337-a685a57d17f0\")>,\n",
       " <selenium.webdriver.remote.webelement.WebElement (session=\"4d63cd4f75d180b8449a5f66946bff50\", element=\"39b5f23f-7920-4c7c-b7ba-5a20c147d27d\")>,\n",
       " <selenium.webdriver.remote.webelement.WebElement (session=\"4d63cd4f75d180b8449a5f66946bff50\", element=\"f3e99de8-fe9a-4871-80bf-b93bc92cd08e\")>,\n",
       " <selenium.webdriver.remote.webelement.WebElement (session=\"4d63cd4f75d180b8449a5f66946bff50\", element=\"83296956-efe9-45aa-b2c9-00d7ac6f93b8\")>,\n",
       " <selenium.webdriver.remote.webelement.WebElement (session=\"4d63cd4f75d180b8449a5f66946bff50\", element=\"ec56fb09-727a-40ee-b531-f494c0522780\")>,\n",
       " <selenium.webdriver.remote.webelement.WebElement (session=\"4d63cd4f75d180b8449a5f66946bff50\", element=\"c49146f8-40f5-4125-84dd-d9964b58625b\")>]"
      ]
     },
     "execution_count": 21,
     "metadata": {},
     "output_type": "execute_result"
    }
   ],
   "source": [
    "job_title=driver.find_elements_by_xpath(\"//div[@class='d-flex justify-content-between align-items-start']\")\n",
    "job_title"
   ]
  },
  {
   "cell_type": "code",
   "execution_count": 23,
   "metadata": {},
   "outputs": [
    {
     "data": {
      "text/plain": [
       "['Liberin Technologies Private Limited',\n",
       " 'AlgoScale Technologies Private Limited',\n",
       " 'Noisy Lion',\n",
       " 'Salasar New Age Technologies',\n",
       " 'Grail Insights',\n",
       " 'Techlive',\n",
       " 'Grail Insights',\n",
       " 'Lenskart',\n",
       " 'Salasar New Age Technologies',\n",
       " 'SearchUrCollege']"
      ]
     },
     "execution_count": 23,
     "metadata": {},
     "output_type": "execute_result"
    }
   ],
   "source": [
    "J_Titles=[]\n",
    "for i in job_title:\n",
    "    J_Titles.append(i.text)\n",
    "J_Titles=J_Titles[0:10]\n",
    "J_Titles"
   ]
  },
  {
   "cell_type": "code",
   "execution_count": 24,
   "metadata": {},
   "outputs": [
    {
     "data": {
      "text/plain": [
       "[<selenium.webdriver.remote.webelement.WebElement (session=\"4d63cd4f75d180b8449a5f66946bff50\", element=\"65c214f9-b127-4151-992e-2ee157106cc6\")>,\n",
       " <selenium.webdriver.remote.webelement.WebElement (session=\"4d63cd4f75d180b8449a5f66946bff50\", element=\"ccb2e70d-eaf7-4756-bb04-c61a589963ff\")>,\n",
       " <selenium.webdriver.remote.webelement.WebElement (session=\"4d63cd4f75d180b8449a5f66946bff50\", element=\"dfa7948e-2e16-482b-adfa-af25fd5a0cd5\")>,\n",
       " <selenium.webdriver.remote.webelement.WebElement (session=\"4d63cd4f75d180b8449a5f66946bff50\", element=\"47f3f61d-83f3-4013-827a-03ba6fac94fc\")>,\n",
       " <selenium.webdriver.remote.webelement.WebElement (session=\"4d63cd4f75d180b8449a5f66946bff50\", element=\"4f14bdfe-0372-4931-871e-75b8ea1bcd6b\")>,\n",
       " <selenium.webdriver.remote.webelement.WebElement (session=\"4d63cd4f75d180b8449a5f66946bff50\", element=\"8b015a23-b41b-40db-bbc0-778b9aa36e69\")>,\n",
       " <selenium.webdriver.remote.webelement.WebElement (session=\"4d63cd4f75d180b8449a5f66946bff50\", element=\"aa832839-5cdd-44ed-b594-9e963cc1fcba\")>,\n",
       " <selenium.webdriver.remote.webelement.WebElement (session=\"4d63cd4f75d180b8449a5f66946bff50\", element=\"72e99f61-c539-4bef-8a98-804d3605c7f6\")>,\n",
       " <selenium.webdriver.remote.webelement.WebElement (session=\"4d63cd4f75d180b8449a5f66946bff50\", element=\"cd9b225a-4afb-4b68-ad1d-103de24f3768\")>,\n",
       " <selenium.webdriver.remote.webelement.WebElement (session=\"4d63cd4f75d180b8449a5f66946bff50\", element=\"78e5741c-b357-415f-972d-463b0f0db4ac\")>,\n",
       " <selenium.webdriver.remote.webelement.WebElement (session=\"4d63cd4f75d180b8449a5f66946bff50\", element=\"52f8c351-4c46-4a98-bfbc-51c25d01b318\")>,\n",
       " <selenium.webdriver.remote.webelement.WebElement (session=\"4d63cd4f75d180b8449a5f66946bff50\", element=\"93a628a2-1fe6-432f-a965-4a398be77c09\")>,\n",
       " <selenium.webdriver.remote.webelement.WebElement (session=\"4d63cd4f75d180b8449a5f66946bff50\", element=\"1c9e81fb-78ad-4b82-8ff4-9a47b930030e\")>,\n",
       " <selenium.webdriver.remote.webelement.WebElement (session=\"4d63cd4f75d180b8449a5f66946bff50\", element=\"508e8cc3-478d-4963-b6d2-5d2f8ead70a5\")>,\n",
       " <selenium.webdriver.remote.webelement.WebElement (session=\"4d63cd4f75d180b8449a5f66946bff50\", element=\"0120e86b-5f4e-4ccf-b6a4-70072e7def30\")>,\n",
       " <selenium.webdriver.remote.webelement.WebElement (session=\"4d63cd4f75d180b8449a5f66946bff50\", element=\"5c991d3f-9b10-435c-873f-0c4b9470bd78\")>,\n",
       " <selenium.webdriver.remote.webelement.WebElement (session=\"4d63cd4f75d180b8449a5f66946bff50\", element=\"88d3a2ba-0ee7-4bf0-b6f2-9fbcfaee5e3a\")>,\n",
       " <selenium.webdriver.remote.webelement.WebElement (session=\"4d63cd4f75d180b8449a5f66946bff50\", element=\"3bdbbd97-fee7-45e2-b393-03b14d46496d\")>,\n",
       " <selenium.webdriver.remote.webelement.WebElement (session=\"4d63cd4f75d180b8449a5f66946bff50\", element=\"1e1da4fc-a051-4ee3-8a56-622222a9568e\")>,\n",
       " <selenium.webdriver.remote.webelement.WebElement (session=\"4d63cd4f75d180b8449a5f66946bff50\", element=\"e4a1dce0-b9a2-41c8-ac0c-78a125c54090\")>,\n",
       " <selenium.webdriver.remote.webelement.WebElement (session=\"4d63cd4f75d180b8449a5f66946bff50\", element=\"95d461c9-69af-495d-859d-f61d45aca973\")>,\n",
       " <selenium.webdriver.remote.webelement.WebElement (session=\"4d63cd4f75d180b8449a5f66946bff50\", element=\"2789e78f-569f-4648-90a2-9fef904acd69\")>,\n",
       " <selenium.webdriver.remote.webelement.WebElement (session=\"4d63cd4f75d180b8449a5f66946bff50\", element=\"17af397f-0c05-4d85-af9c-6b113c22bdf2\")>,\n",
       " <selenium.webdriver.remote.webelement.WebElement (session=\"4d63cd4f75d180b8449a5f66946bff50\", element=\"d0fb2d52-c2d3-4beb-97b9-ae683df81d16\")>,\n",
       " <selenium.webdriver.remote.webelement.WebElement (session=\"4d63cd4f75d180b8449a5f66946bff50\", element=\"8a88886e-74d3-407b-875b-f50cff977567\")>,\n",
       " <selenium.webdriver.remote.webelement.WebElement (session=\"4d63cd4f75d180b8449a5f66946bff50\", element=\"c1b7b8e0-e576-4562-958b-60d84d23f008\")>,\n",
       " <selenium.webdriver.remote.webelement.WebElement (session=\"4d63cd4f75d180b8449a5f66946bff50\", element=\"0fae3b0d-5f86-4ee9-a54e-0a5857be58ea\")>,\n",
       " <selenium.webdriver.remote.webelement.WebElement (session=\"4d63cd4f75d180b8449a5f66946bff50\", element=\"db6ecc3a-95cf-4d30-9ca0-b66fbe15c5cb\")>,\n",
       " <selenium.webdriver.remote.webelement.WebElement (session=\"4d63cd4f75d180b8449a5f66946bff50\", element=\"eb80e370-7eb9-4683-a72e-a058793ae1c1\")>,\n",
       " <selenium.webdriver.remote.webelement.WebElement (session=\"4d63cd4f75d180b8449a5f66946bff50\", element=\"ef6ee53f-03e2-4bb5-a570-270ee6358567\")>]"
      ]
     },
     "execution_count": 24,
     "metadata": {},
     "output_type": "execute_result"
    }
   ],
   "source": [
    "company_titles=driver.find_elements_by_xpath(\"//a[@class='jobLink job-search-key-1rd3saf eigr9kq1']\")\n",
    "company_titles"
   ]
  },
  {
   "cell_type": "code",
   "execution_count": 26,
   "metadata": {},
   "outputs": [
    {
     "data": {
      "text/plain": [
       "['Associate Data Scientist',\n",
       " 'Data Scientist',\n",
       " 'Data Analytics part time job/internship at Noida',\n",
       " 'Data Scientist Intern',\n",
       " 'Management Trainee – Data Science',\n",
       " 'Data Scientist',\n",
       " 'Analyst – Data Science',\n",
       " 'Data Scientist',\n",
       " 'Data Scientist',\n",
       " 'Data Scientist']"
      ]
     },
     "execution_count": 26,
     "metadata": {},
     "output_type": "execute_result"
    }
   ],
   "source": [
    "company_names=[]\n",
    "for i in company_titles:\n",
    "    company_names.append(i.text)\n",
    "company_names=company_names[0:10]\n",
    "company_names"
   ]
  },
  {
   "cell_type": "code",
   "execution_count": 27,
   "metadata": {},
   "outputs": [
    {
     "data": {
      "text/plain": [
       "[<selenium.webdriver.remote.webelement.WebElement (session=\"4d63cd4f75d180b8449a5f66946bff50\", element=\"a0f14b4f-d95e-46fd-9ec4-a1471c614922\")>,\n",
       " <selenium.webdriver.remote.webelement.WebElement (session=\"4d63cd4f75d180b8449a5f66946bff50\", element=\"49168122-32ff-47b5-a341-081c0dde329a\")>,\n",
       " <selenium.webdriver.remote.webelement.WebElement (session=\"4d63cd4f75d180b8449a5f66946bff50\", element=\"ab77a0f2-9d0d-4791-8c9c-26852afcad74\")>,\n",
       " <selenium.webdriver.remote.webelement.WebElement (session=\"4d63cd4f75d180b8449a5f66946bff50\", element=\"55e9545a-f32f-4f49-8fc9-99d7e96e339a\")>,\n",
       " <selenium.webdriver.remote.webelement.WebElement (session=\"4d63cd4f75d180b8449a5f66946bff50\", element=\"a3778c19-70dd-41c6-8993-dac9c54db0f1\")>,\n",
       " <selenium.webdriver.remote.webelement.WebElement (session=\"4d63cd4f75d180b8449a5f66946bff50\", element=\"d5ddd009-d6d0-4955-b01a-ae0746533a51\")>,\n",
       " <selenium.webdriver.remote.webelement.WebElement (session=\"4d63cd4f75d180b8449a5f66946bff50\", element=\"02d9bac1-ed16-4cbe-a087-0f6a7b28343e\")>,\n",
       " <selenium.webdriver.remote.webelement.WebElement (session=\"4d63cd4f75d180b8449a5f66946bff50\", element=\"f5c31268-2a80-4c18-9864-411c08bc8207\")>,\n",
       " <selenium.webdriver.remote.webelement.WebElement (session=\"4d63cd4f75d180b8449a5f66946bff50\", element=\"b2269d82-cc5a-4418-8ce9-809ffceae8f6\")>,\n",
       " <selenium.webdriver.remote.webelement.WebElement (session=\"4d63cd4f75d180b8449a5f66946bff50\", element=\"625f31ce-8705-410c-aa44-f10df8cb3d7f\")>,\n",
       " <selenium.webdriver.remote.webelement.WebElement (session=\"4d63cd4f75d180b8449a5f66946bff50\", element=\"c4fcafbc-221d-40b8-872e-a43fd8832c17\")>,\n",
       " <selenium.webdriver.remote.webelement.WebElement (session=\"4d63cd4f75d180b8449a5f66946bff50\", element=\"efb27594-b3d1-458a-b815-ba85c3f5d916\")>,\n",
       " <selenium.webdriver.remote.webelement.WebElement (session=\"4d63cd4f75d180b8449a5f66946bff50\", element=\"1e04982d-8463-4cd1-8946-53b252c773c6\")>,\n",
       " <selenium.webdriver.remote.webelement.WebElement (session=\"4d63cd4f75d180b8449a5f66946bff50\", element=\"a947a20c-6dde-431d-a8e9-77c778ca7bab\")>,\n",
       " <selenium.webdriver.remote.webelement.WebElement (session=\"4d63cd4f75d180b8449a5f66946bff50\", element=\"5e18dce9-3381-4b9c-9098-48891a423f50\")>,\n",
       " <selenium.webdriver.remote.webelement.WebElement (session=\"4d63cd4f75d180b8449a5f66946bff50\", element=\"87e001a4-f9f2-4039-b440-77f4aa97aaf7\")>,\n",
       " <selenium.webdriver.remote.webelement.WebElement (session=\"4d63cd4f75d180b8449a5f66946bff50\", element=\"a719705a-b334-4612-b755-d00db56f1893\")>,\n",
       " <selenium.webdriver.remote.webelement.WebElement (session=\"4d63cd4f75d180b8449a5f66946bff50\", element=\"bccf7866-cc7d-4d1d-970f-b5701b5bd14a\")>,\n",
       " <selenium.webdriver.remote.webelement.WebElement (session=\"4d63cd4f75d180b8449a5f66946bff50\", element=\"0abf9164-f7b3-4982-a312-a2bed197044b\")>,\n",
       " <selenium.webdriver.remote.webelement.WebElement (session=\"4d63cd4f75d180b8449a5f66946bff50\", element=\"14c34958-2059-43aa-9490-46e63ac50243\")>,\n",
       " <selenium.webdriver.remote.webelement.WebElement (session=\"4d63cd4f75d180b8449a5f66946bff50\", element=\"f4df2485-f14e-4742-b004-8cde25d2c566\")>,\n",
       " <selenium.webdriver.remote.webelement.WebElement (session=\"4d63cd4f75d180b8449a5f66946bff50\", element=\"da9d4886-428f-491f-be9a-02d535b74951\")>,\n",
       " <selenium.webdriver.remote.webelement.WebElement (session=\"4d63cd4f75d180b8449a5f66946bff50\", element=\"297c52f7-b2fa-423b-b03c-ee0768bb2bd6\")>,\n",
       " <selenium.webdriver.remote.webelement.WebElement (session=\"4d63cd4f75d180b8449a5f66946bff50\", element=\"1279f1c2-5add-46af-9662-e84016e0896b\")>,\n",
       " <selenium.webdriver.remote.webelement.WebElement (session=\"4d63cd4f75d180b8449a5f66946bff50\", element=\"ee460a1c-4e8c-416e-a4ff-6fcb1a1d0388\")>,\n",
       " <selenium.webdriver.remote.webelement.WebElement (session=\"4d63cd4f75d180b8449a5f66946bff50\", element=\"3a97837b-6661-4cfa-a565-d5d823b18da2\")>,\n",
       " <selenium.webdriver.remote.webelement.WebElement (session=\"4d63cd4f75d180b8449a5f66946bff50\", element=\"b8043fd6-c2c7-45e2-8863-c2c099e6ee65\")>,\n",
       " <selenium.webdriver.remote.webelement.WebElement (session=\"4d63cd4f75d180b8449a5f66946bff50\", element=\"e59cd6f4-9adb-43ec-8273-f3488b0e8255\")>,\n",
       " <selenium.webdriver.remote.webelement.WebElement (session=\"4d63cd4f75d180b8449a5f66946bff50\", element=\"41840a36-8cdd-41a7-9b00-a35f622c1e7b\")>,\n",
       " <selenium.webdriver.remote.webelement.WebElement (session=\"4d63cd4f75d180b8449a5f66946bff50\", element=\"e8d720d1-b6b3-42e3-992f-73fc5b0d3d31\")>]"
      ]
     },
     "execution_count": 27,
     "metadata": {},
     "output_type": "execute_result"
    }
   ],
   "source": [
    "job_days=driver.find_elements_by_xpath(\"//div[@class='d-flex align-items-end pl-std css-17n8uzw']\")\n",
    "job_days"
   ]
  },
  {
   "cell_type": "code",
   "execution_count": 29,
   "metadata": {},
   "outputs": [
    {
     "data": {
      "text/plain": [
       "['30d+', '18d', '3d', '30d+', '3d', '30d+', '3d', '5d', '30d+', '30d+']"
      ]
     },
     "execution_count": 29,
     "metadata": {},
     "output_type": "execute_result"
    }
   ],
   "source": [
    "post_days=[]\n",
    "for i in job_days:\n",
    "    post_days.append(i.text)\n",
    "post_days=post_days[0:10]\n",
    "post_days"
   ]
  },
  {
   "cell_type": "code",
   "execution_count": 30,
   "metadata": {},
   "outputs": [
    {
     "data": {
      "text/plain": [
       "[<selenium.webdriver.remote.webelement.WebElement (session=\"4d63cd4f75d180b8449a5f66946bff50\", element=\"350c8e22-52bd-4e1a-98d0-8c35e985255c\")>,\n",
       " <selenium.webdriver.remote.webelement.WebElement (session=\"4d63cd4f75d180b8449a5f66946bff50\", element=\"565926c8-c0e7-4266-9dad-802d09355af4\")>,\n",
       " <selenium.webdriver.remote.webelement.WebElement (session=\"4d63cd4f75d180b8449a5f66946bff50\", element=\"429151ed-9439-4351-ba80-d0a431477662\")>,\n",
       " <selenium.webdriver.remote.webelement.WebElement (session=\"4d63cd4f75d180b8449a5f66946bff50\", element=\"18f47fce-8fdd-4d79-8563-80e785328c6e\")>,\n",
       " <selenium.webdriver.remote.webelement.WebElement (session=\"4d63cd4f75d180b8449a5f66946bff50\", element=\"fda27a5e-7ff2-4292-878a-aa1fca782026\")>,\n",
       " <selenium.webdriver.remote.webelement.WebElement (session=\"4d63cd4f75d180b8449a5f66946bff50\", element=\"25f02663-8d1e-4729-82d8-363020d6f421\")>,\n",
       " <selenium.webdriver.remote.webelement.WebElement (session=\"4d63cd4f75d180b8449a5f66946bff50\", element=\"6b89ab6a-5e29-4071-b58d-6a8ccc6a1f95\")>,\n",
       " <selenium.webdriver.remote.webelement.WebElement (session=\"4d63cd4f75d180b8449a5f66946bff50\", element=\"37b93d17-cc4d-4ffa-9de9-aabfe94b98eb\")>,\n",
       " <selenium.webdriver.remote.webelement.WebElement (session=\"4d63cd4f75d180b8449a5f66946bff50\", element=\"2f09e6de-c8fb-44f3-98a2-7e5e9782f6b6\")>,\n",
       " <selenium.webdriver.remote.webelement.WebElement (session=\"4d63cd4f75d180b8449a5f66946bff50\", element=\"2ab3bb96-174d-4e10-a19f-0df9a7adf8d5\")>,\n",
       " <selenium.webdriver.remote.webelement.WebElement (session=\"4d63cd4f75d180b8449a5f66946bff50\", element=\"0563ce54-abc7-450d-bf25-13b23432a9b3\")>,\n",
       " <selenium.webdriver.remote.webelement.WebElement (session=\"4d63cd4f75d180b8449a5f66946bff50\", element=\"faf92827-28ab-4d42-8110-fee00c7ddbe5\")>,\n",
       " <selenium.webdriver.remote.webelement.WebElement (session=\"4d63cd4f75d180b8449a5f66946bff50\", element=\"c2f188a6-da59-4538-b5e3-5e90b14d41d7\")>,\n",
       " <selenium.webdriver.remote.webelement.WebElement (session=\"4d63cd4f75d180b8449a5f66946bff50\", element=\"50b9d176-2df0-4208-a3c5-a2b000bb4b98\")>,\n",
       " <selenium.webdriver.remote.webelement.WebElement (session=\"4d63cd4f75d180b8449a5f66946bff50\", element=\"5b4c8daa-234b-4d61-a28f-d0d0f2abd95e\")>,\n",
       " <selenium.webdriver.remote.webelement.WebElement (session=\"4d63cd4f75d180b8449a5f66946bff50\", element=\"6a26334d-284f-4399-9379-5786b287160a\")>,\n",
       " <selenium.webdriver.remote.webelement.WebElement (session=\"4d63cd4f75d180b8449a5f66946bff50\", element=\"1753d47f-970c-429e-8af8-9375c2b51662\")>,\n",
       " <selenium.webdriver.remote.webelement.WebElement (session=\"4d63cd4f75d180b8449a5f66946bff50\", element=\"8e600bb9-2eb8-4f48-a913-c6c0d33b1cdf\")>,\n",
       " <selenium.webdriver.remote.webelement.WebElement (session=\"4d63cd4f75d180b8449a5f66946bff50\", element=\"bf6b9776-d132-40bf-b731-ed2e56daf796\")>,\n",
       " <selenium.webdriver.remote.webelement.WebElement (session=\"4d63cd4f75d180b8449a5f66946bff50\", element=\"d424ae8a-c1ce-4cfb-bc89-bc2a38edd1b8\")>,\n",
       " <selenium.webdriver.remote.webelement.WebElement (session=\"4d63cd4f75d180b8449a5f66946bff50\", element=\"868d7385-62cd-4e03-85b2-a2148c7f08f2\")>,\n",
       " <selenium.webdriver.remote.webelement.WebElement (session=\"4d63cd4f75d180b8449a5f66946bff50\", element=\"b78c6c9f-d8b6-45e7-842f-5b29feefd071\")>,\n",
       " <selenium.webdriver.remote.webelement.WebElement (session=\"4d63cd4f75d180b8449a5f66946bff50\", element=\"25303dbe-5ceb-4a79-b51a-35375710c29a\")>,\n",
       " <selenium.webdriver.remote.webelement.WebElement (session=\"4d63cd4f75d180b8449a5f66946bff50\", element=\"5704b406-2932-4589-9bff-0788c32f5639\")>,\n",
       " <selenium.webdriver.remote.webelement.WebElement (session=\"4d63cd4f75d180b8449a5f66946bff50\", element=\"158c43a5-17d2-4f8a-9b11-2e1434feb415\")>,\n",
       " <selenium.webdriver.remote.webelement.WebElement (session=\"4d63cd4f75d180b8449a5f66946bff50\", element=\"04835513-61ed-4ccf-8868-193a5a92cf7f\")>,\n",
       " <selenium.webdriver.remote.webelement.WebElement (session=\"4d63cd4f75d180b8449a5f66946bff50\", element=\"1a3f4b71-f5b4-40ca-9fc3-b80f807e9a95\")>,\n",
       " <selenium.webdriver.remote.webelement.WebElement (session=\"4d63cd4f75d180b8449a5f66946bff50\", element=\"9fe9b1d0-5fcf-4eb3-8b31-0fdc5c738528\")>,\n",
       " <selenium.webdriver.remote.webelement.WebElement (session=\"4d63cd4f75d180b8449a5f66946bff50\", element=\"83a8fec3-89f3-4583-b6e3-f190a206085f\")>,\n",
       " <selenium.webdriver.remote.webelement.WebElement (session=\"4d63cd4f75d180b8449a5f66946bff50\", element=\"792f63f2-b481-440a-9491-fe549f26eb2b\")>]"
      ]
     },
     "execution_count": 30,
     "metadata": {},
     "output_type": "execute_result"
    }
   ],
   "source": [
    "ratings=driver.find_elements_by_xpath(\"//div[@class='d-flex flex-column job-search-key-1pzmdmc e1rrn5ka1']\")\n",
    "ratings"
   ]
  },
  {
   "cell_type": "code",
   "execution_count": 31,
   "metadata": {},
   "outputs": [
    {
     "data": {
      "text/plain": [
       "['', '', '3.9', '', '3.5', '', '3.5', '3.6', '', '']"
      ]
     },
     "execution_count": 31,
     "metadata": {},
     "output_type": "execute_result"
    }
   ],
   "source": [
    "job_ratings=[]\n",
    "for i in ratings:\n",
    "    job_ratings.append(i.text)\n",
    "job_ratings=job_ratings[0:10]\n",
    "job_ratings"
   ]
  },
  {
   "cell_type": "code",
   "execution_count": 34,
   "metadata": {},
   "outputs": [
    {
     "data": {
      "text/html": [
       "<div>\n",
       "<style scoped>\n",
       "    .dataframe tbody tr th:only-of-type {\n",
       "        vertical-align: middle;\n",
       "    }\n",
       "\n",
       "    .dataframe tbody tr th {\n",
       "        vertical-align: top;\n",
       "    }\n",
       "\n",
       "    .dataframe thead th {\n",
       "        text-align: right;\n",
       "    }\n",
       "</style>\n",
       "<table border=\"1\" class=\"dataframe\">\n",
       "  <thead>\n",
       "    <tr style=\"text-align: right;\">\n",
       "      <th></th>\n",
       "      <th>company name</th>\n",
       "      <th>No of Days</th>\n",
       "      <th>Rating</th>\n",
       "    </tr>\n",
       "  </thead>\n",
       "  <tbody>\n",
       "    <tr>\n",
       "      <th>0</th>\n",
       "      <td>Associate Data Scientist</td>\n",
       "      <td>30d+</td>\n",
       "      <td></td>\n",
       "    </tr>\n",
       "    <tr>\n",
       "      <th>1</th>\n",
       "      <td>Data Scientist</td>\n",
       "      <td>18d</td>\n",
       "      <td></td>\n",
       "    </tr>\n",
       "    <tr>\n",
       "      <th>2</th>\n",
       "      <td>Data Analytics part time job/internship at Noida</td>\n",
       "      <td>3d</td>\n",
       "      <td>3.9</td>\n",
       "    </tr>\n",
       "    <tr>\n",
       "      <th>3</th>\n",
       "      <td>Data Scientist Intern</td>\n",
       "      <td>30d+</td>\n",
       "      <td></td>\n",
       "    </tr>\n",
       "    <tr>\n",
       "      <th>4</th>\n",
       "      <td>Management Trainee – Data Science</td>\n",
       "      <td>3d</td>\n",
       "      <td>3.5</td>\n",
       "    </tr>\n",
       "    <tr>\n",
       "      <th>5</th>\n",
       "      <td>Data Scientist</td>\n",
       "      <td>30d+</td>\n",
       "      <td></td>\n",
       "    </tr>\n",
       "    <tr>\n",
       "      <th>6</th>\n",
       "      <td>Analyst – Data Science</td>\n",
       "      <td>3d</td>\n",
       "      <td>3.5</td>\n",
       "    </tr>\n",
       "    <tr>\n",
       "      <th>7</th>\n",
       "      <td>Data Scientist</td>\n",
       "      <td>5d</td>\n",
       "      <td>3.6</td>\n",
       "    </tr>\n",
       "    <tr>\n",
       "      <th>8</th>\n",
       "      <td>Data Scientist</td>\n",
       "      <td>30d+</td>\n",
       "      <td></td>\n",
       "    </tr>\n",
       "    <tr>\n",
       "      <th>9</th>\n",
       "      <td>Data Scientist</td>\n",
       "      <td>30d+</td>\n",
       "      <td></td>\n",
       "    </tr>\n",
       "  </tbody>\n",
       "</table>\n",
       "</div>"
      ],
      "text/plain": [
       "                                       company name No of Days Rating\n",
       "0                          Associate Data Scientist       30d+       \n",
       "1                                    Data Scientist        18d       \n",
       "2  Data Analytics part time job/internship at Noida         3d    3.9\n",
       "3                             Data Scientist Intern       30d+       \n",
       "4                 Management Trainee – Data Science         3d    3.5\n",
       "5                                    Data Scientist       30d+       \n",
       "6                            Analyst – Data Science         3d    3.5\n",
       "7                                    Data Scientist         5d    3.6\n",
       "8                                    Data Scientist       30d+       \n",
       "9                                    Data Scientist       30d+       "
      ]
     },
     "execution_count": 34,
     "metadata": {},
     "output_type": "execute_result"
    }
   ],
   "source": [
    "ds_jobs=pd.DataFrame({})\n",
    "ds_jobs['company name']=company_names\n",
    "ds_jobs['No of Days']=post_days\n",
    "ds_jobs['Rating']=job_ratings\n",
    "ds_jobs"
   ]
  },
  {
   "cell_type": "markdown",
   "metadata": {},
   "source": [
    "# Q5: Write a python program to scrape the salary data for Data Scientist designation in Noida location."
   ]
  },
  {
   "cell_type": "code",
   "execution_count": 1,
   "metadata": {},
   "outputs": [],
   "source": [
    "# importing the necessary libraries\n",
    "\n",
    "import selenium\n",
    "import pandas as pd\n",
    "from selenium import webdriver\n",
    "import time\n",
    "import warnings\n",
    "warnings.filterwarnings(\"ignore\")\n",
    "from selenium.common.exceptions import NoSuchElementException"
   ]
  },
  {
   "cell_type": "code",
   "execution_count": 2,
   "metadata": {},
   "outputs": [],
   "source": [
    "# Lets connect to web driver\n",
    "driver = webdriver.Chrome(\"chromedriver.exe\")"
   ]
  },
  {
   "cell_type": "code",
   "execution_count": 3,
   "metadata": {},
   "outputs": [],
   "source": [
    "# 1.Getting url/web page.\n",
    "url= \"https://www.glassdoor.co.in/Salaries/index.htm\"\n",
    "driver.get(url)"
   ]
  },
  {
   "cell_type": "code",
   "execution_count": 4,
   "metadata": {},
   "outputs": [
    {
     "data": {
      "text/plain": [
       "<selenium.webdriver.remote.webelement.WebElement (session=\"07c59d4812beecc63b5da87fa2d3717d\", element=\"d65b906f-492b-4f4b-9e92-53d4cd7a8045\")>"
      ]
     },
     "execution_count": 4,
     "metadata": {},
     "output_type": "execute_result"
    }
   ],
   "source": [
    "# To select the company button to go to the search page.\n",
    "search_job=driver.find_element_by_xpath(\"//input[@name='sc.keyword']\")\n",
    "search_job"
   ]
  },
  {
   "cell_type": "code",
   "execution_count": 5,
   "metadata": {},
   "outputs": [],
   "source": [
    "search_job.send_keys('Data Scientist')"
   ]
  },
  {
   "cell_type": "code",
   "execution_count": 6,
   "metadata": {},
   "outputs": [
    {
     "data": {
      "text/plain": [
       "<selenium.webdriver.remote.webelement.WebElement (session=\"07c59d4812beecc63b5da87fa2d3717d\", element=\"9baf607f-6e1b-4049-be31-da2a5aff2d9b\")>"
      ]
     },
     "execution_count": 6,
     "metadata": {},
     "output_type": "execute_result"
    }
   ],
   "source": [
    "search_loc=driver.find_element_by_xpath(\"//input[@class='loc']\")\n",
    "search_loc"
   ]
  },
  {
   "cell_type": "code",
   "execution_count": 7,
   "metadata": {},
   "outputs": [],
   "source": [
    "search_loc.send_keys('Noida')"
   ]
  },
  {
   "cell_type": "code",
   "execution_count": 8,
   "metadata": {},
   "outputs": [
    {
     "data": {
      "text/plain": [
       "<selenium.webdriver.remote.webelement.WebElement (session=\"07c59d4812beecc63b5da87fa2d3717d\", element=\"ed5ff426-24cd-4f58-a635-9fbe83083684\")>"
      ]
     },
     "execution_count": 8,
     "metadata": {},
     "output_type": "execute_result"
    }
   ],
   "source": [
    "search_button=driver.find_element_by_xpath(\"//button[@class='gd-btn-mkt']\")\n",
    "search_button"
   ]
  },
  {
   "cell_type": "code",
   "execution_count": 9,
   "metadata": {},
   "outputs": [],
   "source": [
    "search_button.click()"
   ]
  },
  {
   "cell_type": "code",
   "execution_count": 10,
   "metadata": {},
   "outputs": [
    {
     "data": {
      "text/plain": [
       "[<selenium.webdriver.remote.webelement.WebElement (session=\"07c59d4812beecc63b5da87fa2d3717d\", element=\"e8ff8a81-006b-43ad-9596-7af6f29d534b\")>,\n",
       " <selenium.webdriver.remote.webelement.WebElement (session=\"07c59d4812beecc63b5da87fa2d3717d\", element=\"4d113f1b-a067-4060-a11f-30e5b4b52e6e\")>,\n",
       " <selenium.webdriver.remote.webelement.WebElement (session=\"07c59d4812beecc63b5da87fa2d3717d\", element=\"f775ae4c-db1a-4c56-9298-5d744ce50048\")>,\n",
       " <selenium.webdriver.remote.webelement.WebElement (session=\"07c59d4812beecc63b5da87fa2d3717d\", element=\"dd45ba9b-9f42-4c8f-ac10-4379949f0533\")>,\n",
       " <selenium.webdriver.remote.webelement.WebElement (session=\"07c59d4812beecc63b5da87fa2d3717d\", element=\"49173837-2cba-498b-b272-0cbc29e74067\")>,\n",
       " <selenium.webdriver.remote.webelement.WebElement (session=\"07c59d4812beecc63b5da87fa2d3717d\", element=\"a0105166-f32e-411f-a38f-1d2cc8e7218f\")>,\n",
       " <selenium.webdriver.remote.webelement.WebElement (session=\"07c59d4812beecc63b5da87fa2d3717d\", element=\"9bcecfc1-6d3f-4eb3-ac0c-e795fb343280\")>,\n",
       " <selenium.webdriver.remote.webelement.WebElement (session=\"07c59d4812beecc63b5da87fa2d3717d\", element=\"9058524e-fbad-47bd-a7c1-8b0297a9d8c8\")>,\n",
       " <selenium.webdriver.remote.webelement.WebElement (session=\"07c59d4812beecc63b5da87fa2d3717d\", element=\"49332149-ec65-42f0-affc-0868acf686a9\")>,\n",
       " <selenium.webdriver.remote.webelement.WebElement (session=\"07c59d4812beecc63b5da87fa2d3717d\", element=\"39d3d03d-40e8-47f7-acae-6f5db862ceb2\")>,\n",
       " <selenium.webdriver.remote.webelement.WebElement (session=\"07c59d4812beecc63b5da87fa2d3717d\", element=\"7b40b9d1-dc84-4e8a-a3bd-d518cebe3be3\")>,\n",
       " <selenium.webdriver.remote.webelement.WebElement (session=\"07c59d4812beecc63b5da87fa2d3717d\", element=\"1b5c1b2e-2f6d-45b2-ac15-41814b96a9e1\")>,\n",
       " <selenium.webdriver.remote.webelement.WebElement (session=\"07c59d4812beecc63b5da87fa2d3717d\", element=\"75891668-5df6-4732-93b5-973b9240d2b9\")>,\n",
       " <selenium.webdriver.remote.webelement.WebElement (session=\"07c59d4812beecc63b5da87fa2d3717d\", element=\"098d9885-4eb8-4a45-91de-5e4c2a6388da\")>,\n",
       " <selenium.webdriver.remote.webelement.WebElement (session=\"07c59d4812beecc63b5da87fa2d3717d\", element=\"66b6e8e4-7844-48eb-a28c-2c8db6838571\")>,\n",
       " <selenium.webdriver.remote.webelement.WebElement (session=\"07c59d4812beecc63b5da87fa2d3717d\", element=\"8708237b-8cfd-4f2c-99c0-b5fc9be90299\")>,\n",
       " <selenium.webdriver.remote.webelement.WebElement (session=\"07c59d4812beecc63b5da87fa2d3717d\", element=\"a1bc11e3-87c1-4d35-a858-62d4adc35500\")>,\n",
       " <selenium.webdriver.remote.webelement.WebElement (session=\"07c59d4812beecc63b5da87fa2d3717d\", element=\"1ce4f6b0-b4ca-423b-8636-6438020f4cf4\")>,\n",
       " <selenium.webdriver.remote.webelement.WebElement (session=\"07c59d4812beecc63b5da87fa2d3717d\", element=\"b9b96855-7efb-4a2c-a93e-9c8d67ed9dd3\")>,\n",
       " <selenium.webdriver.remote.webelement.WebElement (session=\"07c59d4812beecc63b5da87fa2d3717d\", element=\"8814b5d7-cc23-46dd-a8a7-237fc03e3dfa\")>]"
      ]
     },
     "execution_count": 10,
     "metadata": {},
     "output_type": "execute_result"
    }
   ],
   "source": [
    "job_companys=driver.find_elements_by_xpath(\"//a[@class='css-f3vw95 e1aj7ssy3']\")\n",
    "job_companys"
   ]
  },
  {
   "cell_type": "code",
   "execution_count": 11,
   "metadata": {},
   "outputs": [
    {
     "data": {
      "text/plain": [
       "['Tata Consultancy Services',\n",
       " 'IBM',\n",
       " 'Accenture',\n",
       " 'Delhivery',\n",
       " 'Ericsson-Worldwide',\n",
       " 'UnitedHealth Group',\n",
       " 'Optum',\n",
       " 'Optum Global Solutions',\n",
       " 'Valiance Solutions',\n",
       " 'EXL Service',\n",
       " 'Cognizant Technology Solutions',\n",
       " 'ZS Associates',\n",
       " 'Nagarro',\n",
       " 'Innovaccer',\n",
       " 'OYO',\n",
       " 'dunnhumby',\n",
       " 'Amazon',\n",
       " 'Fresher',\n",
       " 'CARS24.com',\n",
       " 'Vidooly Media Tech']"
      ]
     },
     "execution_count": 11,
     "metadata": {},
     "output_type": "execute_result"
    }
   ],
   "source": [
    "company_names=[]\n",
    "for i in job_companys:\n",
    "    company_names.append(i.text)\n",
    "company_names"
   ]
  },
  {
   "cell_type": "code",
   "execution_count": 12,
   "metadata": {},
   "outputs": [
    {
     "data": {
      "text/plain": [
       "[<selenium.webdriver.remote.webelement.WebElement (session=\"07c59d4812beecc63b5da87fa2d3717d\", element=\"0cd66ccc-20ff-4bed-9a92-8d8860a6e182\")>,\n",
       " <selenium.webdriver.remote.webelement.WebElement (session=\"07c59d4812beecc63b5da87fa2d3717d\", element=\"2f17b8fd-ca1b-4de4-964e-c471b235d980\")>,\n",
       " <selenium.webdriver.remote.webelement.WebElement (session=\"07c59d4812beecc63b5da87fa2d3717d\", element=\"723bdb3e-79b7-4a18-b915-072b2f305185\")>,\n",
       " <selenium.webdriver.remote.webelement.WebElement (session=\"07c59d4812beecc63b5da87fa2d3717d\", element=\"c93a1155-d511-4cd6-a42c-cd8d7183ae40\")>,\n",
       " <selenium.webdriver.remote.webelement.WebElement (session=\"07c59d4812beecc63b5da87fa2d3717d\", element=\"d06a0880-f3aa-433c-b09e-9540d862977b\")>,\n",
       " <selenium.webdriver.remote.webelement.WebElement (session=\"07c59d4812beecc63b5da87fa2d3717d\", element=\"e5c04f8b-a57b-4357-a44c-3e0733d0e6d7\")>,\n",
       " <selenium.webdriver.remote.webelement.WebElement (session=\"07c59d4812beecc63b5da87fa2d3717d\", element=\"25b6ef2b-5b41-4402-b041-c7800ce509c1\")>,\n",
       " <selenium.webdriver.remote.webelement.WebElement (session=\"07c59d4812beecc63b5da87fa2d3717d\", element=\"cab0b41c-25c8-4760-bf6c-cf2c6bd9bd1f\")>,\n",
       " <selenium.webdriver.remote.webelement.WebElement (session=\"07c59d4812beecc63b5da87fa2d3717d\", element=\"fbf66fc4-41c8-4223-ba9b-5f69c2e31e0c\")>,\n",
       " <selenium.webdriver.remote.webelement.WebElement (session=\"07c59d4812beecc63b5da87fa2d3717d\", element=\"4a2989e9-6642-42d2-a432-08d87be01d57\")>,\n",
       " <selenium.webdriver.remote.webelement.WebElement (session=\"07c59d4812beecc63b5da87fa2d3717d\", element=\"2ecee9ae-b072-40d6-9fdc-702e0cd7f21c\")>,\n",
       " <selenium.webdriver.remote.webelement.WebElement (session=\"07c59d4812beecc63b5da87fa2d3717d\", element=\"22d42ce8-c10c-4ffc-a4aa-fb35b4c9f281\")>,\n",
       " <selenium.webdriver.remote.webelement.WebElement (session=\"07c59d4812beecc63b5da87fa2d3717d\", element=\"4ced33e4-5947-4c2a-9b5b-074ac1e743ed\")>,\n",
       " <selenium.webdriver.remote.webelement.WebElement (session=\"07c59d4812beecc63b5da87fa2d3717d\", element=\"db9570da-591b-451c-845a-bc3d41292a6e\")>,\n",
       " <selenium.webdriver.remote.webelement.WebElement (session=\"07c59d4812beecc63b5da87fa2d3717d\", element=\"f871ae10-291b-4eb5-91bc-5c8e1723e730\")>,\n",
       " <selenium.webdriver.remote.webelement.WebElement (session=\"07c59d4812beecc63b5da87fa2d3717d\", element=\"7c716cb9-6dcf-4441-b38f-4a6b5959aabf\")>,\n",
       " <selenium.webdriver.remote.webelement.WebElement (session=\"07c59d4812beecc63b5da87fa2d3717d\", element=\"a01b0860-32d8-489d-b9a8-e712ff8cce6c\")>,\n",
       " <selenium.webdriver.remote.webelement.WebElement (session=\"07c59d4812beecc63b5da87fa2d3717d\", element=\"46fb3323-1a98-4e06-a2d7-f14a6113c1cb\")>,\n",
       " <selenium.webdriver.remote.webelement.WebElement (session=\"07c59d4812beecc63b5da87fa2d3717d\", element=\"935e4dd9-f582-43cd-bb70-22466660569a\")>,\n",
       " <selenium.webdriver.remote.webelement.WebElement (session=\"07c59d4812beecc63b5da87fa2d3717d\", element=\"62113f7d-ca0d-45b0-8381-cdd46e25b6ab\")>]"
      ]
     },
     "execution_count": 12,
     "metadata": {},
     "output_type": "execute_result"
    }
   ],
   "source": [
    "no_salary = driver.find_elements_by_xpath(\"//div[@class='col-12 col-lg-auto']\")\n",
    "no_salary"
   ]
  },
  {
   "cell_type": "code",
   "execution_count": 13,
   "metadata": {},
   "outputs": [
    {
     "data": {
      "text/plain": [
       "['22 salaries',\n",
       " '20 salaries',\n",
       " '15 salaries',\n",
       " '15 salaries',\n",
       " '14 salaries',\n",
       " '14 salaries',\n",
       " '11 salaries',\n",
       " '10 salaries',\n",
       " '10 salaries',\n",
       " '9 salaries',\n",
       " '8 salaries',\n",
       " '8 salaries',\n",
       " '8 salaries',\n",
       " '8 salaries',\n",
       " '7 salaries',\n",
       " '7 salaries',\n",
       " '6 salaries',\n",
       " '6 salaries',\n",
       " '6 salaries',\n",
       " '6 salaries']"
      ]
     },
     "execution_count": 13,
     "metadata": {},
     "output_type": "execute_result"
    }
   ],
   "source": [
    "No_of_salary = []\n",
    "for i in no_salary:\n",
    "    No_of_salary.append(i.text)\n",
    "No_of_salary"
   ]
  },
  {
   "cell_type": "code",
   "execution_count": 14,
   "metadata": {},
   "outputs": [
    {
     "data": {
      "text/plain": [
       "[<selenium.webdriver.remote.webelement.WebElement (session=\"07c59d4812beecc63b5da87fa2d3717d\", element=\"abbb9d19-fa9b-45dc-bce9-80cc93a41834\")>,\n",
       " <selenium.webdriver.remote.webelement.WebElement (session=\"07c59d4812beecc63b5da87fa2d3717d\", element=\"81a8c0f7-e363-4072-b2c9-93a4c9014414\")>,\n",
       " <selenium.webdriver.remote.webelement.WebElement (session=\"07c59d4812beecc63b5da87fa2d3717d\", element=\"5e828192-82aa-4669-aa32-b469ba5ff995\")>,\n",
       " <selenium.webdriver.remote.webelement.WebElement (session=\"07c59d4812beecc63b5da87fa2d3717d\", element=\"3934c286-ed68-4644-8b5d-a998e3eed8e7\")>,\n",
       " <selenium.webdriver.remote.webelement.WebElement (session=\"07c59d4812beecc63b5da87fa2d3717d\", element=\"74f036c9-8edb-44a9-9618-aa3e7fa79264\")>,\n",
       " <selenium.webdriver.remote.webelement.WebElement (session=\"07c59d4812beecc63b5da87fa2d3717d\", element=\"ecd1f305-b646-426a-8b4f-d8bd58401640\")>,\n",
       " <selenium.webdriver.remote.webelement.WebElement (session=\"07c59d4812beecc63b5da87fa2d3717d\", element=\"ccc207ac-d6a8-4461-8c0b-70fae028e3db\")>,\n",
       " <selenium.webdriver.remote.webelement.WebElement (session=\"07c59d4812beecc63b5da87fa2d3717d\", element=\"bbdb5ea0-7a44-460a-b4a6-fb70333b68dc\")>,\n",
       " <selenium.webdriver.remote.webelement.WebElement (session=\"07c59d4812beecc63b5da87fa2d3717d\", element=\"5cae7a3b-0a05-4faa-9a3a-3778cb0253d0\")>,\n",
       " <selenium.webdriver.remote.webelement.WebElement (session=\"07c59d4812beecc63b5da87fa2d3717d\", element=\"3dbcdc32-f680-4bdf-9206-991e1c4b85ed\")>,\n",
       " <selenium.webdriver.remote.webelement.WebElement (session=\"07c59d4812beecc63b5da87fa2d3717d\", element=\"780f83ba-cba8-43ab-8d51-9711441c71a0\")>,\n",
       " <selenium.webdriver.remote.webelement.WebElement (session=\"07c59d4812beecc63b5da87fa2d3717d\", element=\"d000d040-d072-4538-b5c1-3fa223106e32\")>,\n",
       " <selenium.webdriver.remote.webelement.WebElement (session=\"07c59d4812beecc63b5da87fa2d3717d\", element=\"6cdabba2-8287-4c1a-8e04-31132e09f3ba\")>,\n",
       " <selenium.webdriver.remote.webelement.WebElement (session=\"07c59d4812beecc63b5da87fa2d3717d\", element=\"249c822e-c9fe-4ba2-b972-af4bd56ca528\")>,\n",
       " <selenium.webdriver.remote.webelement.WebElement (session=\"07c59d4812beecc63b5da87fa2d3717d\", element=\"d9b92342-8c06-408a-ba3a-b5714ed6037b\")>,\n",
       " <selenium.webdriver.remote.webelement.WebElement (session=\"07c59d4812beecc63b5da87fa2d3717d\", element=\"37fa8d54-30fa-40e3-9e46-5a0b4f434ec4\")>,\n",
       " <selenium.webdriver.remote.webelement.WebElement (session=\"07c59d4812beecc63b5da87fa2d3717d\", element=\"92c6862a-4e0c-4bd7-86ed-8de5502a2426\")>,\n",
       " <selenium.webdriver.remote.webelement.WebElement (session=\"07c59d4812beecc63b5da87fa2d3717d\", element=\"45d0a34a-9ffa-4f31-9eb1-fb658aca5d5f\")>,\n",
       " <selenium.webdriver.remote.webelement.WebElement (session=\"07c59d4812beecc63b5da87fa2d3717d\", element=\"15821a47-9da8-401b-9925-82bac977d2e6\")>,\n",
       " <selenium.webdriver.remote.webelement.WebElement (session=\"07c59d4812beecc63b5da87fa2d3717d\", element=\"c40b7711-656a-4cd8-a000-ed2575c4c2f1\")>]"
      ]
     },
     "execution_count": 14,
     "metadata": {},
     "output_type": "execute_result"
    }
   ],
   "source": [
    "avg_salary=driver.find_elements_by_xpath(\"//div[@class='col-12 col-lg-4 px-lg-0 d-flex align-items-baseline']\")\n",
    "avg_salary"
   ]
  },
  {
   "cell_type": "code",
   "execution_count": 15,
   "metadata": {},
   "outputs": [
    {
     "data": {
      "text/plain": [
       "['₹6,28,021 /yr',\n",
       " '₹9,08,246 /yr',\n",
       " '₹11,93,390 /yr',\n",
       " '₹12,49,716 /yr',\n",
       " '₹7,58,335 /yr',\n",
       " '₹12,80,000 /yr',\n",
       " '₹12,70,000 /yr',\n",
       " '₹14,55,430 /yr',\n",
       " '₹8,86,064 /yr',\n",
       " '₹11,10,000 /yr',\n",
       " '₹9,62,227 /yr',\n",
       " '₹11,71,868 /yr',\n",
       " '₹11,01,815 /yr',\n",
       " '₹12,40,275 /yr',\n",
       " '₹14,51,902 /yr',\n",
       " '₹11,30,374 /yr',\n",
       " '₹20,63,782 /yr',\n",
       " '₹61,566 /mo',\n",
       " '₹10,80,727 /yr',\n",
       " '₹35,040 /mo']"
      ]
     },
     "execution_count": 15,
     "metadata": {},
     "output_type": "execute_result"
    }
   ],
   "source": [
    "Salary_avg=[]\n",
    "for i in avg_salary:\n",
    "    Salary_avg.append(i.text.replace(\"\\n\",\"\"))\n",
    "Salary_avg"
   ]
  },
  {
   "cell_type": "code",
   "execution_count": 16,
   "metadata": {},
   "outputs": [],
   "source": [
    "page_url=[]\n",
    "for i in driver.find_elements_by_xpath(\"//a[@class='css-f3vw95 e1aj7ssy3']\"):\n",
    "    page_url.append(i.get_attribute('href'))"
   ]
  },
  {
   "cell_type": "code",
   "execution_count": 17,
   "metadata": {},
   "outputs": [
    {
     "data": {
      "text/plain": [
       "20"
      ]
     },
     "execution_count": 17,
     "metadata": {},
     "output_type": "execute_result"
    }
   ],
   "source": [
    "len(page_url)"
   ]
  },
  {
   "cell_type": "code",
   "execution_count": 18,
   "metadata": {},
   "outputs": [
    {
     "data": {
      "text/plain": [
       "['https://www.glassdoor.co.in/Salary/Tata-Consultancy-Services-Data-Scientist-New-Delhi-Salaries-EJI_IE13461.0,25_KO26,40_IL.41,50_IM1083.htm',\n",
       " 'https://www.glassdoor.co.in/Salary/IBM-Data-Scientist-New-Delhi-Salaries-EJI_IE354.0,3_KO4,18_IL.19,28_IM1083.htm',\n",
       " 'https://www.glassdoor.co.in/Salary/Accenture-Data-Scientist-New-Delhi-Salaries-EJI_IE4138.0,9_KO10,24_IL.25,34_IM1083.htm',\n",
       " 'https://www.glassdoor.co.in/Salary/Delhivery-Data-Scientist-New-Delhi-Salaries-EJI_IE513409.0,9_KO10,24_IL.25,34_IM1083.htm',\n",
       " 'https://www.glassdoor.co.in/Salary/Ericsson-Worldwide-Data-Scientist-New-Delhi-Salaries-EJI_IE3472.0,18_KO19,33_IL.34,43_IM1083.htm',\n",
       " 'https://www.glassdoor.co.in/Salary/UnitedHealth-Group-Data-Scientist-New-Delhi-Salaries-EJI_IE1991.0,18_KO19,33_IL.34,43_IM1083.htm',\n",
       " 'https://www.glassdoor.co.in/Salary/Optum-Data-Scientist-New-Delhi-Salaries-EJI_IE2409113.0,5_KO6,20_IL.21,30_IM1083.htm',\n",
       " 'https://www.glassdoor.co.in/Salary/Optum-Global-Solutions-Data-Scientist-New-Delhi-Salaries-EJI_IE3725926.0,22_KO23,37_IL.38,47_IM1083.htm',\n",
       " 'https://www.glassdoor.co.in/Salary/Valiance-Solutions-Data-Scientist-New-Delhi-Salaries-EJI_IE895637.0,18_KO19,33_IL.34,43_IM1083.htm',\n",
       " 'https://www.glassdoor.co.in/Salary/EXL-Service-Data-Scientist-New-Delhi-Salaries-EJI_IE37901.0,11_KO12,26_IL.27,36_IM1083.htm',\n",
       " 'https://www.glassdoor.co.in/Salary/Cognizant-Technology-Solutions-Data-Scientist-New-Delhi-Salaries-EJI_IE8014.0,30_KO31,45_IL.46,55_IM1083.htm',\n",
       " 'https://www.glassdoor.co.in/Salary/ZS-Associates-Data-Scientist-New-Delhi-Salaries-EJI_IE115506.0,13_KO14,28_IL.29,38_IM1083.htm',\n",
       " 'https://www.glassdoor.co.in/Salary/Nagarro-Data-Scientist-New-Delhi-Salaries-EJI_IE240077.0,7_KO8,22_IL.23,32_IM1083.htm',\n",
       " 'https://www.glassdoor.co.in/Salary/Innovaccer-Data-Scientist-New-Delhi-Salaries-EJI_IE721552.0,10_KO11,25_IL.26,35_IM1083.htm',\n",
       " 'https://www.glassdoor.co.in/Salary/OYO-Data-Scientist-New-Delhi-Salaries-EJI_IE953789.0,3_KO4,18_IL.19,28_IM1083.htm',\n",
       " 'https://www.glassdoor.co.in/Salary/dunnhumby-Data-Scientist-New-Delhi-Salaries-EJI_IE195922.0,9_KO10,24_IL.25,34_IM1083.htm',\n",
       " 'https://www.glassdoor.co.in/Salary/Amazon-Data-Scientist-New-Delhi-Salaries-EJI_IE6036.0,6_KO7,21_IL.22,31_IM1083.htm',\n",
       " 'https://www.glassdoor.co.in/Salary/Fresher-Data-Scientist-New-Delhi-EJI_IE3490842.0,7_KO8,22_IL.23,32_IM1083.htm?filter.payPeriod=MONTHLY',\n",
       " 'https://www.glassdoor.co.in/Salary/CARS24-com-Data-Scientist-New-Delhi-Salaries-EJI_IE1316104.0,10_KO11,25_IL.26,35_IM1083.htm',\n",
       " 'https://www.glassdoor.co.in/Salary/Vidooly-Media-Tech-Data-Scientist-New-Delhi-EJI_IE1483199.0,18_KO19,33_IL.34,43_IM1083.htm?filter.payPeriod=MONTHLY']"
      ]
     },
     "execution_count": 18,
     "metadata": {},
     "output_type": "execute_result"
    }
   ],
   "source": [
    "page_url"
   ]
  },
  {
   "cell_type": "code",
   "execution_count": 19,
   "metadata": {},
   "outputs": [],
   "source": [
    "min_salary=[]"
   ]
  },
  {
   "cell_type": "code",
   "execution_count": 20,
   "metadata": {},
   "outputs": [],
   "source": [
    "for i in page_url:\n",
    "    driver.get(i)\n",
    "    time.sleep(5)\n",
    "    \n",
    "    try:\n",
    "        min=driver.find_element_by_xpath(\"//div[@class='d-flex flex-column css-12efcmn css-fajoci eb8fmw6']/strong\")\n",
    "        min_salary.append(min.text)\n",
    "    except:\n",
    "        min_salary.append('-')"
   ]
  },
  {
   "cell_type": "code",
   "execution_count": 21,
   "metadata": {},
   "outputs": [
    {
     "name": "stdout",
     "output_type": "stream",
     "text": [
      "['₹5L', '₹7L', '₹7L', '-', '₹5L', '₹11L', '₹11L', '₹12L', '₹7L', '₹9L', '₹8L', '₹6L', '₹7L', '₹7L', '₹10L', '₹9L', '₹15L', '₹27T', '₹9L', '₹15T']\n"
     ]
    }
   ],
   "source": [
    "print(min_salary)"
   ]
  },
  {
   "cell_type": "code",
   "execution_count": 22,
   "metadata": {},
   "outputs": [],
   "source": [
    "max_salary=[]"
   ]
  },
  {
   "cell_type": "code",
   "execution_count": 23,
   "metadata": {},
   "outputs": [],
   "source": [
    "for i in page_url:\n",
    "    driver.get(i)\n",
    "    time.sleep(5)\n",
    "        \n",
    "    try:\n",
    "        max=driver.find_element_by_xpath(\"//div[@class='d-flex flex-column css-12efcmn align-items-end css-p6bucf eb8fmw6']/strong\")\n",
    "        max_salary.append(max.text)\n",
    "    except:\n",
    "        max_salary.append('-')"
   ]
  },
  {
   "cell_type": "code",
   "execution_count": 24,
   "metadata": {},
   "outputs": [
    {
     "name": "stdout",
     "output_type": "stream",
     "text": [
      "['₹9L', '₹20L', '₹16L', '-', '₹11L', '₹15L', '₹16L', '₹17L', '₹12L', '₹14L', '₹11L', '₹13L', '₹15L', '₹16L', '₹19L', '₹16L', '₹26L', '₹1L', '₹15L', '₹63T']\n"
     ]
    }
   ],
   "source": [
    "print(max_salary)"
   ]
  },
  {
   "cell_type": "code",
   "execution_count": 25,
   "metadata": {},
   "outputs": [
    {
     "data": {
      "text/html": [
       "<div>\n",
       "<style scoped>\n",
       "    .dataframe tbody tr th:only-of-type {\n",
       "        vertical-align: middle;\n",
       "    }\n",
       "\n",
       "    .dataframe tbody tr th {\n",
       "        vertical-align: top;\n",
       "    }\n",
       "\n",
       "    .dataframe thead th {\n",
       "        text-align: right;\n",
       "    }\n",
       "</style>\n",
       "<table border=\"1\" class=\"dataframe\">\n",
       "  <thead>\n",
       "    <tr style=\"text-align: right;\">\n",
       "      <th></th>\n",
       "      <th>Company name,</th>\n",
       "      <th>Average salary</th>\n",
       "      <th>minimum sal</th>\n",
       "      <th>maximum sal</th>\n",
       "    </tr>\n",
       "  </thead>\n",
       "  <tbody>\n",
       "    <tr>\n",
       "      <th>0</th>\n",
       "      <td>Tata Consultancy Services</td>\n",
       "      <td>₹6,28,021 /yr</td>\n",
       "      <td>₹5L</td>\n",
       "      <td>₹9L</td>\n",
       "    </tr>\n",
       "    <tr>\n",
       "      <th>1</th>\n",
       "      <td>IBM</td>\n",
       "      <td>₹9,08,246 /yr</td>\n",
       "      <td>₹7L</td>\n",
       "      <td>₹20L</td>\n",
       "    </tr>\n",
       "    <tr>\n",
       "      <th>2</th>\n",
       "      <td>Accenture</td>\n",
       "      <td>₹11,93,390 /yr</td>\n",
       "      <td>₹7L</td>\n",
       "      <td>₹16L</td>\n",
       "    </tr>\n",
       "    <tr>\n",
       "      <th>3</th>\n",
       "      <td>Delhivery</td>\n",
       "      <td>₹12,49,716 /yr</td>\n",
       "      <td>-</td>\n",
       "      <td>-</td>\n",
       "    </tr>\n",
       "    <tr>\n",
       "      <th>4</th>\n",
       "      <td>Ericsson-Worldwide</td>\n",
       "      <td>₹7,58,335 /yr</td>\n",
       "      <td>₹5L</td>\n",
       "      <td>₹11L</td>\n",
       "    </tr>\n",
       "    <tr>\n",
       "      <th>5</th>\n",
       "      <td>UnitedHealth Group</td>\n",
       "      <td>₹12,80,000 /yr</td>\n",
       "      <td>₹11L</td>\n",
       "      <td>₹15L</td>\n",
       "    </tr>\n",
       "    <tr>\n",
       "      <th>6</th>\n",
       "      <td>Optum</td>\n",
       "      <td>₹12,70,000 /yr</td>\n",
       "      <td>₹11L</td>\n",
       "      <td>₹16L</td>\n",
       "    </tr>\n",
       "    <tr>\n",
       "      <th>7</th>\n",
       "      <td>Optum Global Solutions</td>\n",
       "      <td>₹14,55,430 /yr</td>\n",
       "      <td>₹12L</td>\n",
       "      <td>₹17L</td>\n",
       "    </tr>\n",
       "    <tr>\n",
       "      <th>8</th>\n",
       "      <td>Valiance Solutions</td>\n",
       "      <td>₹8,86,064 /yr</td>\n",
       "      <td>₹7L</td>\n",
       "      <td>₹12L</td>\n",
       "    </tr>\n",
       "    <tr>\n",
       "      <th>9</th>\n",
       "      <td>EXL Service</td>\n",
       "      <td>₹11,10,000 /yr</td>\n",
       "      <td>₹9L</td>\n",
       "      <td>₹14L</td>\n",
       "    </tr>\n",
       "  </tbody>\n",
       "</table>\n",
       "</div>"
      ],
      "text/plain": [
       "               Company name,  Average salary minimum sal maximum sal\n",
       "0  Tata Consultancy Services   ₹6,28,021 /yr         ₹5L         ₹9L\n",
       "1                        IBM   ₹9,08,246 /yr         ₹7L        ₹20L\n",
       "2                  Accenture  ₹11,93,390 /yr         ₹7L        ₹16L\n",
       "3                  Delhivery  ₹12,49,716 /yr           -           -\n",
       "4         Ericsson-Worldwide   ₹7,58,335 /yr         ₹5L        ₹11L\n",
       "5         UnitedHealth Group  ₹12,80,000 /yr        ₹11L        ₹15L\n",
       "6                      Optum  ₹12,70,000 /yr        ₹11L        ₹16L\n",
       "7     Optum Global Solutions  ₹14,55,430 /yr        ₹12L        ₹17L\n",
       "8         Valiance Solutions   ₹8,86,064 /yr         ₹7L        ₹12L\n",
       "9                EXL Service  ₹11,10,000 /yr         ₹9L        ₹14L"
      ]
     },
     "execution_count": 25,
     "metadata": {},
     "output_type": "execute_result"
    }
   ],
   "source": [
    "ds_jobs=pd.DataFrame({})\n",
    "ds_jobs['Company name,']=company_names[:10]\n",
    "ds_jobs['Average salary']=Salary_avg[:10]\n",
    "ds_jobs['minimum sal']=min_salary[:10]\n",
    "ds_jobs['maximum sal']=max_salary[:10]\n",
    "ds_jobs"
   ]
  },
  {
   "cell_type": "code",
   "execution_count": 1,
   "metadata": {},
   "outputs": [],
   "source": [
    "# importing the necessary libraries\n",
    "\n",
    "import selenium\n",
    "import pandas as pd\n",
    "from selenium import webdriver\n",
    "import time\n",
    "import warnings\n",
    "warnings.filterwarnings(\"ignore\")\n",
    "from selenium.common.exceptions import NoSuchElementException"
   ]
  },
  {
   "cell_type": "code",
   "execution_count": 2,
   "metadata": {},
   "outputs": [],
   "source": [
    "#CONNECTING TO THE WEBDRIVER\n",
    "driver= webdriver.Chrome(\"chromedriver.exe\")"
   ]
  },
  {
   "cell_type": "code",
   "execution_count": 3,
   "metadata": {},
   "outputs": [],
   "source": [
    "#connecting to the url\n",
    "url=\"https://www.glassdoor.co.in/Salaries/index.htm\"\n",
    "driver.get(url)"
   ]
  },
  {
   "cell_type": "code",
   "execution_count": 4,
   "metadata": {},
   "outputs": [],
   "source": [
    "# Finding web element for search bar.\n",
    "# 2. Enter “Data Scientist” in “Skill,Designations,Companies” field and enter “Bangalore” in “enter the location” field\n",
    "search_job= driver.find_element_by_id('KeywordSearch')\n",
    "\n",
    "# write on search bar 'Data Scientist'\n",
    "search_job.send_keys('Data Scientist')\n",
    "\n",
    "# Finding element for job location and entering location as Delhi/NCR.\n",
    "search_loc= driver.find_element_by_id('LocationSearch')\n",
    "search_loc.send_keys('Noida')"
   ]
  },
  {
   "cell_type": "code",
   "execution_count": 5,
   "metadata": {},
   "outputs": [],
   "source": [
    "# 3.clicking the search button using XPATH function.\n",
    "search_button= driver.find_element_by_xpath(\"//button[@class='gd-btn-mkt']\")\n",
    "search_button.click()"
   ]
  },
  {
   "cell_type": "code",
   "execution_count": 6,
   "metadata": {},
   "outputs": [],
   "source": [
    "# Creating the empty Datalists\n",
    "title5 =[]\n",
    "company5 =[]\n",
    "minsal =[]\n",
    "maxsal =[]\n",
    "avgsal =[]"
   ]
  },
  {
   "cell_type": "code",
   "execution_count": 18,
   "metadata": {},
   "outputs": [],
   "source": [
    "# 4.Scraping the data for the first 10 jobs results.\n",
    "# Extracting all tags having job titles.\n",
    "title_tag5= driver.find_elements_by_xpath(\"//div[@class='col-12 col-md']/div/div/p[1]\")"
   ]
  },
  {
   "cell_type": "code",
   "execution_count": 19,
   "metadata": {},
   "outputs": [
    {
     "data": {
      "text/plain": [
       "['Data Scientist Salaries in New Delhi, India']"
      ]
     },
     "execution_count": 19,
     "metadata": {},
     "output_type": "execute_result"
    }
   ],
   "source": [
    "# For loop to save search to job_title.\n",
    "for i in title_tag5:\n",
    "    title5.append(i.text)\n",
    "\n",
    "#Displaying top 10 search.\n",
    "title5[:10]"
   ]
  },
  {
   "cell_type": "code",
   "execution_count": 20,
   "metadata": {},
   "outputs": [],
   "source": [
    "# 4.Scraping the data for the first 10 jobs results.\n",
    "# Extracting all tags having company names.\n",
    "company_tags= driver.find_elements_by_xpath(\"//div[@class='col-md-6']/div/div/p[2]\")"
   ]
  },
  {
   "cell_type": "code",
   "execution_count": 21,
   "metadata": {},
   "outputs": [
    {
     "ename": "NameError",
     "evalue": "name 'company' is not defined",
     "output_type": "error",
     "traceback": [
      "\u001b[1;31m---------------------------------------------------------------------------\u001b[0m",
      "\u001b[1;31mNameError\u001b[0m                                 Traceback (most recent call last)",
      "\u001b[1;32m<ipython-input-21-af2d958e9b5f>\u001b[0m in \u001b[0;36m<module>\u001b[1;34m\u001b[0m\n\u001b[0;32m      4\u001b[0m \u001b[1;33m\u001b[0m\u001b[0m\n\u001b[0;32m      5\u001b[0m \u001b[1;31m#Displaying top 10 search.\u001b[0m\u001b[1;33m\u001b[0m\u001b[1;33m\u001b[0m\u001b[1;33m\u001b[0m\u001b[0m\n\u001b[1;32m----> 6\u001b[1;33m \u001b[0mcompany\u001b[0m\u001b[1;33m[\u001b[0m\u001b[1;33m:\u001b[0m\u001b[1;36m10\u001b[0m\u001b[1;33m]\u001b[0m\u001b[1;33m\u001b[0m\u001b[1;33m\u001b[0m\u001b[0m\n\u001b[0m",
      "\u001b[1;31mNameError\u001b[0m: name 'company' is not defined"
     ]
    }
   ],
   "source": [
    "# For loop to save search to company names.\n",
    "for i in company_tags:\n",
    "    company5.append(i.text)\n",
    "\n",
    "#Displaying top 10 search.\n",
    "company5[:10]"
   ]
  },
  {
   "cell_type": "code",
   "execution_count": 33,
   "metadata": {},
   "outputs": [],
   "source": [
    "# 4.Scraping the data for the first 10 jobs results.\n",
    "# Extracting all tags having avg sal.\n",
    "salaryavg= driver.find_elements_by_xpath(\"//div[@class='col-2 d-none d-md-flex flex-row justify-content-end']/strong\")"
   ]
  },
  {
   "cell_type": "code",
   "execution_count": 34,
   "metadata": {},
   "outputs": [
    {
     "data": {
      "text/plain": [
       "[]"
      ]
     },
     "execution_count": 34,
     "metadata": {},
     "output_type": "execute_result"
    }
   ],
   "source": [
    "# For loop to save search to job_title.\n",
    "for i in salaryavg:\n",
    "    avgsal.append(i.text)\n",
    "\n",
    "#Displaying top 10 search.\n",
    "avgsal[:10]"
   ]
  },
  {
   "cell_type": "code",
   "execution_count": 35,
   "metadata": {},
   "outputs": [],
   "source": [
    "# 4.Scraping the data for the first 10 jobs results.\n",
    "# Extracting all tags having Minimum salary.\n",
    "salarymin= driver.find_elements_by_xpath(\"//div[@class='common__RangeBarStyle__values d-flex justify-content-between ']/span[1]\")"
   ]
  },
  {
   "cell_type": "code",
   "execution_count": 36,
   "metadata": {},
   "outputs": [
    {
     "data": {
      "text/plain": [
       "[]"
      ]
     },
     "execution_count": 36,
     "metadata": {},
     "output_type": "execute_result"
    }
   ],
   "source": [
    "# For loop to save search to minimum salary.\n",
    "for i in salarymin:\n",
    "    minsal.append(i.text)\n",
    "\n",
    "#Displaying top 10 search.\n",
    "minsal[:10]"
   ]
  },
  {
   "cell_type": "code",
   "execution_count": 31,
   "metadata": {},
   "outputs": [],
   "source": [
    "# 5.Scraping the data for the first 10 jobs results.\n",
    "# Extracting all tags having Minimum salary.\n",
    "salarymax= driver.find_elements_by_xpath(\"//div[@class='common__RangeBarStyle__values d-flex justify-content-between ']/span[2]\")"
   ]
  },
  {
   "cell_type": "code",
   "execution_count": 32,
   "metadata": {},
   "outputs": [
    {
     "data": {
      "text/plain": [
       "[]"
      ]
     },
     "execution_count": 32,
     "metadata": {},
     "output_type": "execute_result"
    }
   ],
   "source": [
    "# For loop to save search to maximum salary.\n",
    "for i in salarymax:\n",
    "    maxsal.append(i.text)\n",
    "\n",
    "#Displaying top 10 search.\n",
    "maxsal[:10]"
   ]
  },
  {
   "cell_type": "code",
   "execution_count": 33,
   "metadata": {},
   "outputs": [
    {
     "data": {
      "text/html": [
       "<div>\n",
       "<style scoped>\n",
       "    .dataframe tbody tr th:only-of-type {\n",
       "        vertical-align: middle;\n",
       "    }\n",
       "\n",
       "    .dataframe tbody tr th {\n",
       "        vertical-align: top;\n",
       "    }\n",
       "\n",
       "    .dataframe thead th {\n",
       "        text-align: right;\n",
       "    }\n",
       "</style>\n",
       "<table border=\"1\" class=\"dataframe\">\n",
       "  <thead>\n",
       "    <tr style=\"text-align: right;\">\n",
       "      <th></th>\n",
       "      <th>Title</th>\n",
       "      <th>Company name</th>\n",
       "      <th>Average salary</th>\n",
       "      <th>Minimum salary</th>\n",
       "      <th>Maximum salary</th>\n",
       "    </tr>\n",
       "  </thead>\n",
       "  <tbody>\n",
       "  </tbody>\n",
       "</table>\n",
       "</div>"
      ],
      "text/plain": [
       "Empty DataFrame\n",
       "Columns: [Title, Company name, Average salary, Minimum salary, Maximum salary]\n",
       "Index: []"
      ]
     },
     "execution_count": 33,
     "metadata": {},
     "output_type": "execute_result"
    }
   ],
   "source": [
    "# Finally create a dataframe of the scraped data.\n",
    "ds_jobs2= pd.DataFrame({})\n",
    "ds_jobs2['Title'] = title[:10]\n",
    "ds_jobs2['Company name'] = company[:10]\n",
    "ds_jobs2['Average salary'] = avgsal[:10]\n",
    "ds_jobs2['Minimum salary'] = minsal[:10]\n",
    "ds_jobs2['Maximum salary'] = maxsal[:10]\n",
    "ds_jobs2"
   ]
  },
  {
   "cell_type": "code",
   "execution_count": null,
   "metadata": {},
   "outputs": [],
   "source": []
  }
 ],
 "metadata": {
  "kernelspec": {
   "display_name": "Python 3",
   "language": "python",
   "name": "python3"
  },
  "language_info": {
   "codemirror_mode": {
    "name": "ipython",
    "version": 3
   },
   "file_extension": ".py",
   "mimetype": "text/x-python",
   "name": "python",
   "nbconvert_exporter": "python",
   "pygments_lexer": "ipython3",
   "version": "3.8.5"
  }
 },
 "nbformat": 4,
 "nbformat_minor": 4
}
