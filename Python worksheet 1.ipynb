{
 "cells": [
  {
   "cell_type": "markdown",
   "metadata": {},
   "source": [
    "# Python worksheet 1"
   ]
  },
  {
   "cell_type": "markdown",
   "metadata": {},
   "source": [
    " 11.Write a python program to find the factorial of a number."
   ]
  },
  {
   "cell_type": "code",
   "execution_count": 4,
   "metadata": {},
   "outputs": [
    {
     "name": "stdout",
     "output_type": "stream",
     "text": [
      "Enter a number5\n",
      "The factorial of 5 is 1\n",
      "The factorial of 5 is 2\n",
      "The factorial of 5 is 6\n",
      "The factorial of 5 is 24\n",
      "The factorial of 5 is 120\n"
     ]
    }
   ],
   "source": [
    "num= int(input(\"Enter a number\"))\n",
    "factorial = 1\n",
    "if num<0:\n",
    "    print(\"Factorial does not exist for negative numbers\")\n",
    "elif num==0:\n",
    "    print(\"The factorial of 0 is 1\")\n",
    "else:\n",
    "    for i in range(1,num + 1):\n",
    "        factorial = factorial*i\n",
    "        print(\"The factorial of\",num,\"is\",factorial)"
   ]
  },
  {
   "cell_type": "code",
   "execution_count": 5,
   "metadata": {},
   "outputs": [
    {
     "name": "stdout",
     "output_type": "stream",
     "text": [
      "Enter a number7\n",
      "The factorial of 7 is 1\n",
      "The factorial of 7 is 2\n",
      "The factorial of 7 is 6\n",
      "The factorial of 7 is 24\n",
      "The factorial of 7 is 120\n",
      "The factorial of 7 is 720\n",
      "The factorial of 7 is 5040\n"
     ]
    }
   ],
   "source": [
    "num= int(input(\"Enter a number\"))\n",
    "factorial = 1\n",
    "if num<0:\n",
    "    print(\"Factorial does not exist for negative numbers\")\n",
    "elif num==0:\n",
    "    print(\"The factorial of 0 is 1\")\n",
    "else:\n",
    "    for i in range(1,num + 1):\n",
    "        factorial = factorial*i\n",
    "        print(\"The factorial of\",num,\"is\",factorial)"
   ]
  },
  {
   "cell_type": "markdown",
   "metadata": {},
   "source": [
    "12.Write a python program to find whether a number is prime or composite."
   ]
  },
  {
   "cell_type": "code",
   "execution_count": 7,
   "metadata": {},
   "outputs": [
    {
     "name": "stdout",
     "output_type": "stream",
     "text": [
      "Enter any number:20\n",
      "20 is not a prime number\n"
     ]
    }
   ],
   "source": [
    "number=int(input(\"Enter any number:\"))\n",
    "if number > 1:\n",
    "    for i in range (2, number):\n",
    "        if (number % i)==0:\n",
    "            print(number,\"is not a prime number\")\n",
    "            break\n",
    "        else:\n",
    "            print(number,\"is a prime number\")\n",
    "else:\n",
    "            print(number,\"is not a prime number\")"
   ]
  },
  {
   "cell_type": "code",
   "execution_count": 30,
   "metadata": {},
   "outputs": [
    {
     "name": "stdout",
     "output_type": "stream",
     "text": [
      "Enter any number:17\n",
      "17 is a prime number\n",
      "17 is a prime number\n",
      "17 is a prime number\n",
      "17 is a prime number\n",
      "17 is a prime number\n",
      "17 is a prime number\n",
      "17 is a prime number\n",
      "17 is a prime number\n",
      "17 is a prime number\n",
      "17 is a prime number\n",
      "17 is a prime number\n",
      "17 is a prime number\n",
      "17 is a prime number\n",
      "17 is a prime number\n",
      "17 is a prime number\n"
     ]
    }
   ],
   "source": [
    "number=int(input(\"Enter any number:\"))\n",
    "if number > 1:\n",
    "    for i in range (2, number):\n",
    "        if (number % i)==0:\n",
    "            print(number,\"is not a prime number\")\n",
    "            break\n",
    "        else:\n",
    "            print(number,\"is a prime number\")\n",
    "else:\n",
    "            print(number,\"is not a prime number\")"
   ]
  },
  {
   "cell_type": "markdown",
   "metadata": {},
   "source": [
    "13. Write a python program to check whether a given string is palindrome or not."
   ]
  },
  {
   "cell_type": "code",
   "execution_count": 17,
   "metadata": {},
   "outputs": [
    {
     "name": "stdout",
     "output_type": "stream",
     "text": [
      "Enter a number:10\n",
      "Not a palindrome!\n"
     ]
    }
   ],
   "source": [
    "num=int(input(\"Enter a number:\"))\n",
    "temp=num\n",
    "rev=0\n",
    "while(num>0):\n",
    "    dig=num%10\n",
    "    rev=rev*10+dig\n",
    "    num=num//10\n",
    "if(temp==rev):\n",
    "    print(\"The number is palindrome!\")\n",
    "else:\n",
    "    print(\"Not a palindrome!\")"
   ]
  },
  {
   "cell_type": "code",
   "execution_count": 18,
   "metadata": {},
   "outputs": [
    {
     "name": "stdout",
     "output_type": "stream",
     "text": [
      "Enter a number:121\n",
      "The number is palindrome!\n"
     ]
    }
   ],
   "source": [
    "num=int(input(\"Enter a number:\"))\n",
    "temp=num\n",
    "rev=0\n",
    "while(num>0):\n",
    "    dig=num%10\n",
    "    rev=rev*10+dig\n",
    "    num=num//10\n",
    "if(temp==rev):\n",
    "    print(\"The number is palindrome!\")\n",
    "else:\n",
    "    print(\"Not a palindrome!\")"
   ]
  },
  {
   "cell_type": "markdown",
   "metadata": {},
   "source": [
    "14. Write a Python program to get the third side of right-angled triangle from two given sides."
   ]
  },
  {
   "cell_type": "code",
   "execution_count": 4,
   "metadata": {},
   "outputs": [
    {
     "name": "stdout",
     "output_type": "stream",
     "text": [
      "Input length of shorter triangle sides:\n",
      "a: 7\n",
      "b: 9\n",
      "c: 90\n",
      "The length of the hypotenuse is = 11.40175425099138\n"
     ]
    }
   ],
   "source": [
    "from math import sqrt\n",
    "print (\"Input length of shorter triangle sides:\")\n",
    "a = float(input(\"a: \"))\n",
    "b = float(input(\"b: \"))\n",
    "c = float(input(\"c: \"))\n",
    "x = math.sqrt(a ** 2 + b ** 2)\n",
    "print(\"The length of the hypotenuse is =\", x)"
   ]
  },
  {
   "cell_type": "code",
   "execution_count": 2,
   "metadata": {},
   "outputs": [
    {
     "name": "stdout",
     "output_type": "stream",
     "text": [
      "Enter base: 35\n",
      "Enter height: 45\n",
      "Enter angle: 100\n",
      "Hypotenuse = 57.0087712549569\n"
     ]
    }
   ],
   "source": [
    "import math\n",
    "a = float(input(\"Enter base: \"))\n",
    "b = float(input(\"Enter height: \"))\n",
    "x = float(input(\"Enter angle: \"))\n",
    "c = math.sqrt(a ** 2 + b ** 2)\n",
    "print(\"Hypotenuse =\", c)"
   ]
  },
  {
   "cell_type": "markdown",
   "metadata": {},
   "source": [
    "15. Write a python program to print the frequency of each of the characters present in a given string."
   ]
  },
  {
   "cell_type": "code",
   "execution_count": 27,
   "metadata": {},
   "outputs": [
    {
     "name": "stdout",
     "output_type": "stream",
     "text": [
      "per char frequency in 'Data Science' is :\n",
      " {'e': 1}\n"
     ]
    }
   ],
   "source": [
    "input_string = \"Data Science\"\n",
    "frequencies={} \n",
    "  \n",
    "for char in input_string: \n",
    "    if char in frequencies: \n",
    "        frequencies[char]+=1\n",
    "else: \n",
    "      frequencies[char]=1\n",
    "\n",
    "# Show Output\n",
    "print (\"per char frequency in '{}' is :\\n {}\".format(input_string, str(frequencies)))"
   ]
  },
  {
   "cell_type": "code",
   "execution_count": null,
   "metadata": {},
   "outputs": [],
   "source": []
  },
  {
   "cell_type": "code",
   "execution_count": null,
   "metadata": {},
   "outputs": [],
   "source": []
  }
 ],
 "metadata": {
  "kernelspec": {
   "display_name": "Python 3",
   "language": "python",
   "name": "python3"
  },
  "language_info": {
   "codemirror_mode": {
    "name": "ipython",
    "version": 3
   },
   "file_extension": ".py",
   "mimetype": "text/x-python",
   "name": "python",
   "nbconvert_exporter": "python",
   "pygments_lexer": "ipython3",
   "version": "3.8.5"
  }
 },
 "nbformat": 4,
 "nbformat_minor": 4
}
