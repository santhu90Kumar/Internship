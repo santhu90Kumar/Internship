{
 "cells": [
  {
   "cell_type": "markdown",
   "metadata": {},
   "source": [
    "# Question No:6"
   ]
  },
  {
   "cell_type": "raw",
   "metadata": {},
   "source": [
    "Q6: Scrape data of first 100 sunglasses listings on flipkart.com. You have to scrape four attributes:\n",
    "\n",
    "1.Brand \n",
    "2.Product Description\n",
    "3.Price\n",
    "4.Discount %\n",
    "The attributes which you have to scrape is ticked marked in the below image.\n",
    "To scrape the data you have to go through following steps:\n",
    "1.Go to flipkart webpage by url https://www.flipkart.com/\n",
    "2.Enter “sunglasses” in the search field where “search for products, brands and \n",
    "more” is written and click the search icon\n",
    "3.after that you will reach to a webpage having a lot of sunglasses. From this page you can scrap the required data as usual.\n",
    "4.after scraping data from the first page, go to the “Next” Button at the bottom of the page , then click on it\n",
    "5.Now scrape data from this page as usual\n",
    "6.repeat this until you get data for 100 sunglasses.\n",
    "Note that all of the above steps have to be done by coding only and not manually."
   ]
  },
  {
   "cell_type": "code",
   "execution_count": 36,
   "metadata": {},
   "outputs": [],
   "source": [
    "#importing the necessary libraries\n",
    "\n",
    "import selenium\n",
    "import pandas as pd\n",
    "from selenium import webdriver\n",
    "import time\n",
    "from selenium.common.exceptions import NoSuchElementException"
   ]
  },
  {
   "cell_type": "code",
   "execution_count": 37,
   "metadata": {},
   "outputs": [],
   "source": [
    "driver=webdriver.Chrome('chromedriver.exe')"
   ]
  },
  {
   "cell_type": "code",
   "execution_count": 38,
   "metadata": {},
   "outputs": [],
   "source": [
    "#connecting url\n",
    "url = 'https://www.flipkart.com/'\n",
    "driver.get(url)"
   ]
  },
  {
   "cell_type": "code",
   "execution_count": 39,
   "metadata": {},
   "outputs": [],
   "source": [
    "#Entering sunglasses in search field\n",
    "search_bar= driver.find_element_by_name(\"q\")\n",
    "search_bar.send_keys(\"sunglasses\")"
   ]
  },
  {
   "cell_type": "code",
   "execution_count": 40,
   "metadata": {},
   "outputs": [],
   "source": [
    "# cicking search button\n",
    "search_button=driver.find_element_by_xpath(\"//button[@class='L0Z3Pu']\")\n",
    "search_button.click()"
   ]
  },
  {
   "cell_type": "code",
   "execution_count": 41,
   "metadata": {},
   "outputs": [],
   "source": [
    "# Datalists\n",
    "brand =[]\n",
    "details =[]\n",
    "price =[]\n",
    "discount =[]"
   ]
  },
  {
   "cell_type": "code",
   "execution_count": 42,
   "metadata": {},
   "outputs": [],
   "source": [
    "# Fetching urls to open each page.\n",
    "urls =[]\n",
    "for i in range(0,3):\n",
    "    for j in driver.find_elements_by_xpath(\"//nav[@class='yFHi8N']/a\"):\n",
    "        urls.append(j.get_attribute('href'))\n",
    "    driver.find_element_by_xpath(\"//a[@class='_1LKTO3']\").click()\n",
    "    time.sleep(4)"
   ]
  },
  {
   "cell_type": "code",
   "execution_count": 43,
   "metadata": {},
   "outputs": [],
   "source": [
    "# Extracting data from each url.\n",
    "for i in range(0,3):\n",
    "    for j in driver.find_elements_by_xpath(\"//div[@class= '_2WkVRV']\"):\n",
    "        brand.append(j.text)\n",
    "    for k in driver.find_elements_by_xpath(\"//a[@class='IRpwTa']\"):\n",
    "        details.append(k.text)\n",
    "    for m in driver.find_elements_by_xpath(\"//div[@class='_30jeq3']\"):\n",
    "        price.append(m.text)\n",
    "    for n in driver.find_elements_by_xpath(\"//div[@class='_3Ay6Sb']\"):\n",
    "        discount.append(n.text)\n",
    "    driver.find_element_by_xpath(\"//a[@class='_1LKTO3']\").click()\n",
    "    time.sleep(4)"
   ]
  },
  {
   "cell_type": "code",
   "execution_count": 47,
   "metadata": {},
   "outputs": [],
   "source": [
    "# Finally create a dataframe of the scraped data.sunglass_data = pd.DataFrame({})\n",
    "sunglass_data = pd.DataFrame({})\n",
    "sunglass_data['Brand']= brand[:100]\n",
    "sunglass_data['Product Details'] = details[:100]\n",
    "sunglass_data['Price']= price[:100]\n",
    "sunglass_data['Discount %']= discount[:100]"
   ]
  },
  {
   "cell_type": "code",
   "execution_count": 48,
   "metadata": {},
   "outputs": [
    {
     "data": {
      "text/html": [
       "<div>\n",
       "<style scoped>\n",
       "    .dataframe tbody tr th:only-of-type {\n",
       "        vertical-align: middle;\n",
       "    }\n",
       "\n",
       "    .dataframe tbody tr th {\n",
       "        vertical-align: top;\n",
       "    }\n",
       "\n",
       "    .dataframe thead th {\n",
       "        text-align: right;\n",
       "    }\n",
       "</style>\n",
       "<table border=\"1\" class=\"dataframe\">\n",
       "  <thead>\n",
       "    <tr style=\"text-align: right;\">\n",
       "      <th></th>\n",
       "      <th>Brand</th>\n",
       "      <th>Product Details</th>\n",
       "      <th>Price</th>\n",
       "      <th>Discount %</th>\n",
       "    </tr>\n",
       "  </thead>\n",
       "  <tbody>\n",
       "    <tr>\n",
       "      <th>0</th>\n",
       "      <td>PHENOMENAL</td>\n",
       "      <td>UV Protection, Mirrored Retro Square Sunglasse...</td>\n",
       "      <td>₹379</td>\n",
       "      <td>81% off</td>\n",
       "    </tr>\n",
       "    <tr>\n",
       "      <th>1</th>\n",
       "      <td>PIRASO</td>\n",
       "      <td>UV Protection Butterfly Sunglasses (65)</td>\n",
       "      <td>₹449</td>\n",
       "      <td>82% off</td>\n",
       "    </tr>\n",
       "    <tr>\n",
       "      <th>2</th>\n",
       "      <td>PIRASO</td>\n",
       "      <td>UV Protection Aviator Sunglasses (58)</td>\n",
       "      <td>₹399</td>\n",
       "      <td>84% off</td>\n",
       "    </tr>\n",
       "    <tr>\n",
       "      <th>3</th>\n",
       "      <td>Elligator</td>\n",
       "      <td>UV Protection, Riding Glasses Rectangular, Ret...</td>\n",
       "      <td>₹349</td>\n",
       "      <td>76% off</td>\n",
       "    </tr>\n",
       "    <tr>\n",
       "      <th>4</th>\n",
       "      <td>OCCARIO</td>\n",
       "      <td>Others Round Sunglasses (52)</td>\n",
       "      <td>₹179</td>\n",
       "      <td>69% off</td>\n",
       "    </tr>\n",
       "    <tr>\n",
       "      <th>...</th>\n",
       "      <td>...</td>\n",
       "      <td>...</td>\n",
       "      <td>...</td>\n",
       "      <td>...</td>\n",
       "    </tr>\n",
       "    <tr>\n",
       "      <th>95</th>\n",
       "      <td>Badfella</td>\n",
       "      <td>Mirrored Aviator Sunglasses (53)</td>\n",
       "      <td>₹331</td>\n",
       "      <td>66% off</td>\n",
       "    </tr>\n",
       "    <tr>\n",
       "      <th>96</th>\n",
       "      <td>kingsunglasses</td>\n",
       "      <td>UV Protection, Night Vision, Riding Glasses Av...</td>\n",
       "      <td>₹331</td>\n",
       "      <td>79% off</td>\n",
       "    </tr>\n",
       "    <tr>\n",
       "      <th>97</th>\n",
       "      <td>Fastrack</td>\n",
       "      <td>UV Protection Wayfarer Sunglasses (53)</td>\n",
       "      <td>₹695</td>\n",
       "      <td>13% off</td>\n",
       "    </tr>\n",
       "    <tr>\n",
       "      <th>98</th>\n",
       "      <td>Fastrack</td>\n",
       "      <td>UV Protection Aviator Sunglasses (60)</td>\n",
       "      <td>₹854</td>\n",
       "      <td>5% off</td>\n",
       "    </tr>\n",
       "    <tr>\n",
       "      <th>99</th>\n",
       "      <td>NuVew</td>\n",
       "      <td>UV Protection, Polarized, Mirrored Wayfarer Su...</td>\n",
       "      <td>₹375</td>\n",
       "      <td>77% off</td>\n",
       "    </tr>\n",
       "  </tbody>\n",
       "</table>\n",
       "<p>100 rows × 4 columns</p>\n",
       "</div>"
      ],
      "text/plain": [
       "             Brand                                    Product Details Price  \\\n",
       "0       PHENOMENAL  UV Protection, Mirrored Retro Square Sunglasse...  ₹379   \n",
       "1           PIRASO            UV Protection Butterfly Sunglasses (65)  ₹449   \n",
       "2           PIRASO              UV Protection Aviator Sunglasses (58)  ₹399   \n",
       "3        Elligator  UV Protection, Riding Glasses Rectangular, Ret...  ₹349   \n",
       "4          OCCARIO                       Others Round Sunglasses (52)  ₹179   \n",
       "..             ...                                                ...   ...   \n",
       "95        Badfella                   Mirrored Aviator Sunglasses (53)  ₹331   \n",
       "96  kingsunglasses  UV Protection, Night Vision, Riding Glasses Av...  ₹331   \n",
       "97        Fastrack             UV Protection Wayfarer Sunglasses (53)  ₹695   \n",
       "98        Fastrack              UV Protection Aviator Sunglasses (60)  ₹854   \n",
       "99           NuVew  UV Protection, Polarized, Mirrored Wayfarer Su...  ₹375   \n",
       "\n",
       "   Discount %  \n",
       "0     81% off  \n",
       "1     82% off  \n",
       "2     84% off  \n",
       "3     76% off  \n",
       "4     69% off  \n",
       "..        ...  \n",
       "95    66% off  \n",
       "96    79% off  \n",
       "97    13% off  \n",
       "98     5% off  \n",
       "99    77% off  \n",
       "\n",
       "[100 rows x 4 columns]"
      ]
     },
     "execution_count": 48,
     "metadata": {},
     "output_type": "execute_result"
    }
   ],
   "source": [
    "#Final Data\n",
    "sunglass_data[:100]"
   ]
  },
  {
   "cell_type": "markdown",
   "metadata": {},
   "source": [
    "# Question No: 7"
   ]
  },
  {
   "cell_type": "markdown",
   "metadata": {},
   "source": [
    "Scrape 100 reviews data from flipkart.com for iphone11 phone.\n",
    "\n",
    "You have to go the link: https://www.flipkart.com/apple-iphone-11-black-64-gb-includes\u0002earpods-power\u0002adapter/p/itm0f37c2240b217?pid=MOBFKCTSVZAXUHGR&lid=LSTMOBFKC\n",
    "TSVZAXUHGREPBFGI&marketplace.\n",
    "\n",
    "When you will open the above link you will reach to the below shown webpage.\n",
    "\n",
    "As shown in the above page you have to scrape the tick marked attributes.\n",
    "These are \n",
    "1. Rating \n",
    "2. Review_summary \n",
    "3. Full review\n",
    "You have to scrape this data for first 100 reviews.\n",
    "WEB SCRAPING ASSIGNME"
   ]
  },
  {
   "cell_type": "code",
   "execution_count": 58,
   "metadata": {},
   "outputs": [],
   "source": [
    "#importing the necessary libraries\n",
    "\n",
    "import selenium\n",
    "import pandas as pd\n",
    "from selenium import webdriver\n",
    "import time\n",
    "from selenium.common.exceptions import NoSuchElementException"
   ]
  },
  {
   "cell_type": "code",
   "execution_count": 59,
   "metadata": {},
   "outputs": [],
   "source": [
    "#Connecting to the driver\n",
    "driver=webdriver.Chrome('chromedriver.exe')"
   ]
  },
  {
   "cell_type": "code",
   "execution_count": 60,
   "metadata": {},
   "outputs": [],
   "source": [
    "#connecting to the url\n",
    "url=\"https://www.flipkart.com/apple-iphone-11-black-64-gb-includes- earpods-power- adapter/p/itm0f37c2240b217?pid=MOBFKCTSVZAXUHGR&lid=LSTMOBFKC TSVZAXUHGREPBFGI&marketplace.\"\n",
    "driver.get(url)"
   ]
  },
  {
   "cell_type": "code",
   "execution_count": 61,
   "metadata": {},
   "outputs": [],
   "source": [
    "# Expand review button\n",
    "expand_button= driver.find_element_by_xpath(\"//div[@class ='_3UAT2v _16PBlm']/span\")\n",
    "expand_button.click()"
   ]
  },
  {
   "cell_type": "code",
   "execution_count": 62,
   "metadata": {},
   "outputs": [],
   "source": [
    "# Creating DataLists\n",
    "name= []\n",
    "rating= []\n",
    "review= []"
   ]
  },
  {
   "cell_type": "code",
   "execution_count": 63,
   "metadata": {},
   "outputs": [],
   "source": [
    "# Fetching urls to open each page.\n",
    "urls =[]\n",
    "for i in range(0,10):\n",
    "    for j in driver.find_elements_by_xpath(\"//nav[@class='yFHi8N']/a\"):\n",
    "        urls.append(j.get_attribute('href'))\n",
    "    driver.find_element_by_xpath(\"//a[@class='_1LKTO3']\").click()\n",
    "    time.sleep(4)"
   ]
  },
  {
   "cell_type": "code",
   "execution_count": 64,
   "metadata": {},
   "outputs": [],
   "source": [
    "# Extracting data from each url.\n",
    "for i in range(0,10):\n",
    "    for j in driver.find_elements_by_xpath(\"//p[@class= '_2-N8zT']\"):\n",
    "        name.append(j.text)\n",
    "    for k in driver.find_elements_by_xpath(\"//div[@class='_3LWZlK _1BLPMq']\"):\n",
    "        rating.append(k.text)\n",
    "    for m in driver.find_elements_by_xpath(\"//div[@class='t-ZTKy']\"):\n",
    "        review.append(m.text)\n",
    "    driver.find_element_by_xpath(\"//a[@class='_1LKTO3']\").click()\n",
    "    time.sleep(4)"
   ]
  },
  {
   "cell_type": "code",
   "execution_count": 67,
   "metadata": {},
   "outputs": [
    {
     "data": {
      "text/html": [
       "<div>\n",
       "<style scoped>\n",
       "    .dataframe tbody tr th:only-of-type {\n",
       "        vertical-align: middle;\n",
       "    }\n",
       "\n",
       "    .dataframe tbody tr th {\n",
       "        vertical-align: top;\n",
       "    }\n",
       "\n",
       "    .dataframe thead th {\n",
       "        text-align: right;\n",
       "    }\n",
       "</style>\n",
       "<table border=\"1\" class=\"dataframe\">\n",
       "  <thead>\n",
       "    <tr style=\"text-align: right;\">\n",
       "      <th></th>\n",
       "      <th>Reviewed By</th>\n",
       "      <th>Product Rating</th>\n",
       "      <th>Review Summary</th>\n",
       "    </tr>\n",
       "  </thead>\n",
       "  <tbody>\n",
       "    <tr>\n",
       "      <th>0</th>\n",
       "      <td>Brilliant</td>\n",
       "      <td>5</td>\n",
       "      <td>The Best Phone for the Money\\n\\nThe iPhone 11 ...</td>\n",
       "    </tr>\n",
       "    <tr>\n",
       "      <th>1</th>\n",
       "      <td>Simply awesome</td>\n",
       "      <td>5</td>\n",
       "      <td>Really satisfied with the Product I received.....</td>\n",
       "    </tr>\n",
       "    <tr>\n",
       "      <th>2</th>\n",
       "      <td>Best in the market!</td>\n",
       "      <td>5</td>\n",
       "      <td>Great iPhone very snappy experience as apple k...</td>\n",
       "    </tr>\n",
       "    <tr>\n",
       "      <th>3</th>\n",
       "      <td>Perfect product!</td>\n",
       "      <td>5</td>\n",
       "      <td>Amazing phone with great cameras and better ba...</td>\n",
       "    </tr>\n",
       "    <tr>\n",
       "      <th>4</th>\n",
       "      <td>Fabulous!</td>\n",
       "      <td>5</td>\n",
       "      <td>This is my first iOS phone. I am very happy wi...</td>\n",
       "    </tr>\n",
       "    <tr>\n",
       "      <th>...</th>\n",
       "      <td>...</td>\n",
       "      <td>...</td>\n",
       "      <td>...</td>\n",
       "    </tr>\n",
       "    <tr>\n",
       "      <th>95</th>\n",
       "      <td>Worth every penny</td>\n",
       "      <td>5</td>\n",
       "      <td>Best budget Iphone till date ❤️ go for it guys...</td>\n",
       "    </tr>\n",
       "    <tr>\n",
       "      <th>96</th>\n",
       "      <td>Perfect product!</td>\n",
       "      <td>5</td>\n",
       "      <td>Iphone is just awesome.. battery backup is ver...</td>\n",
       "    </tr>\n",
       "    <tr>\n",
       "      <th>97</th>\n",
       "      <td>Simply awesome</td>\n",
       "      <td>5</td>\n",
       "      <td>Excellent camera, good performance, no lag. Th...</td>\n",
       "    </tr>\n",
       "    <tr>\n",
       "      <th>98</th>\n",
       "      <td>Worth every penny</td>\n",
       "      <td>5</td>\n",
       "      <td>It’s been almost a month since I have been usi...</td>\n",
       "    </tr>\n",
       "    <tr>\n",
       "      <th>99</th>\n",
       "      <td>Terrific</td>\n",
       "      <td>5</td>\n",
       "      <td>Really worth of money. i just love it. It is t...</td>\n",
       "    </tr>\n",
       "  </tbody>\n",
       "</table>\n",
       "<p>100 rows × 3 columns</p>\n",
       "</div>"
      ],
      "text/plain": [
       "            Reviewed By Product Rating  \\\n",
       "0             Brilliant              5   \n",
       "1        Simply awesome              5   \n",
       "2   Best in the market!              5   \n",
       "3      Perfect product!              5   \n",
       "4             Fabulous!              5   \n",
       "..                  ...            ...   \n",
       "95    Worth every penny              5   \n",
       "96     Perfect product!              5   \n",
       "97       Simply awesome              5   \n",
       "98    Worth every penny              5   \n",
       "99             Terrific              5   \n",
       "\n",
       "                                       Review Summary  \n",
       "0   The Best Phone for the Money\\n\\nThe iPhone 11 ...  \n",
       "1   Really satisfied with the Product I received.....  \n",
       "2   Great iPhone very snappy experience as apple k...  \n",
       "3   Amazing phone with great cameras and better ba...  \n",
       "4   This is my first iOS phone. I am very happy wi...  \n",
       "..                                                ...  \n",
       "95  Best budget Iphone till date ❤️ go for it guys...  \n",
       "96  Iphone is just awesome.. battery backup is ver...  \n",
       "97  Excellent camera, good performance, no lag. Th...  \n",
       "98  It’s been almost a month since I have been usi...  \n",
       "99  Really worth of money. i just love it. It is t...  \n",
       "\n",
       "[100 rows x 3 columns]"
      ]
     },
     "execution_count": 67,
     "metadata": {},
     "output_type": "execute_result"
    }
   ],
   "source": [
    "# Creating data frame\n",
    "Review_data= pd.DataFrame({})\n",
    "Review_data['Reviewed By']= name[:100]\n",
    "Review_data['Product Rating']= rating[:100]\n",
    "Review_data['Review Summary']= review[:100]\n",
    "Review_data"
   ]
  },
  {
   "cell_type": "markdown",
   "metadata": {},
   "source": [
    "# Question No:8"
   ]
  },
  {
   "cell_type": "markdown",
   "metadata": {},
   "source": [
    "Q8: Scrape data for first 100 sneakers you find when you visit flipkart.com and \n",
    "search for “sneakers” in the search field.\n",
    "You have to scrape 4 attributes of each sneaker :\n",
    "1. Brand\n",
    "2. Product Description\n",
    "3. Price\n",
    "4. discount %\n",
    "As shown in the below image, you have to scrape the tick marked attributes.\n",
    "Also note that all the steps required during scraping should be done through code only and not manually."
   ]
  },
  {
   "cell_type": "code",
   "execution_count": 70,
   "metadata": {},
   "outputs": [],
   "source": [
    "#importing the necessary libraries\n",
    "\n",
    "import selenium\n",
    "import pandas as pd\n",
    "from selenium import webdriver\n",
    "import time\n",
    "from selenium.common.exceptions import NoSuchElementException"
   ]
  },
  {
   "cell_type": "code",
   "execution_count": 71,
   "metadata": {},
   "outputs": [],
   "source": [
    "#Connecting to the web driver\n",
    "driver= webdriver.Chrome(\"chromedriver.exe\")"
   ]
  },
  {
   "cell_type": "code",
   "execution_count": 72,
   "metadata": {},
   "outputs": [],
   "source": [
    "#connecting url\n",
    "url=\"https://www.flipkart.com/\"\n",
    "driver.get(url)"
   ]
  },
  {
   "cell_type": "code",
   "execution_count": 73,
   "metadata": {},
   "outputs": [],
   "source": [
    "#2. Entering sneakers in search field\n",
    "search_bar= driver.find_element_by_name(\"q\")\n",
    "search_bar.send_keys(\"sneakers\")"
   ]
  },
  {
   "cell_type": "code",
   "execution_count": 74,
   "metadata": {},
   "outputs": [],
   "source": [
    "# cicking on search button to get the required web element\n",
    "search_but= driver.find_element_by_xpath(\"//button[@class='L0Z3Pu']\")\n",
    "search_but.click()"
   ]
  },
  {
   "cell_type": "code",
   "execution_count": 75,
   "metadata": {},
   "outputs": [],
   "source": [
    "# Creating Datalists\n",
    "brand1 =[]\n",
    "details1 =[]\n",
    "price1 =[]\n",
    "discount1 =[]"
   ]
  },
  {
   "cell_type": "code",
   "execution_count": 76,
   "metadata": {},
   "outputs": [],
   "source": [
    "# Fetching urls to open each page to get the required data.\n",
    "urls =[]\n",
    "for i in range(0,3):\n",
    "    for j in driver.find_elements_by_xpath(\"//nav[@class='yFHi8N']/a\"):\n",
    "        urls.append(j.get_attribute('href'))\n",
    "    driver.find_element_by_xpath(\"//a[@class='_1LKTO3']\").click()\n",
    "    time.sleep(4)"
   ]
  },
  {
   "cell_type": "code",
   "execution_count": 82,
   "metadata": {},
   "outputs": [],
   "source": [
    "# Extracting data from each url to ge the required elements data.\n",
    "for i in range(0,3):\n",
    "    for j in driver.find_elements_by_xpath(\"//div[@class= '_2WkVRV']\"):\n",
    "        brand1.append(j.text)\n",
    "    for k in driver.find_elements_by_xpath(\"//a[@class='IRpwTa']\"):\n",
    "        details1.append(k.text)\n",
    "    for m in driver.find_elements_by_xpath(\"//div[@class='_30jeq3']//div\"):\n",
    "        price1.append(m.text)\n",
    "    for n in driver.find_elements_by_xpath(\"//div[@class='_3Ay6Sb']\"):\n",
    "        discount1.append(n.text)\n",
    "    driver.find_element_by_xpath(\"//a[@class='_1LKTO3']\").click()\n",
    "    time.sleep(4)"
   ]
  },
  {
   "cell_type": "code",
   "execution_count": 83,
   "metadata": {},
   "outputs": [
    {
     "data": {
      "text/html": [
       "<div>\n",
       "<style scoped>\n",
       "    .dataframe tbody tr th:only-of-type {\n",
       "        vertical-align: middle;\n",
       "    }\n",
       "\n",
       "    .dataframe tbody tr th {\n",
       "        vertical-align: top;\n",
       "    }\n",
       "\n",
       "    .dataframe thead th {\n",
       "        text-align: right;\n",
       "    }\n",
       "</style>\n",
       "<table border=\"1\" class=\"dataframe\">\n",
       "  <thead>\n",
       "    <tr style=\"text-align: right;\">\n",
       "      <th></th>\n",
       "      <th>Brand</th>\n",
       "      <th>Product Details</th>\n",
       "      <th>Price</th>\n",
       "      <th>Discount %</th>\n",
       "    </tr>\n",
       "  </thead>\n",
       "  <tbody>\n",
       "    <tr>\n",
       "      <th>0</th>\n",
       "      <td>SPARX</td>\n",
       "      <td>SM-322 Sneakers For Men</td>\n",
       "      <td>₹769</td>\n",
       "      <td>23% off</td>\n",
       "    </tr>\n",
       "    <tr>\n",
       "      <th>1</th>\n",
       "      <td>Kraasa</td>\n",
       "      <td>Series 7 Sneakers For Men</td>\n",
       "      <td>₹444</td>\n",
       "      <td>55% off</td>\n",
       "    </tr>\n",
       "    <tr>\n",
       "      <th>2</th>\n",
       "      <td>Jack Diamond</td>\n",
       "      <td>Fashion Outdoor Canvas Casual Light Weight Lac...</td>\n",
       "      <td>₹627</td>\n",
       "      <td>37% off</td>\n",
       "    </tr>\n",
       "    <tr>\n",
       "      <th>3</th>\n",
       "      <td>SPARX</td>\n",
       "      <td>Synthetic Leather Casual Partywear Wedding Sne...</td>\n",
       "      <td>₹649</td>\n",
       "      <td>7% off</td>\n",
       "    </tr>\n",
       "    <tr>\n",
       "      <th>4</th>\n",
       "      <td>Zsyto</td>\n",
       "      <td>Unique &amp; Perfect Collection Combo Pack of 02 S...</td>\n",
       "      <td>₹398</td>\n",
       "      <td>69% off</td>\n",
       "    </tr>\n",
       "    <tr>\n",
       "      <th>...</th>\n",
       "      <td>...</td>\n",
       "      <td>...</td>\n",
       "      <td>...</td>\n",
       "      <td>...</td>\n",
       "    </tr>\n",
       "    <tr>\n",
       "      <th>95</th>\n",
       "      <td>SPARX</td>\n",
       "      <td>Men 5014 Latest Collection Stylish Casual Spor...</td>\n",
       "      <td>₹730</td>\n",
       "      <td>23% off</td>\n",
       "    </tr>\n",
       "    <tr>\n",
       "      <th>96</th>\n",
       "      <td>Zorth</td>\n",
       "      <td>Men White Sneakers Sneakers For Men</td>\n",
       "      <td>₹435</td>\n",
       "      <td>56% off</td>\n",
       "    </tr>\n",
       "    <tr>\n",
       "      <th>97</th>\n",
       "      <td>SHOEFLY</td>\n",
       "      <td>Fashion Outdoor Canvas Casual Light Weight Lac...</td>\n",
       "      <td>₹362</td>\n",
       "      <td>63% off</td>\n",
       "    </tr>\n",
       "    <tr>\n",
       "      <th>98</th>\n",
       "      <td>BIRDE</td>\n",
       "      <td>Sneakers For Men</td>\n",
       "      <td>₹283</td>\n",
       "      <td>43% off</td>\n",
       "    </tr>\n",
       "    <tr>\n",
       "      <th>99</th>\n",
       "      <td>Rising Wolf</td>\n",
       "      <td>Luxury Fashionable casual sneaker shoes Sneake...</td>\n",
       "      <td>₹512</td>\n",
       "      <td>67% off</td>\n",
       "    </tr>\n",
       "  </tbody>\n",
       "</table>\n",
       "<p>100 rows × 4 columns</p>\n",
       "</div>"
      ],
      "text/plain": [
       "           Brand                                    Product Details Price  \\\n",
       "0          SPARX                            SM-322 Sneakers For Men  ₹769   \n",
       "1         Kraasa                          Series 7 Sneakers For Men  ₹444   \n",
       "2   Jack Diamond  Fashion Outdoor Canvas Casual Light Weight Lac...  ₹627   \n",
       "3          SPARX  Synthetic Leather Casual Partywear Wedding Sne...  ₹649   \n",
       "4          Zsyto  Unique & Perfect Collection Combo Pack of 02 S...  ₹398   \n",
       "..           ...                                                ...   ...   \n",
       "95         SPARX  Men 5014 Latest Collection Stylish Casual Spor...  ₹730   \n",
       "96         Zorth                Men White Sneakers Sneakers For Men  ₹435   \n",
       "97       SHOEFLY  Fashion Outdoor Canvas Casual Light Weight Lac...  ₹362   \n",
       "98         BIRDE                                   Sneakers For Men  ₹283   \n",
       "99   Rising Wolf  Luxury Fashionable casual sneaker shoes Sneake...  ₹512   \n",
       "\n",
       "   Discount %  \n",
       "0     23% off  \n",
       "1     55% off  \n",
       "2     37% off  \n",
       "3      7% off  \n",
       "4     69% off  \n",
       "..        ...  \n",
       "95    23% off  \n",
       "96    56% off  \n",
       "97    63% off  \n",
       "98    43% off  \n",
       "99    67% off  \n",
       "\n",
       "[100 rows x 4 columns]"
      ]
     },
     "execution_count": 83,
     "metadata": {},
     "output_type": "execute_result"
    }
   ],
   "source": [
    "# Finally creating a dataframe of the required scraped data.\n",
    "sneakers_data = pd.DataFrame({})\n",
    "sneakers_data['Brand']= brand1[:100]\n",
    "sneakers_data['Product Details'] = details1[:100]\n",
    "sneakers_data['Price']= price1[:100]\n",
    "sneakers_data['Discount %']= discount1[:100]\n",
    "sneakers_data"
   ]
  },
  {
   "cell_type": "markdown",
   "metadata": {},
   "source": [
    "# Question No:9"
   ]
  },
  {
   "cell_type": "markdown",
   "metadata": {},
   "source": [
    "Q9: Go to the link - https://www.myntra.com/shoes\n",
    "        \n",
    "Set Price filter to “Rs. 6649 to Rs. 13099” , Color filter to “Black”, as shown in the below image.\n",
    "\n",
    "And then scrape First 100 shoes data you get. The data should include “Brand” of the shoes , Short Shoe description, price of the shoe as shown in the below image.\n",
    "\n",
    "Please note that applying the filter and scraping the data , everything should be \n",
    "done through code only and there should not be any manual step."
   ]
  },
  {
   "cell_type": "code",
   "execution_count": 89,
   "metadata": {},
   "outputs": [],
   "source": [
    "#importing the necessary libraries\n",
    "\n",
    "import selenium\n",
    "import pandas as pd\n",
    "from selenium import webdriver\n",
    "import time\n",
    "from selenium.common.exceptions import NoSuchElementException"
   ]
  },
  {
   "cell_type": "code",
   "execution_count": 90,
   "metadata": {},
   "outputs": [],
   "source": [
    "#Connecting to the Webdriver\n",
    "driver= webdriver.Chrome(\"chromedriver.exe\")"
   ]
  },
  {
   "cell_type": "code",
   "execution_count": 91,
   "metadata": {},
   "outputs": [],
   "source": [
    "#connecting to the url to get the url page to scrape the data\n",
    "url=\"https://www.myntra.com/shoes\"\n",
    "driver.get(url)"
   ]
  },
  {
   "cell_type": "code",
   "execution_count": 92,
   "metadata": {},
   "outputs": [],
   "source": [
    "# Finding elements for the price tag to setting Price filter to “Rs. 6649 to Rs. 13099” .\n",
    "price_filter= driver.find_element_by_xpath(\"//label[@class='common-customCheckbox vertical-filters-label']\")\n",
    "price_filter.click()"
   ]
  },
  {
   "cell_type": "code",
   "execution_count": 93,
   "metadata": {},
   "outputs": [],
   "source": [
    "# Finding the elements for color and setting color filter to Black.\n",
    "color_filter= driver.find_element_by_xpath(\"//label[@class='common-customCheckbox']\")\n",
    "color_filter.click()"
   ]
  },
  {
   "cell_type": "code",
   "execution_count": 94,
   "metadata": {},
   "outputs": [],
   "source": [
    "#Creating the empty Datalists\n",
    "brand2 =[]\n",
    "description2 =[]\n",
    "price2 =[]"
   ]
  },
  {
   "cell_type": "code",
   "execution_count": 95,
   "metadata": {},
   "outputs": [],
   "source": [
    "# Fetching the urls to open each page to scrape the required data.\n",
    "urls =[]\n",
    "for i in range(0,3):\n",
    "    for j in driver.find_elements_by_xpath(\"//li[@class='pagination-active']/a\"):\n",
    "        urls.append(j.get_attribute('href'))\n",
    "    driver.find_element_by_xpath(\"//li[@class='pagination-next']\").click()\n",
    "    time.sleep(4)"
   ]
  },
  {
   "cell_type": "code",
   "execution_count": 96,
   "metadata": {},
   "outputs": [],
   "source": [
    "# Extracting ther data from each url to scrape the data.\n",
    "for i in range(0,3):\n",
    "    for j in driver.find_elements_by_xpath(\"//h3[@class= 'product-brand']\"):\n",
    "        brand2.append(j.text)\n",
    "    for k in driver.find_elements_by_xpath(\"//h4[@class='product-product']\"):\n",
    "        description2.append(k.text)\n",
    "    for m in driver.find_elements_by_xpath(\"//div[@class='product-price']\"):\n",
    "        price2.append(m.text)\n",
    "    driver.find_element_by_xpath(\"//li[@class='pagination-next']\").click()\n",
    "    time.sleep(4)"
   ]
  },
  {
   "cell_type": "code",
   "execution_count": 97,
   "metadata": {},
   "outputs": [
    {
     "data": {
      "text/html": [
       "<div>\n",
       "<style scoped>\n",
       "    .dataframe tbody tr th:only-of-type {\n",
       "        vertical-align: middle;\n",
       "    }\n",
       "\n",
       "    .dataframe tbody tr th {\n",
       "        vertical-align: top;\n",
       "    }\n",
       "\n",
       "    .dataframe thead th {\n",
       "        text-align: right;\n",
       "    }\n",
       "</style>\n",
       "<table border=\"1\" class=\"dataframe\">\n",
       "  <thead>\n",
       "    <tr style=\"text-align: right;\">\n",
       "      <th></th>\n",
       "      <th>Brand</th>\n",
       "      <th>Product Details</th>\n",
       "      <th>Price</th>\n",
       "    </tr>\n",
       "  </thead>\n",
       "  <tbody>\n",
       "    <tr>\n",
       "      <th>0</th>\n",
       "      <td>Roadster</td>\n",
       "      <td>Men Solid Flat Boots</td>\n",
       "      <td>Rs. 1704Rs. 3099( 45 % OFF)</td>\n",
       "    </tr>\n",
       "    <tr>\n",
       "      <th>1</th>\n",
       "      <td>Calvin Klein</td>\n",
       "      <td>Men Printed Mono Sneakers</td>\n",
       "      <td>Rs. 5949Rs. 6999(15% OFF)</td>\n",
       "    </tr>\n",
       "    <tr>\n",
       "      <th>2</th>\n",
       "      <td>Mast &amp; Harbour</td>\n",
       "      <td>Men Sneakers</td>\n",
       "      <td>Rs. 1449Rs. 2899(50% OFF)</td>\n",
       "    </tr>\n",
       "    <tr>\n",
       "      <th>3</th>\n",
       "      <td>Champs</td>\n",
       "      <td>Men Woven Design Sneakers</td>\n",
       "      <td>Rs. 749Rs. 999(25% OFF)</td>\n",
       "    </tr>\n",
       "    <tr>\n",
       "      <th>4</th>\n",
       "      <td>Arrow</td>\n",
       "      <td>Men Solid Leather Loafers</td>\n",
       "      <td>Rs. 2529Rs. 4599(45% OFF)</td>\n",
       "    </tr>\n",
       "    <tr>\n",
       "      <th>...</th>\n",
       "      <td>...</td>\n",
       "      <td>...</td>\n",
       "      <td>...</td>\n",
       "    </tr>\n",
       "    <tr>\n",
       "      <th>95</th>\n",
       "      <td>AfroJack</td>\n",
       "      <td>Men Latex Lined Loafers</td>\n",
       "      <td>Rs. 699Rs. 2663(Rs. 1964 OFF)</td>\n",
       "    </tr>\n",
       "    <tr>\n",
       "      <th>96</th>\n",
       "      <td>Sparx</td>\n",
       "      <td>Men Woven Design Slip-On Sneakers</td>\n",
       "      <td>Rs. 986Rs. 1049(6% OFF)</td>\n",
       "    </tr>\n",
       "    <tr>\n",
       "      <th>97</th>\n",
       "      <td>Puma</td>\n",
       "      <td>Men Pacer Sneakers</td>\n",
       "      <td>Rs. 1599Rs. 3999(60% OFF)</td>\n",
       "    </tr>\n",
       "    <tr>\n",
       "      <th>98</th>\n",
       "      <td>Fentacia</td>\n",
       "      <td>Men Loafers</td>\n",
       "      <td>Rs. 791Rs. 2399(67% OFF)</td>\n",
       "    </tr>\n",
       "    <tr>\n",
       "      <th>99</th>\n",
       "      <td>Duke</td>\n",
       "      <td>Men Synthetic Loafers</td>\n",
       "      <td>Rs. 1018Rs. 2995(66% OFF)</td>\n",
       "    </tr>\n",
       "  </tbody>\n",
       "</table>\n",
       "<p>100 rows × 3 columns</p>\n",
       "</div>"
      ],
      "text/plain": [
       "             Brand                    Product Details  \\\n",
       "0         Roadster               Men Solid Flat Boots   \n",
       "1     Calvin Klein          Men Printed Mono Sneakers   \n",
       "2   Mast & Harbour                       Men Sneakers   \n",
       "3           Champs          Men Woven Design Sneakers   \n",
       "4            Arrow          Men Solid Leather Loafers   \n",
       "..             ...                                ...   \n",
       "95        AfroJack            Men Latex Lined Loafers   \n",
       "96           Sparx  Men Woven Design Slip-On Sneakers   \n",
       "97            Puma                 Men Pacer Sneakers   \n",
       "98        Fentacia                        Men Loafers   \n",
       "99            Duke              Men Synthetic Loafers   \n",
       "\n",
       "                            Price  \n",
       "0     Rs. 1704Rs. 3099( 45 % OFF)  \n",
       "1       Rs. 5949Rs. 6999(15% OFF)  \n",
       "2       Rs. 1449Rs. 2899(50% OFF)  \n",
       "3         Rs. 749Rs. 999(25% OFF)  \n",
       "4       Rs. 2529Rs. 4599(45% OFF)  \n",
       "..                            ...  \n",
       "95  Rs. 699Rs. 2663(Rs. 1964 OFF)  \n",
       "96        Rs. 986Rs. 1049(6% OFF)  \n",
       "97      Rs. 1599Rs. 3999(60% OFF)  \n",
       "98       Rs. 791Rs. 2399(67% OFF)  \n",
       "99      Rs. 1018Rs. 2995(66% OFF)  \n",
       "\n",
       "[100 rows x 3 columns]"
      ]
     },
     "execution_count": 97,
     "metadata": {},
     "output_type": "execute_result"
    }
   ],
   "source": [
    "# Finally creating a dataframe of the scraped data.\n",
    "shoe_data = pd.DataFrame({})\n",
    "shoe_data['Brand']= brand2[:100]\n",
    "shoe_data['Product Details'] = description2[:100]\n",
    "shoe_data['Price']= price2[:100]\n",
    "shoe_data"
   ]
  },
  {
   "cell_type": "markdown",
   "metadata": {},
   "source": [
    "# Question No:10"
   ]
  },
  {
   "cell_type": "markdown",
   "metadata": {},
   "source": [
    "Q10: Go to webpage https://www.amazon.in/\n",
    "\n",
    "Enter “Laptop” in the search field and then click the search icon.\n",
    "\n",
    "Then set CPU Type filter to “Intel Core i7” and “Intel Core i9” as shown in the \n",
    "below image:\n",
    "    \n",
    "After setting the filters scrape first 10 laptops data. You have to scrape 3 attributes \n",
    "for each laptop:\n",
    "1. title\n",
    "2. Ratings\n",
    "3. Price\n",
    "As shown in the below image as the tick marked attributes."
   ]
  },
  {
   "cell_type": "code",
   "execution_count": 1,
   "metadata": {},
   "outputs": [],
   "source": [
    "#importing the necessary libraries\n",
    "\n",
    "import selenium\n",
    "import pandas as pd\n",
    "from selenium import webdriver\n",
    "import time\n",
    "from selenium.common.exceptions import NoSuchElementException\n",
    "import warnings\n",
    "warnings.filterwarnings(\"ignore\")"
   ]
  },
  {
   "cell_type": "code",
   "execution_count": 2,
   "metadata": {},
   "outputs": [],
   "source": [
    "#Connecting to the webdriver\n",
    "driver= webdriver.Chrome(\"chromedriver.exe\")"
   ]
  },
  {
   "cell_type": "code",
   "execution_count": 3,
   "metadata": {},
   "outputs": [],
   "source": [
    "#connecting to the url\n",
    "url=\"https://www.amazon.in/\"\n",
    "driver.get(url)"
   ]
  },
  {
   "cell_type": "code",
   "execution_count": 4,
   "metadata": {},
   "outputs": [],
   "source": [
    "# Entering the laptop in search field to get the laptop details to scrape\n",
    "search_bar= driver.find_element_by_id(\"twotabsearchtextbox\")\n",
    "search_bar.send_keys(\"Laptop\")"
   ]
  },
  {
   "cell_type": "code",
   "execution_count": 5,
   "metadata": {},
   "outputs": [],
   "source": [
    "# Click the search button\n",
    "search_but= driver.find_element_by_id(\"nav-search-submit-button\")\n",
    "search_but.click()"
   ]
  },
  {
   "cell_type": "code",
   "execution_count": 6,
   "metadata": {},
   "outputs": [],
   "source": [
    "# Locating the corei7 details to filter\n",
    "filter_button=driver.find_elements_by_xpath(\"//a[@class='a-link-normal s-navigation-item']/span\")\n",
    "for i in filter_button:\n",
    "    if i.text=='Intel Core i7':\n",
    "        i.click()\n",
    "        break"
   ]
  },
  {
   "cell_type": "code",
   "execution_count": 7,
   "metadata": {},
   "outputs": [],
   "source": [
    "# Locating the corei9 details to filter\n",
    "filter_button=driver.find_elements_by_xpath(\"//a[@class='a-link-normal s-navigation-item']/span\")\n",
    "for i in filter_button:\n",
    "    if i.text=='Intel Core i9':\n",
    "        i.click()\n",
    "        break"
   ]
  },
  {
   "cell_type": "code",
   "execution_count": 8,
   "metadata": {},
   "outputs": [],
   "source": [
    "urls = []\n",
    "for b in driver.find_elements_by_xpath(\"//a[@class='a-link-normal a-text-normal']\"):\n",
    "    urls.append(b.get_attribute(\"href\"))"
   ]
  },
  {
   "cell_type": "code",
   "execution_count": 10,
   "metadata": {},
   "outputs": [
    {
     "data": {
      "text/plain": [
       "26"
      ]
     },
     "execution_count": 10,
     "metadata": {},
     "output_type": "execute_result"
    }
   ],
   "source": [
    "len(urls)"
   ]
  },
  {
   "cell_type": "code",
   "execution_count": 11,
   "metadata": {},
   "outputs": [],
   "source": [
    "#Creating the empty Datalists\n",
    "titlei7_i9 =[]\n",
    "ratingi7_i9 =[]\n",
    "pricei7_i9 =[]"
   ]
  },
  {
   "cell_type": "code",
   "execution_count": 12,
   "metadata": {},
   "outputs": [],
   "source": [
    "for i in urls:\n",
    "    driver.get(i)\n",
    "    time.sleep(5)\n",
    "    '''\n",
    "    try:\n",
    "        title10 = driver.find_element_by_xpath(\"//span[@class='a-size-large product-title-word-break']\")\n",
    "        titlei7_i9.append(title10.text)\n",
    "    except:\n",
    "        titlei7_i9.append(\"--\")\n",
    "    '''   \n",
    "    try:\n",
    "        rate10 = driver.find_element_by_xpath(\"//span[@class='a-size-base a-nowrap']\")\n",
    "        ratingi7_i9.append(rate10.text)\n",
    "    except:\n",
    "        ratingi7_i9.append(\"--\")\n",
    "    try:\n",
    "        price10 = driver.find_element_by_xpath(\"//span[@class='a-size-medium a-color-price priceBlockBuyingPriceString']\")\n",
    "        pricei7_i9.append(price10.text)\n",
    "    except:\n",
    "        pricei7_i9.append(\"--\")"
   ]
  },
  {
   "cell_type": "code",
   "execution_count": 13,
   "metadata": {},
   "outputs": [],
   "source": [
    "for i in urls:\n",
    "    driver.get(i)\n",
    "    time.sleep(5)\n",
    "    title10 = driver.find_element_by_xpath(\"//span[@class='a-size-large product-title-word-break']\")\n",
    "    titlei7_i9.append(title10.text)"
   ]
  },
  {
   "cell_type": "code",
   "execution_count": 14,
   "metadata": {},
   "outputs": [
    {
     "name": "stdout",
     "output_type": "stream",
     "text": [
      "['Dell XPS 9370 13.3-inch FHD Display Thin & Light Laptop (8th Gen i7-8550U/16GB/512GB SSD/Win 10 + MS Office/Integrated Graphics), Gold', 'Mi Notebook Horizon Edition 14 Intel Core i7-10510U 10th Gen Thin and Light Laptop(8GB/512GB SSD/Windows 10/Nvidia MX350 2GB Graphics/Grey/1.35Kg)(Without Webcam) XMA1904-AF', 'Lenovo IdeaPad S540 11th Gen Intel Core i7 13.3\" QHD IPS Thin & Light Laptop (16GB/512GB SSD/Windows 10/MS Office 2019/Intel Iris Xe Graphics/Iron Grey/1.28Kg), 82H1002CIN', 'ASUS ROG G703GI-E5148T 17.3\" (43.94 cms) FHD 144Hz/3ms Gaming Laptop (8th Gen Intel Core i9-8950HK/64GB/2TB SSHD + 1.5TB NVMe SSD/Windows 10/GTX 1080 8GB Graphics/4.70 Kg), Aluminum', 'ASUS TUF Dash F15 (2021) 15.6\" (39.62 cm) FHD 240Hz/3ms, Intel Core i7-11370H, GeForce RTX 3060 6GB Graphics, Gaming Laptop (16GB RAM/1TB SSD/Office 2019/Windows 10 Home/Gray/2 Kg) FX516PM-AZ153TS', 'ASUS TUF Dash F15 (2021), 15.6-inch (39.62 cms) FHD 144Hz, Intel Core i7-11370H 11th Gen, RTX 3050 4GB Graphics Gaming Laptop (16GB RAM/512GB SSD/Windows 10/White/2 kg), FX516PC-HN062T', 'HP Pavilion 13(2021) 11th Gen Intel Core i7 Laptop, 16GB RAM, 1TB SSD, 13.3-inch(33.8 cm) FHD Screen, Win 10, MS Office, Ceramic White, 1.24 Kg (13-bb0078TU)', 'Fujitsu UH-X 11th Gen Intel Core i7 13.3” (33.78cm) FHD IPS 400Nits 2-in1 Touch Convertible Laptop (16GB/1TB SSD/Win10/Office/Iris Xe Graphics/Backlit Kb/Black/997gms), 4ZR1D71993', 'Fujitsu UH-X 11th Gen Intel i7 Core 13.3” (33.78cm) FHD IPS 400Nits Thin and Light Laptop (16GB/512GB SSD/Win10/Office/Iris Xe Graphics/Backlit Kb/ Fingerprint Reader/Black/878gms), 4ZR1D67596', 'HP Pavilion Gaming 11th Gen Intel Core i7 15.6-inch(39.6 cm) FHD Gaming Laptop (16GB RAM/512GB SSD/144Hz/GTX 1650 4GB Graphics/Win 10/MS Office/Shadow Black/2.28 Kg), 15-dk2075tx', 'Lenovo IdeaPad Flex 5 11th Gen Intel Core i7 14\"(35.56cm) FHD IPS 2-in-1 Touchscreen Laptop(16GB/512GB SSD/Windows 10/MS Office/Lenovo Digital Pen/Fingerprint Reader/Graphite Grey/1.5Kg), 82HS0092IN', 'ASUS TUF Gaming F17 (2021), 17.3-inch (43.94 cms) FHD 144Hz, Intel Core i7-11800H 11th Gen, GeForce RTX 3050 Ti 4GB Graphics, Gaming Laptop (16GB/1TB SSD/Windows 10/Eclipse Gray/2.6 Kg) FX766HE-HX022T', 'MSI GF75 Thin, Intel i7-10750H, 17.3\" (43.9 cm) FHD IPS-Level 144Hz Panel Laptop (8GB/512GB NVMe SSD/Windows 10 Home/Nvidia GTX1650 4GB GDDR6/Black/2.2Kg), 10SCXR-654IN', 'Acer Swift 5 14\" (35.56cms) Full HD IPS Display with Touchscreen Ultra Thin and Light Notebook (Intel i7 - 11th Gen/16GB RAM/1TB SSD/Win10/Intel Iris Xe Graphics/1.05 Kg/Mist Green), SF514-55TA', 'Lenovo Yoga 7 11th Gen Intel Core i7 14\" Full HD IPS 2-in-1 Touchscreen Laptop (16GB/512GB SSD/Windows 10/MS Office 2019/Lenovo Digital Pen/Slate Grey/Aluminium Surface/1.43Kg), 82BH00E0IN', 'Lenovo IdeaPad Gaming 3 11th Gen Intel Core i7-11370H 15.6\" (39.63cm) FHD IPS Gaming Laptop (8GB/512GB SSD/Windows 10/NVIDIA RTX 3050 4GB/120Hz Refresh Display/Shadow Black/2.25Kg), 82K1004EIN', 'Lenovo IdeaPad Gaming 3 Intel Core i7 10th Gen 15.6\" FHD IPS 250Nits Gaming Laptop (8GB/512GB SSD/Win10/NVIDIA GTX 1650 4GB GDDR6 Graphics/120Hz/Onyx Black/2.2Kg), 81Y4019EIN', 'Lenovo Legion 7 10th Gen Intel Core i9 15.6 inch Full HD Gaming Laptop (16GB/1TB SSD/Windows 10/MS Office 2019/144 Hz/NVIDIA RTX 2080 8GB GDDR6 Graphics/Slate Grey/2.25Kg), 81YU006HIN', 'ASUS TUF Gaming F15 (2021), 15.6-inch (39.62 cms) FHD 144Hz, Intel Core i7-11800H 11th Gen, GeForce RTX 3050 4GB Graphics, Gaming Laptop (8GB/512GB SSD/Windows 10/Eclipse Gray/2.3 Kg), FX566HC-HN093T', 'Lenovo Legion Y540 9th Gen Intel Core i7-9750HF 15.6\" (39.63cm) FHD IPS Gaming Laptop (8GB/1TB + 256GB SSD/Windows 10/NVIDIA GTX 1650 4GB/60Hz Refresh Display/Raven Black/2.3Kg), 81SY00U7IN', 'Acer Nitro 5 Intel Core i7-11th Gen 15.6-inch (39.62 cms) 144 Hz Refresh Rate Gaming Laptop (8GB RAM/RTX 3050 Graphics/1TB HDD + 256GB SSD/Windows 10 HS/Black/2.4 Kgs), AN515-57', '(Renewed) Hp Intel 4th Gen Core i7 15.6-inch (39.56 Cms) 1920 x 1080 Laptop (32GB RAM /1TB SSD/Windows 10 Pro/MS Office/NVIDIA Graphics/ Gray/2.5kg) HP ZBook 15 Mobile Workstation', 'Lenovo Legion 5 11th Gen Intel Core i7 15.6\"(39.62cm) FHD IPS Gaming Laptop (16GB/512GB SSD/NVIDIA RTX 3050 4GB/120Hz Refresh Rate/Windows 10/MS Office/Backlit Keyboard/Phantom Blue/2.4Kg), 82JK007WIN', '(Renewed) Hp Intel 4th Gen Core i7 15.6-inch (39.56 Cms) 1920 x 1080 Laptop (8GB RAM/256GB SSD/Windows 10 Pro/MS Office/NVIDIA Graphics/ Gray/2.5kg) HP ZBook 15 Mobile Workstation', '(Renewed) ASUS ASUSPRO P5440FA-7812P Intel Core i7 8th Gen 14-inch FHD Thin and Light Laptop (8GB RAM/1TB HDD + 256GB SSD/Windows 10 Professional/Integrated Graphics/1.26 kg), Grey', 'Life Digital Laptop 15.6-inch (39.62 cms) (Intel Core i7, 8GB RAM, 512GB SSD, Windows 10), ZED AIR CX7']\n"
     ]
    }
   ],
   "source": [
    "print(titlei7_i9)"
   ]
  },
  {
   "cell_type": "code",
   "execution_count": 15,
   "metadata": {},
   "outputs": [
    {
     "name": "stdout",
     "output_type": "stream",
     "text": [
      "['2.8 out of 5', '4.2 out of 5', '4.3 out of 5', '3.7 out of 5', '3.7 out of 5', '--', '5 out of 5', '4.1 out of 5', '4.2 out of 5', '3.7 out of 5', '4.1 out of 5', '--', '4 out of 5', '3.7 out of 5', '2.4 out of 5', '4.7 out of 5', '4.4 out of 5', '3.6 out of 5', '3.3 out of 5', '4.3 out of 5', '4.5 out of 5', '5 out of 5', '2 out of 5', '--', '--', '3.1 out of 5']\n"
     ]
    }
   ],
   "source": [
    "print(ratingi7_i9)"
   ]
  },
  {
   "cell_type": "code",
   "execution_count": 16,
   "metadata": {},
   "outputs": [
    {
     "name": "stdout",
     "output_type": "stream",
     "text": [
      "['₹1,14,990.00', '₹57,990.00', '₹77,990.00', '₹5,56,524.00', '--', '--', '₹92,990.00', '₹1,07,990.00', '₹92,990.00', '--', '--', '₹1,13,990.00', '₹74,990.00', '₹94,999.00', '₹97,989.00', '₹84,990.00', '₹73,990.00', '₹1,99,990.00', '₹96,990.00', '₹72,990.00', '₹89,999.00', '₹53,999.00', '--', '₹41,999.00', '₹74,999.00', '₹39,990.00']\n"
     ]
    }
   ],
   "source": [
    "print(pricei7_i9)"
   ]
  },
  {
   "cell_type": "code",
   "execution_count": 19,
   "metadata": {},
   "outputs": [
    {
     "data": {
      "text/html": [
       "<div>\n",
       "<style scoped>\n",
       "    .dataframe tbody tr th:only-of-type {\n",
       "        vertical-align: middle;\n",
       "    }\n",
       "\n",
       "    .dataframe tbody tr th {\n",
       "        vertical-align: top;\n",
       "    }\n",
       "\n",
       "    .dataframe thead th {\n",
       "        text-align: right;\n",
       "    }\n",
       "</style>\n",
       "<table border=\"1\" class=\"dataframe\">\n",
       "  <thead>\n",
       "    <tr style=\"text-align: right;\">\n",
       "      <th></th>\n",
       "      <th>title</th>\n",
       "      <th>Ratings</th>\n",
       "      <th>Price</th>\n",
       "    </tr>\n",
       "  </thead>\n",
       "  <tbody>\n",
       "    <tr>\n",
       "      <th>0</th>\n",
       "      <td>Dell XPS 9370 13.3-inch FHD Display Thin &amp; Lig...</td>\n",
       "      <td>2.8 out of 5</td>\n",
       "      <td>₹1,14,990.00</td>\n",
       "    </tr>\n",
       "    <tr>\n",
       "      <th>1</th>\n",
       "      <td>Mi Notebook Horizon Edition 14 Intel Core i7-1...</td>\n",
       "      <td>4.2 out of 5</td>\n",
       "      <td>₹57,990.00</td>\n",
       "    </tr>\n",
       "    <tr>\n",
       "      <th>2</th>\n",
       "      <td>Lenovo IdeaPad S540 11th Gen Intel Core i7 13....</td>\n",
       "      <td>4.3 out of 5</td>\n",
       "      <td>₹77,990.00</td>\n",
       "    </tr>\n",
       "    <tr>\n",
       "      <th>3</th>\n",
       "      <td>ASUS ROG G703GI-E5148T 17.3\" (43.94 cms) FHD 1...</td>\n",
       "      <td>3.7 out of 5</td>\n",
       "      <td>₹5,56,524.00</td>\n",
       "    </tr>\n",
       "    <tr>\n",
       "      <th>4</th>\n",
       "      <td>ASUS TUF Dash F15 (2021) 15.6\" (39.62 cm) FHD ...</td>\n",
       "      <td>3.7 out of 5</td>\n",
       "      <td>--</td>\n",
       "    </tr>\n",
       "    <tr>\n",
       "      <th>5</th>\n",
       "      <td>ASUS TUF Dash F15 (2021), 15.6-inch (39.62 cms...</td>\n",
       "      <td>--</td>\n",
       "      <td>--</td>\n",
       "    </tr>\n",
       "    <tr>\n",
       "      <th>6</th>\n",
       "      <td>HP Pavilion 13(2021) 11th Gen Intel Core i7 La...</td>\n",
       "      <td>5 out of 5</td>\n",
       "      <td>₹92,990.00</td>\n",
       "    </tr>\n",
       "    <tr>\n",
       "      <th>7</th>\n",
       "      <td>Fujitsu UH-X 11th Gen Intel Core i7 13.3” (33....</td>\n",
       "      <td>4.1 out of 5</td>\n",
       "      <td>₹1,07,990.00</td>\n",
       "    </tr>\n",
       "    <tr>\n",
       "      <th>8</th>\n",
       "      <td>Fujitsu UH-X 11th Gen Intel i7 Core 13.3” (33....</td>\n",
       "      <td>4.2 out of 5</td>\n",
       "      <td>₹92,990.00</td>\n",
       "    </tr>\n",
       "    <tr>\n",
       "      <th>9</th>\n",
       "      <td>HP Pavilion Gaming 11th Gen Intel Core i7 15.6...</td>\n",
       "      <td>3.7 out of 5</td>\n",
       "      <td>--</td>\n",
       "    </tr>\n",
       "  </tbody>\n",
       "</table>\n",
       "</div>"
      ],
      "text/plain": [
       "                                               title       Ratings  \\\n",
       "0  Dell XPS 9370 13.3-inch FHD Display Thin & Lig...  2.8 out of 5   \n",
       "1  Mi Notebook Horizon Edition 14 Intel Core i7-1...  4.2 out of 5   \n",
       "2  Lenovo IdeaPad S540 11th Gen Intel Core i7 13....  4.3 out of 5   \n",
       "3  ASUS ROG G703GI-E5148T 17.3\" (43.94 cms) FHD 1...  3.7 out of 5   \n",
       "4  ASUS TUF Dash F15 (2021) 15.6\" (39.62 cm) FHD ...  3.7 out of 5   \n",
       "5  ASUS TUF Dash F15 (2021), 15.6-inch (39.62 cms...            --   \n",
       "6  HP Pavilion 13(2021) 11th Gen Intel Core i7 La...    5 out of 5   \n",
       "7  Fujitsu UH-X 11th Gen Intel Core i7 13.3” (33....  4.1 out of 5   \n",
       "8  Fujitsu UH-X 11th Gen Intel i7 Core 13.3” (33....  4.2 out of 5   \n",
       "9  HP Pavilion Gaming 11th Gen Intel Core i7 15.6...  3.7 out of 5   \n",
       "\n",
       "          Price  \n",
       "0  ₹1,14,990.00  \n",
       "1    ₹57,990.00  \n",
       "2    ₹77,990.00  \n",
       "3  ₹5,56,524.00  \n",
       "4            --  \n",
       "5            --  \n",
       "6    ₹92,990.00  \n",
       "7  ₹1,07,990.00  \n",
       "8    ₹92,990.00  \n",
       "9            --  "
      ]
     },
     "execution_count": 19,
     "metadata": {},
     "output_type": "execute_result"
    }
   ],
   "source": [
    "# Finally create a dataframe of the scraped data.\n",
    "df_laptops = pd.DataFrame({})\n",
    "df_laptops['title']= titlei7_i9\n",
    "df_laptops['Ratings'] = ratingi7_i9\n",
    "df_laptops['Price']= pricei7_i9\n",
    "df_laptops[:10]"
   ]
  },
  {
   "cell_type": "code",
   "execution_count": null,
   "metadata": {},
   "outputs": [],
   "source": []
  }
 ],
 "metadata": {
  "kernelspec": {
   "display_name": "Python 3",
   "language": "python",
   "name": "python3"
  },
  "language_info": {
   "codemirror_mode": {
    "name": "ipython",
    "version": 3
   },
   "file_extension": ".py",
   "mimetype": "text/x-python",
   "name": "python",
   "nbconvert_exporter": "python",
   "pygments_lexer": "ipython3",
   "version": "3.8.5"
  }
 },
 "nbformat": 4,
 "nbformat_minor": 4
}
